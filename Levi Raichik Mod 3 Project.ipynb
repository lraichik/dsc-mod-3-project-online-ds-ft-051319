{
 "cells": [
  {
   "cell_type": "markdown",
   "metadata": {},
   "source": [
    "# Table of contents\n",
    "\n",
    "* [Import Libraries](#Import-Libraries)\n",
    "* [Functions](#Functions)\n",
    "* [First Question](#First-Question)\n",
    "    * [Load in information needed](#Load-in-information-needed)\n",
    "    * [Checkout the information](#Checkout-the-information)\n",
    "    * [Answering the Hypothosis](#Answering-the-Hypothosis)\n",
    "    * [Effect size of discount](#Effect-size-of-discount)\n",
    "    * [What amount of discount makes the most difference with regards to quantity ordered?](#What-amount-of-discount-makes-the-most-difference-with-regards-to-quantity-ordered?)\n",
    "    * [Effect sizes of each Discount amount](#Effect-sizes-of-each-Discount-amount)\n",
    "    * [Conclusion and Recommendation](#Conclusion-and-Recommendation)\n",
    "* [Second Question](#Second-Question)\n",
    "    * [Load in information needed for 2nd question](#Load-in-information-needed-for-2nd-question)\n",
    "    * [Checkout the information for the 2nd question](#Checkout-the-information-for-the-2nd-question)\n",
    "    * [Answering the 2nd question](#Answering-the-2nd-question)\n",
    "    * [Conclusion and Recommendation for 2nd question](#Conclusion-and-Recommendation-for-2nd-question)\n",
    "* [Third Question](#Third-Question)\n",
    "    * [Load in information needed for 3rd question](#Load-in-information-needed-for-3rd-question)\n",
    "    * [Checkout the information for the 3rd question](#Checkout-the-information-for-the-3rd-question)\n",
    "    * [Conclusion and Recommendation for 3rd question](#Conclusion-and-Recommendation-for-3rd-question)\n",
    "* [Fourth Question](#Fourth-Question)\n",
    "    * [Load in information needed for 4th question](#Load-in-information-needed-for-4th-question)\n",
    "    * [Checkout the information for the 4th question](#Checkout-the-information-for-the-4th-question)\n",
    "    * [Conclusion and Recommendation for 4th question](#Conclusion-and-Recommendation-for-4th-question)"
   ]
  },
  {
   "cell_type": "markdown",
   "metadata": {},
   "source": [
    "## Import Libraries "
   ]
  },
  {
   "cell_type": "code",
   "execution_count": 1,
   "metadata": {},
   "outputs": [],
   "source": [
    "import pandas as pd\n",
    "import numpy as np\n",
    "import matplotlib.pyplot as plt\n",
    "%matplotlib inline\n",
    "import seaborn as sns\n",
    "import sqlite3\n",
    "import statsmodels.api as sm\n",
    "from statsmodels.formula.api import ols\n",
    "import scipy.stats as stats\n",
    "from statsmodels.stats.power import TTestIndPower, TTestPower\n",
    "import datetime"
   ]
  },
  {
   "cell_type": "code",
   "execution_count": 2,
   "metadata": {},
   "outputs": [],
   "source": [
    "power_analysis = TTestIndPower()"
   ]
  },
  {
   "cell_type": "code",
   "execution_count": 3,
   "metadata": {},
   "outputs": [],
   "source": [
    "conn = sqlite3.Connection('Northwind_small.sqlite')\n",
    "c = conn.cursor()"
   ]
  },
  {
   "cell_type": "markdown",
   "metadata": {},
   "source": [
    "[Return to contents](#Table-of-contents)"
   ]
  },
  {
   "cell_type": "markdown",
   "metadata": {},
   "source": [
    "## Functions"
   ]
  },
  {
   "cell_type": "code",
   "execution_count": 4,
   "metadata": {},
   "outputs": [],
   "source": [
    "def Cohen_d(group1, group2):\n",
    "\n",
    "    diff = group1.mean() - group2.mean()\n",
    "\n",
    "    n1, n2 = len(group1), len(group2)\n",
    "    var1 = group1.var()\n",
    "    var2 = group2.var()\n",
    "\n",
    "    pooled_var = (n1 * var1 + n2 * var2) / (n1 + n2)\n",
    "    \n",
    "    d = diff / np.sqrt(pooled_var)\n",
    "    \n",
    "    return d"
   ]
  },
  {
   "cell_type": "code",
   "execution_count": 5,
   "metadata": {},
   "outputs": [],
   "source": [
    "def Cohen_d_list(group1, group2):\n",
    "\n",
    "    diff = np.mean(group1) - np.mean(group2)\n",
    "\n",
    "    n1, n2 = len(group1), len(group2)\n",
    "    var1 = np.var(group1)\n",
    "    var2 = np.var(group2)\n",
    "\n",
    "    pooled_var = (n1 * var1 + n2 * var2) / (n1 + n2)\n",
    "    \n",
    "    d = diff / np.sqrt(pooled_var)\n",
    "    \n",
    "    return d"
   ]
  },
  {
   "cell_type": "code",
   "execution_count": 284,
   "metadata": {},
   "outputs": [],
   "source": [
    "def Cohen_d_np(group1, group2):\n",
    "\n",
    "    diff = group1.mean() - group2.mean()\n",
    "\n",
    "    n1, n2 = np.shape(group1)[0], np.shape(group2)[0]\n",
    "    var1 = group1.var()\n",
    "    var2 = group2.var()\n",
    "\n",
    "    pooled_var = (n1 * var1 + n2 * var2) / (n1 + n2)\n",
    "    \n",
    "    d = diff / np.sqrt(pooled_var)\n",
    "    \n",
    "    return d"
   ]
  },
  {
   "cell_type": "code",
   "execution_count": 6,
   "metadata": {},
   "outputs": [],
   "source": [
    "def bootstrap(sample, n):\n",
    "    boots = []\n",
    "    for i in range(n):\n",
    "        boot = sample.sample(n=len(sample), replace=True)\n",
    "        boots.append(boot)\n",
    "    return boots"
   ]
  },
  {
   "cell_type": "markdown",
   "metadata": {},
   "source": [
    "## Northwind Database Map"
   ]
  },
  {
   "cell_type": "markdown",
   "metadata": {},
   "source": [
    "<img src='Northwind_ERD_updated.png'>"
   ]
  },
  {
   "cell_type": "markdown",
   "metadata": {},
   "source": [
    "# First Question"
   ]
  },
  {
   "cell_type": "markdown",
   "metadata": {},
   "source": [
    "Does discount amount have a statistically significant effect on the quantity of a product in an order? If so, at what level(s) of discount?  \n",
    "\n",
    "Null Hypothosis: Discount does not affect quantity of product ordered  \n",
    "Alternative Hypthosis: Discount does effect the quantity of product ordered  \n",
    "Alpha: .05  "
   ]
  },
  {
   "cell_type": "markdown",
   "metadata": {},
   "source": [
    "[Return to contents](#Table-of-contents)"
   ]
  },
  {
   "cell_type": "markdown",
   "metadata": {},
   "source": [
    "## Load in information needed"
   ]
  },
  {
   "cell_type": "code",
   "execution_count": 7,
   "metadata": {},
   "outputs": [
    {
     "data": {
      "text/html": [
       "<div>\n",
       "<style scoped>\n",
       "    .dataframe tbody tr th:only-of-type {\n",
       "        vertical-align: middle;\n",
       "    }\n",
       "\n",
       "    .dataframe tbody tr th {\n",
       "        vertical-align: top;\n",
       "    }\n",
       "\n",
       "    .dataframe thead th {\n",
       "        text-align: right;\n",
       "    }\n",
       "</style>\n",
       "<table border=\"1\" class=\"dataframe\">\n",
       "  <thead>\n",
       "    <tr style=\"text-align: right;\">\n",
       "      <th></th>\n",
       "      <th>Id</th>\n",
       "      <th>OrderId</th>\n",
       "      <th>ProductId</th>\n",
       "      <th>UnitPrice</th>\n",
       "      <th>Quantity</th>\n",
       "      <th>Discount</th>\n",
       "    </tr>\n",
       "  </thead>\n",
       "  <tbody>\n",
       "    <tr>\n",
       "      <th>0</th>\n",
       "      <td>10248/11</td>\n",
       "      <td>10248</td>\n",
       "      <td>11</td>\n",
       "      <td>14.0</td>\n",
       "      <td>12</td>\n",
       "      <td>0.0</td>\n",
       "    </tr>\n",
       "    <tr>\n",
       "      <th>1</th>\n",
       "      <td>10248/42</td>\n",
       "      <td>10248</td>\n",
       "      <td>42</td>\n",
       "      <td>9.8</td>\n",
       "      <td>10</td>\n",
       "      <td>0.0</td>\n",
       "    </tr>\n",
       "    <tr>\n",
       "      <th>2</th>\n",
       "      <td>10248/72</td>\n",
       "      <td>10248</td>\n",
       "      <td>72</td>\n",
       "      <td>34.8</td>\n",
       "      <td>5</td>\n",
       "      <td>0.0</td>\n",
       "    </tr>\n",
       "    <tr>\n",
       "      <th>3</th>\n",
       "      <td>10249/14</td>\n",
       "      <td>10249</td>\n",
       "      <td>14</td>\n",
       "      <td>18.6</td>\n",
       "      <td>9</td>\n",
       "      <td>0.0</td>\n",
       "    </tr>\n",
       "    <tr>\n",
       "      <th>4</th>\n",
       "      <td>10249/51</td>\n",
       "      <td>10249</td>\n",
       "      <td>51</td>\n",
       "      <td>42.4</td>\n",
       "      <td>40</td>\n",
       "      <td>0.0</td>\n",
       "    </tr>\n",
       "  </tbody>\n",
       "</table>\n",
       "</div>"
      ],
      "text/plain": [
       "         Id  OrderId  ProductId  UnitPrice  Quantity  Discount\n",
       "0  10248/11    10248         11       14.0        12       0.0\n",
       "1  10248/42    10248         42        9.8        10       0.0\n",
       "2  10248/72    10248         72       34.8         5       0.0\n",
       "3  10249/14    10249         14       18.6         9       0.0\n",
       "4  10249/51    10249         51       42.4        40       0.0"
      ]
     },
     "execution_count": 7,
     "metadata": {},
     "output_type": "execute_result"
    }
   ],
   "source": [
    "c.execute('''Select * from OrderDetail;''')\n",
    "discountdf = pd.DataFrame(c.fetchall())\n",
    "discountdf.columns = [x[0] for x in c.description]\n",
    "discountdf.head()"
   ]
  },
  {
   "cell_type": "markdown",
   "metadata": {},
   "source": [
    "[Return to contents](#Table-of-contents)"
   ]
  },
  {
   "cell_type": "markdown",
   "metadata": {},
   "source": [
    "## Checkout the information"
   ]
  },
  {
   "cell_type": "markdown",
   "metadata": {},
   "source": [
    "I want to first see how many items have discounts and how the discount is represented, by dollars or percentage"
   ]
  },
  {
   "cell_type": "code",
   "execution_count": 8,
   "metadata": {},
   "outputs": [
    {
     "data": {
      "text/plain": [
       "0.00    1317\n",
       "0.05     185\n",
       "0.10     173\n",
       "0.20     161\n",
       "0.15     157\n",
       "0.25     154\n",
       "0.03       3\n",
       "0.02       2\n",
       "0.01       1\n",
       "0.04       1\n",
       "0.06       1\n",
       "Name: Discount, dtype: int64"
      ]
     },
     "execution_count": 8,
     "metadata": {},
     "output_type": "execute_result"
    }
   ],
   "source": [
    "discountdf.Discount.value_counts()"
   ]
  },
  {
   "cell_type": "markdown",
   "metadata": {},
   "source": [
    "It seems to be in percentages and we have 838 items that had a discount on them when ordered"
   ]
  },
  {
   "cell_type": "code",
   "execution_count": 9,
   "metadata": {},
   "outputs": [
    {
     "data": {
      "text/html": [
       "<div>\n",
       "<style scoped>\n",
       "    .dataframe tbody tr th:only-of-type {\n",
       "        vertical-align: middle;\n",
       "    }\n",
       "\n",
       "    .dataframe tbody tr th {\n",
       "        vertical-align: top;\n",
       "    }\n",
       "\n",
       "    .dataframe thead th {\n",
       "        text-align: right;\n",
       "    }\n",
       "</style>\n",
       "<table border=\"1\" class=\"dataframe\">\n",
       "  <thead>\n",
       "    <tr style=\"text-align: right;\">\n",
       "      <th></th>\n",
       "      <th>OrderId</th>\n",
       "      <th>ProductId</th>\n",
       "      <th>UnitPrice</th>\n",
       "      <th>Quantity</th>\n",
       "      <th>Discount</th>\n",
       "    </tr>\n",
       "  </thead>\n",
       "  <tbody>\n",
       "    <tr>\n",
       "      <th>count</th>\n",
       "      <td>2155.000000</td>\n",
       "      <td>2155.000000</td>\n",
       "      <td>2155.000000</td>\n",
       "      <td>2155.000000</td>\n",
       "      <td>2155.000000</td>\n",
       "    </tr>\n",
       "    <tr>\n",
       "      <th>mean</th>\n",
       "      <td>10659.375870</td>\n",
       "      <td>40.793039</td>\n",
       "      <td>26.218520</td>\n",
       "      <td>23.812993</td>\n",
       "      <td>0.056167</td>\n",
       "    </tr>\n",
       "    <tr>\n",
       "      <th>std</th>\n",
       "      <td>241.378032</td>\n",
       "      <td>22.159019</td>\n",
       "      <td>29.827418</td>\n",
       "      <td>19.022047</td>\n",
       "      <td>0.083450</td>\n",
       "    </tr>\n",
       "    <tr>\n",
       "      <th>min</th>\n",
       "      <td>10248.000000</td>\n",
       "      <td>1.000000</td>\n",
       "      <td>2.000000</td>\n",
       "      <td>1.000000</td>\n",
       "      <td>0.000000</td>\n",
       "    </tr>\n",
       "    <tr>\n",
       "      <th>25%</th>\n",
       "      <td>10451.000000</td>\n",
       "      <td>22.000000</td>\n",
       "      <td>12.000000</td>\n",
       "      <td>10.000000</td>\n",
       "      <td>0.000000</td>\n",
       "    </tr>\n",
       "    <tr>\n",
       "      <th>50%</th>\n",
       "      <td>10657.000000</td>\n",
       "      <td>41.000000</td>\n",
       "      <td>18.400000</td>\n",
       "      <td>20.000000</td>\n",
       "      <td>0.000000</td>\n",
       "    </tr>\n",
       "    <tr>\n",
       "      <th>75%</th>\n",
       "      <td>10862.500000</td>\n",
       "      <td>60.000000</td>\n",
       "      <td>32.000000</td>\n",
       "      <td>30.000000</td>\n",
       "      <td>0.100000</td>\n",
       "    </tr>\n",
       "    <tr>\n",
       "      <th>max</th>\n",
       "      <td>11077.000000</td>\n",
       "      <td>77.000000</td>\n",
       "      <td>263.500000</td>\n",
       "      <td>130.000000</td>\n",
       "      <td>0.250000</td>\n",
       "    </tr>\n",
       "  </tbody>\n",
       "</table>\n",
       "</div>"
      ],
      "text/plain": [
       "            OrderId    ProductId    UnitPrice     Quantity     Discount\n",
       "count   2155.000000  2155.000000  2155.000000  2155.000000  2155.000000\n",
       "mean   10659.375870    40.793039    26.218520    23.812993     0.056167\n",
       "std      241.378032    22.159019    29.827418    19.022047     0.083450\n",
       "min    10248.000000     1.000000     2.000000     1.000000     0.000000\n",
       "25%    10451.000000    22.000000    12.000000    10.000000     0.000000\n",
       "50%    10657.000000    41.000000    18.400000    20.000000     0.000000\n",
       "75%    10862.500000    60.000000    32.000000    30.000000     0.100000\n",
       "max    11077.000000    77.000000   263.500000   130.000000     0.250000"
      ]
     },
     "execution_count": 9,
     "metadata": {},
     "output_type": "execute_result"
    }
   ],
   "source": [
    "discountdf.describe()"
   ]
  },
  {
   "cell_type": "markdown",
   "metadata": {},
   "source": [
    "Checking for Null values"
   ]
  },
  {
   "cell_type": "code",
   "execution_count": 10,
   "metadata": {},
   "outputs": [
    {
     "data": {
      "text/plain": [
       "Id           0\n",
       "OrderId      0\n",
       "ProductId    0\n",
       "UnitPrice    0\n",
       "Quantity     0\n",
       "Discount     0\n",
       "dtype: int64"
      ]
     },
     "execution_count": 10,
     "metadata": {},
     "output_type": "execute_result"
    }
   ],
   "source": [
    "discountdf.isna().sum()"
   ]
  },
  {
   "cell_type": "markdown",
   "metadata": {},
   "source": [
    "No null values"
   ]
  },
  {
   "cell_type": "markdown",
   "metadata": {},
   "source": [
    "Checking for placeholder values"
   ]
  },
  {
   "cell_type": "code",
   "execution_count": 11,
   "metadata": {},
   "outputs": [
    {
     "data": {
      "text/plain": [
       "array([ 12,  10,   5,   9,  40,  35,  15,   6,  20,  25,  42,  21,  30,\n",
       "        50,  65,   1,  16,   2,  60,  28,  36,  70,   4,  24,  33,   7,\n",
       "         8,  18,   3,  45, 100,  14,  80,  48,  56,  13,  77,  54,  55,\n",
       "        32, 120,  49,  90,  39,  84,  11, 110,  27,  44, 130,  52,  91,\n",
       "        66,  63,  22], dtype=int64)"
      ]
     },
     "execution_count": 11,
     "metadata": {},
     "output_type": "execute_result"
    }
   ],
   "source": [
    "discountdf.Quantity.unique()"
   ]
  },
  {
   "cell_type": "code",
   "execution_count": 12,
   "metadata": {},
   "outputs": [
    {
     "data": {
      "text/plain": [
       "array([0.  , 0.15, 0.05, 0.2 , 0.25, 0.1 , 0.02, 0.03, 0.04, 0.06, 0.01])"
      ]
     },
     "execution_count": 12,
     "metadata": {},
     "output_type": "execute_result"
    }
   ],
   "source": [
    "discountdf.Discount.unique()"
   ]
  },
  {
   "cell_type": "markdown",
   "metadata": {},
   "source": [
    "[Return to contents](#Table-of-contents)"
   ]
  },
  {
   "cell_type": "markdown",
   "metadata": {},
   "source": [
    "## Answering the Hypothosis"
   ]
  },
  {
   "cell_type": "markdown",
   "metadata": {},
   "source": [
    "Make a column that has a 1 if there is a discount and a 0 if there is not a discount"
   ]
  },
  {
   "cell_type": "code",
   "execution_count": 13,
   "metadata": {},
   "outputs": [],
   "source": [
    "discountdf['is_discount'] = 1\n",
    "discountdf.loc[discountdf.Discount == 0, 'is_discount'] = 0"
   ]
  },
  {
   "cell_type": "code",
   "execution_count": 14,
   "metadata": {},
   "outputs": [
    {
     "data": {
      "text/html": [
       "<div>\n",
       "<style scoped>\n",
       "    .dataframe tbody tr th:only-of-type {\n",
       "        vertical-align: middle;\n",
       "    }\n",
       "\n",
       "    .dataframe tbody tr th {\n",
       "        vertical-align: top;\n",
       "    }\n",
       "\n",
       "    .dataframe thead th {\n",
       "        text-align: right;\n",
       "    }\n",
       "</style>\n",
       "<table border=\"1\" class=\"dataframe\">\n",
       "  <thead>\n",
       "    <tr style=\"text-align: right;\">\n",
       "      <th></th>\n",
       "      <th>Id</th>\n",
       "      <th>OrderId</th>\n",
       "      <th>ProductId</th>\n",
       "      <th>UnitPrice</th>\n",
       "      <th>Quantity</th>\n",
       "      <th>Discount</th>\n",
       "      <th>is_discount</th>\n",
       "    </tr>\n",
       "  </thead>\n",
       "  <tbody>\n",
       "    <tr>\n",
       "      <th>2150</th>\n",
       "      <td>11077/64</td>\n",
       "      <td>11077</td>\n",
       "      <td>64</td>\n",
       "      <td>33.25</td>\n",
       "      <td>2</td>\n",
       "      <td>0.03</td>\n",
       "      <td>1</td>\n",
       "    </tr>\n",
       "    <tr>\n",
       "      <th>2151</th>\n",
       "      <td>11077/66</td>\n",
       "      <td>11077</td>\n",
       "      <td>66</td>\n",
       "      <td>17.00</td>\n",
       "      <td>1</td>\n",
       "      <td>0.00</td>\n",
       "      <td>0</td>\n",
       "    </tr>\n",
       "    <tr>\n",
       "      <th>2152</th>\n",
       "      <td>11077/73</td>\n",
       "      <td>11077</td>\n",
       "      <td>73</td>\n",
       "      <td>15.00</td>\n",
       "      <td>2</td>\n",
       "      <td>0.01</td>\n",
       "      <td>1</td>\n",
       "    </tr>\n",
       "    <tr>\n",
       "      <th>2153</th>\n",
       "      <td>11077/75</td>\n",
       "      <td>11077</td>\n",
       "      <td>75</td>\n",
       "      <td>7.75</td>\n",
       "      <td>4</td>\n",
       "      <td>0.00</td>\n",
       "      <td>0</td>\n",
       "    </tr>\n",
       "    <tr>\n",
       "      <th>2154</th>\n",
       "      <td>11077/77</td>\n",
       "      <td>11077</td>\n",
       "      <td>77</td>\n",
       "      <td>13.00</td>\n",
       "      <td>2</td>\n",
       "      <td>0.00</td>\n",
       "      <td>0</td>\n",
       "    </tr>\n",
       "  </tbody>\n",
       "</table>\n",
       "</div>"
      ],
      "text/plain": [
       "            Id  OrderId  ProductId  UnitPrice  Quantity  Discount  is_discount\n",
       "2150  11077/64    11077         64      33.25         2      0.03            1\n",
       "2151  11077/66    11077         66      17.00         1      0.00            0\n",
       "2152  11077/73    11077         73      15.00         2      0.01            1\n",
       "2153  11077/75    11077         75       7.75         4      0.00            0\n",
       "2154  11077/77    11077         77      13.00         2      0.00            0"
      ]
     },
     "execution_count": 14,
     "metadata": {},
     "output_type": "execute_result"
    }
   ],
   "source": [
    "discountdf.tail()"
   ]
  },
  {
   "cell_type": "markdown",
   "metadata": {},
   "source": [
    "Test Hypothosis One with an Anova table as I am dealing with categorical data"
   ]
  },
  {
   "cell_type": "code",
   "execution_count": 15,
   "metadata": {},
   "outputs": [
    {
     "name": "stdout",
     "output_type": "stream",
     "text": [
      "                       sum_sq      df          F        PR(>F)\n",
      "C(is_discount)   14903.513199     1.0  41.971781  1.144092e-10\n",
      "Residual        764496.122996  2153.0        NaN           NaN\n"
     ]
    }
   ],
   "source": [
    "formula1 = 'Quantity ~ C(is_discount)'\n",
    "lm = ols(formula1, discountdf).fit()\n",
    "table = sm.stats.anova_lm(lm, typ=2)\n",
    "print(table)"
   ]
  },
  {
   "cell_type": "markdown",
   "metadata": {},
   "source": [
    "Very low P-Value so I can reject the Null Hypothosis that discount does not have an affect on quantity ordered"
   ]
  },
  {
   "cell_type": "markdown",
   "metadata": {},
   "source": [
    "[Return to contents](#Table-of-contents)"
   ]
  },
  {
   "cell_type": "markdown",
   "metadata": {},
   "source": [
    "## Effect size of discount"
   ]
  },
  {
   "cell_type": "markdown",
   "metadata": {},
   "source": [
    "To figure out how much of an effect a discount has on the quantity ordered, I will split the information into 2 dataframes, one for discounts and one for no discount"
   ]
  },
  {
   "cell_type": "code",
   "execution_count": 16,
   "metadata": {},
   "outputs": [
    {
     "data": {
      "text/html": [
       "<div>\n",
       "<style scoped>\n",
       "    .dataframe tbody tr th:only-of-type {\n",
       "        vertical-align: middle;\n",
       "    }\n",
       "\n",
       "    .dataframe tbody tr th {\n",
       "        vertical-align: top;\n",
       "    }\n",
       "\n",
       "    .dataframe thead th {\n",
       "        text-align: right;\n",
       "    }\n",
       "</style>\n",
       "<table border=\"1\" class=\"dataframe\">\n",
       "  <thead>\n",
       "    <tr style=\"text-align: right;\">\n",
       "      <th></th>\n",
       "      <th>Id</th>\n",
       "      <th>OrderId</th>\n",
       "      <th>ProductId</th>\n",
       "      <th>UnitPrice</th>\n",
       "      <th>Quantity</th>\n",
       "      <th>Discount</th>\n",
       "      <th>is_discount</th>\n",
       "    </tr>\n",
       "  </thead>\n",
       "  <tbody>\n",
       "    <tr>\n",
       "      <th>6</th>\n",
       "      <td>10250/51</td>\n",
       "      <td>10250</td>\n",
       "      <td>51</td>\n",
       "      <td>42.4</td>\n",
       "      <td>35</td>\n",
       "      <td>0.15</td>\n",
       "      <td>1</td>\n",
       "    </tr>\n",
       "    <tr>\n",
       "      <th>7</th>\n",
       "      <td>10250/65</td>\n",
       "      <td>10250</td>\n",
       "      <td>65</td>\n",
       "      <td>16.8</td>\n",
       "      <td>15</td>\n",
       "      <td>0.15</td>\n",
       "      <td>1</td>\n",
       "    </tr>\n",
       "    <tr>\n",
       "      <th>8</th>\n",
       "      <td>10251/22</td>\n",
       "      <td>10251</td>\n",
       "      <td>22</td>\n",
       "      <td>16.8</td>\n",
       "      <td>6</td>\n",
       "      <td>0.05</td>\n",
       "      <td>1</td>\n",
       "    </tr>\n",
       "    <tr>\n",
       "      <th>9</th>\n",
       "      <td>10251/57</td>\n",
       "      <td>10251</td>\n",
       "      <td>57</td>\n",
       "      <td>15.6</td>\n",
       "      <td>15</td>\n",
       "      <td>0.05</td>\n",
       "      <td>1</td>\n",
       "    </tr>\n",
       "    <tr>\n",
       "      <th>11</th>\n",
       "      <td>10252/20</td>\n",
       "      <td>10252</td>\n",
       "      <td>20</td>\n",
       "      <td>64.8</td>\n",
       "      <td>40</td>\n",
       "      <td>0.05</td>\n",
       "      <td>1</td>\n",
       "    </tr>\n",
       "  </tbody>\n",
       "</table>\n",
       "</div>"
      ],
      "text/plain": [
       "          Id  OrderId  ProductId  UnitPrice  Quantity  Discount  is_discount\n",
       "6   10250/51    10250         51       42.4        35      0.15            1\n",
       "7   10250/65    10250         65       16.8        15      0.15            1\n",
       "8   10251/22    10251         22       16.8         6      0.05            1\n",
       "9   10251/57    10251         57       15.6        15      0.05            1\n",
       "11  10252/20    10252         20       64.8        40      0.05            1"
      ]
     },
     "execution_count": 16,
     "metadata": {},
     "output_type": "execute_result"
    }
   ],
   "source": [
    "discountdf_discount = discountdf.loc[discountdf.is_discount == 1]\n",
    "discountdf_discount.head()"
   ]
  },
  {
   "cell_type": "code",
   "execution_count": 17,
   "metadata": {},
   "outputs": [
    {
     "data": {
      "text/html": [
       "<div>\n",
       "<style scoped>\n",
       "    .dataframe tbody tr th:only-of-type {\n",
       "        vertical-align: middle;\n",
       "    }\n",
       "\n",
       "    .dataframe tbody tr th {\n",
       "        vertical-align: top;\n",
       "    }\n",
       "\n",
       "    .dataframe thead th {\n",
       "        text-align: right;\n",
       "    }\n",
       "</style>\n",
       "<table border=\"1\" class=\"dataframe\">\n",
       "  <thead>\n",
       "    <tr style=\"text-align: right;\">\n",
       "      <th></th>\n",
       "      <th>Id</th>\n",
       "      <th>OrderId</th>\n",
       "      <th>ProductId</th>\n",
       "      <th>UnitPrice</th>\n",
       "      <th>Quantity</th>\n",
       "      <th>Discount</th>\n",
       "      <th>is_discount</th>\n",
       "    </tr>\n",
       "  </thead>\n",
       "  <tbody>\n",
       "    <tr>\n",
       "      <th>0</th>\n",
       "      <td>10248/11</td>\n",
       "      <td>10248</td>\n",
       "      <td>11</td>\n",
       "      <td>14.0</td>\n",
       "      <td>12</td>\n",
       "      <td>0.0</td>\n",
       "      <td>0</td>\n",
       "    </tr>\n",
       "    <tr>\n",
       "      <th>1</th>\n",
       "      <td>10248/42</td>\n",
       "      <td>10248</td>\n",
       "      <td>42</td>\n",
       "      <td>9.8</td>\n",
       "      <td>10</td>\n",
       "      <td>0.0</td>\n",
       "      <td>0</td>\n",
       "    </tr>\n",
       "    <tr>\n",
       "      <th>2</th>\n",
       "      <td>10248/72</td>\n",
       "      <td>10248</td>\n",
       "      <td>72</td>\n",
       "      <td>34.8</td>\n",
       "      <td>5</td>\n",
       "      <td>0.0</td>\n",
       "      <td>0</td>\n",
       "    </tr>\n",
       "    <tr>\n",
       "      <th>3</th>\n",
       "      <td>10249/14</td>\n",
       "      <td>10249</td>\n",
       "      <td>14</td>\n",
       "      <td>18.6</td>\n",
       "      <td>9</td>\n",
       "      <td>0.0</td>\n",
       "      <td>0</td>\n",
       "    </tr>\n",
       "    <tr>\n",
       "      <th>4</th>\n",
       "      <td>10249/51</td>\n",
       "      <td>10249</td>\n",
       "      <td>51</td>\n",
       "      <td>42.4</td>\n",
       "      <td>40</td>\n",
       "      <td>0.0</td>\n",
       "      <td>0</td>\n",
       "    </tr>\n",
       "  </tbody>\n",
       "</table>\n",
       "</div>"
      ],
      "text/plain": [
       "         Id  OrderId  ProductId  UnitPrice  Quantity  Discount  is_discount\n",
       "0  10248/11    10248         11       14.0        12       0.0            0\n",
       "1  10248/42    10248         42        9.8        10       0.0            0\n",
       "2  10248/72    10248         72       34.8         5       0.0            0\n",
       "3  10249/14    10249         14       18.6         9       0.0            0\n",
       "4  10249/51    10249         51       42.4        40       0.0            0"
      ]
     },
     "execution_count": 17,
     "metadata": {},
     "output_type": "execute_result"
    }
   ],
   "source": [
    "discountdf_no_discount = discountdf.loc[discountdf.is_discount == 0]\n",
    "discountdf_no_discount.head()"
   ]
  },
  {
   "cell_type": "markdown",
   "metadata": {},
   "source": [
    "Let's see what the average quantity ordered is for discount and no discount"
   ]
  },
  {
   "cell_type": "code",
   "execution_count": 18,
   "metadata": {},
   "outputs": [
    {
     "data": {
      "text/plain": [
       "count    838.000000\n",
       "mean      27.109785\n",
       "std       20.771439\n",
       "min        1.000000\n",
       "25%       12.000000\n",
       "50%       20.000000\n",
       "75%       36.000000\n",
       "max      130.000000\n",
       "Name: Quantity, dtype: float64"
      ]
     },
     "execution_count": 18,
     "metadata": {},
     "output_type": "execute_result"
    }
   ],
   "source": [
    "discountdf_discount.Quantity.describe()"
   ]
  },
  {
   "cell_type": "code",
   "execution_count": 19,
   "metadata": {},
   "outputs": [
    {
     "data": {
      "text/plain": [
       "count    1317.000000\n",
       "mean       21.715262\n",
       "std        17.507493\n",
       "min         1.000000\n",
       "25%        10.000000\n",
       "50%        18.000000\n",
       "75%        30.000000\n",
       "max       130.000000\n",
       "Name: Quantity, dtype: float64"
      ]
     },
     "execution_count": 19,
     "metadata": {},
     "output_type": "execute_result"
    }
   ],
   "source": [
    "discountdf_no_discount.Quantity.describe()"
   ]
  },
  {
   "cell_type": "code",
   "execution_count": 20,
   "metadata": {},
   "outputs": [
    {
     "data": {
      "image/png": "[encoded data removed]",
      "text/plain": [
       "<Figure size 432x288 with 1 Axes>"
      ]
     },
     "metadata": {
      "needs_background": "light"
     },
     "output_type": "display_data"
    }
   ],
   "source": [
    "sns.distplot(discountdf_discount.Quantity);"
   ]
  },
  {
   "cell_type": "code",
   "execution_count": 21,
   "metadata": {},
   "outputs": [
    {
     "data": {
      "image/png": "[encoded data removed]",
      "text/plain": [
       "<Figure size 432x288 with 1 Axes>"
      ]
     },
     "metadata": {
      "needs_background": "light"
     },
     "output_type": "display_data"
    }
   ],
   "source": [
    "sns.distplot(discountdf_no_discount.Quantity);"
   ]
  },
  {
   "cell_type": "markdown",
   "metadata": {},
   "source": [
    "It seems we need to cut down on outliers so I will do that now.  \n",
    "First to see where I should cut them.  \n",
    "My guess is around 70 for the discount one and probably around the same for no discount"
   ]
  },
  {
   "cell_type": "code",
   "execution_count": 22,
   "metadata": {},
   "outputs": [
    {
     "data": {
      "text/plain": [
       "70.0"
      ]
     },
     "execution_count": 22,
     "metadata": {},
     "output_type": "execute_result"
    }
   ],
   "source": [
    "discountdf_discount.Quantity.quantile(.95)"
   ]
  },
  {
   "cell_type": "code",
   "execution_count": 23,
   "metadata": {},
   "outputs": [
    {
     "data": {
      "text/plain": [
       "55.0"
      ]
     },
     "execution_count": 23,
     "metadata": {},
     "output_type": "execute_result"
    }
   ],
   "source": [
    "discountdf_no_discount.Quantity.quantile(.95)"
   ]
  },
  {
   "cell_type": "code",
   "execution_count": 24,
   "metadata": {},
   "outputs": [],
   "source": [
    "discountdf_discount = discountdf.loc[(discountdf.is_discount == 1) & (discountdf.Quantity <= 70)]\n",
    "discountdf_no_discount = discountdf.loc[(discountdf.is_discount == 0) & (discountdf.Quantity <= 55)]"
   ]
  },
  {
   "cell_type": "code",
   "execution_count": 25,
   "metadata": {},
   "outputs": [
    {
     "data": {
      "image/png": "[encoded data removed]",
      "text/plain": [
       "<Figure size 432x288 with 1 Axes>"
      ]
     },
     "metadata": {
      "needs_background": "light"
     },
     "output_type": "display_data"
    }
   ],
   "source": [
    "sns.distplot(discountdf_discount.Quantity);"
   ]
  },
  {
   "cell_type": "code",
   "execution_count": 26,
   "metadata": {},
   "outputs": [
    {
     "data": {
      "image/png": "[encoded data removed]",
      "text/plain": [
       "<Figure size 432x288 with 1 Axes>"
      ]
     },
     "metadata": {
      "needs_background": "light"
     },
     "output_type": "display_data"
    }
   ],
   "source": [
    "sns.distplot(discountdf_no_discount.Quantity);"
   ]
  },
  {
   "cell_type": "code",
   "execution_count": 27,
   "metadata": {
    "scrolled": false
   },
   "outputs": [
    {
     "data": {
      "text/plain": [
       "<matplotlib.legend.Legend at 0x24b048d5be0>"
      ]
     },
     "execution_count": 27,
     "metadata": {},
     "output_type": "execute_result"
    },
    {
     "data": {
      "image/png": "[encoded data removed]",
      "text/plain": [
       "<Figure size 432x288 with 1 Axes>"
      ]
     },
     "metadata": {
      "needs_background": "light"
     },
     "output_type": "display_data"
    }
   ],
   "source": [
    "sns.distplot(discountdf_discount.Quantity, label='Discount')\n",
    "sns.distplot(discountdf_no_discount.Quantity, label='No Discount')\n",
    "plt.legend()"
   ]
  },
  {
   "cell_type": "code",
   "execution_count": 28,
   "metadata": {},
   "outputs": [
    {
     "data": {
      "text/plain": [
       "count    809.000000\n",
       "mean      24.716934\n",
       "std       16.485674\n",
       "min        1.000000\n",
       "25%       12.000000\n",
       "50%       20.000000\n",
       "75%       35.000000\n",
       "max       70.000000\n",
       "Name: Quantity, dtype: float64"
      ]
     },
     "execution_count": 28,
     "metadata": {},
     "output_type": "execute_result"
    }
   ],
   "source": [
    "discountdf_discount.Quantity.describe()"
   ]
  },
  {
   "cell_type": "code",
   "execution_count": 29,
   "metadata": {},
   "outputs": [
    {
     "data": {
      "text/plain": [
       "count    1252.000000\n",
       "mean       19.031150\n",
       "std        12.550769\n",
       "min         1.000000\n",
       "25%        10.000000\n",
       "50%        16.000000\n",
       "75%        28.000000\n",
       "max        55.000000\n",
       "Name: Quantity, dtype: float64"
      ]
     },
     "execution_count": 29,
     "metadata": {},
     "output_type": "execute_result"
    }
   ],
   "source": [
    "discountdf_no_discount.Quantity.describe()"
   ]
  },
  {
   "cell_type": "code",
   "execution_count": 30,
   "metadata": {},
   "outputs": [
    {
     "data": {
      "text/plain": [
       "5.685784327276604"
      ]
     },
     "execution_count": 30,
     "metadata": {},
     "output_type": "execute_result"
    }
   ],
   "source": [
    "discountdf_discount.Quantity.mean() - discountdf_no_discount.Quantity.mean()"
   ]
  },
  {
   "cell_type": "code",
   "execution_count": 31,
   "metadata": {},
   "outputs": [
    {
     "data": {
      "text/plain": [
       "0.39968417727067845"
      ]
     },
     "execution_count": 31,
     "metadata": {},
     "output_type": "execute_result"
    }
   ],
   "source": [
    "effect_size = Cohen_d(discountdf_discount.Quantity, discountdf_no_discount.Quantity)\n",
    "effect_size"
   ]
  },
  {
   "cell_type": "code",
   "execution_count": 32,
   "metadata": {},
   "outputs": [
    {
     "data": {
      "text/plain": [
       "1.0"
      ]
     },
     "execution_count": 32,
     "metadata": {},
     "output_type": "execute_result"
    }
   ],
   "source": [
    "power_analysis.solve_power(effect_size=effect_size, alpha=.05, nobs1=len(discountdf_discount))"
   ]
  },
  {
   "cell_type": "markdown",
   "metadata": {},
   "source": [
    "Our effect size is 5.68 items and Cohen's D tells us that this effect is close to medium range.  \n",
    "The power tells us that our chances of type 2 errors is extremely low."
   ]
  },
  {
   "cell_type": "markdown",
   "metadata": {},
   "source": [
    "[Return to contents](#Table-of-contents)"
   ]
  },
  {
   "cell_type": "markdown",
   "metadata": {},
   "source": [
    "### What amount of discount makes the most difference with regards to quantity ordered?"
   ]
  },
  {
   "cell_type": "code",
   "execution_count": 33,
   "metadata": {
    "scrolled": true
   },
   "outputs": [],
   "source": [
    "discount_dummies = pd.get_dummies(discountdf_discount.Discount, prefix='Dis')"
   ]
  },
  {
   "cell_type": "code",
   "execution_count": 34,
   "metadata": {
    "scrolled": false
   },
   "outputs": [
    {
     "data": {
      "text/html": [
       "<div>\n",
       "<style scoped>\n",
       "    .dataframe tbody tr th:only-of-type {\n",
       "        vertical-align: middle;\n",
       "    }\n",
       "\n",
       "    .dataframe tbody tr th {\n",
       "        vertical-align: top;\n",
       "    }\n",
       "\n",
       "    .dataframe thead th {\n",
       "        text-align: right;\n",
       "    }\n",
       "</style>\n",
       "<table border=\"1\" class=\"dataframe\">\n",
       "  <thead>\n",
       "    <tr style=\"text-align: right;\">\n",
       "      <th></th>\n",
       "      <th>Id</th>\n",
       "      <th>OrderId</th>\n",
       "      <th>ProductId</th>\n",
       "      <th>UnitPrice</th>\n",
       "      <th>Quantity</th>\n",
       "      <th>Discount</th>\n",
       "      <th>is_discount</th>\n",
       "      <th>Dis_0.01</th>\n",
       "      <th>Dis_0.02</th>\n",
       "      <th>Dis_0.03</th>\n",
       "      <th>Dis_0.04</th>\n",
       "      <th>Dis_0.05</th>\n",
       "      <th>Dis_0.06</th>\n",
       "      <th>Dis_0.1</th>\n",
       "      <th>Dis_0.15</th>\n",
       "      <th>Dis_0.2</th>\n",
       "      <th>Dis_0.25</th>\n",
       "    </tr>\n",
       "  </thead>\n",
       "  <tbody>\n",
       "    <tr>\n",
       "      <th>6</th>\n",
       "      <td>10250/51</td>\n",
       "      <td>10250</td>\n",
       "      <td>51</td>\n",
       "      <td>42.4</td>\n",
       "      <td>35</td>\n",
       "      <td>0.15</td>\n",
       "      <td>1</td>\n",
       "      <td>0</td>\n",
       "      <td>0</td>\n",
       "      <td>0</td>\n",
       "      <td>0</td>\n",
       "      <td>0</td>\n",
       "      <td>0</td>\n",
       "      <td>0</td>\n",
       "      <td>1</td>\n",
       "      <td>0</td>\n",
       "      <td>0</td>\n",
       "    </tr>\n",
       "    <tr>\n",
       "      <th>7</th>\n",
       "      <td>10250/65</td>\n",
       "      <td>10250</td>\n",
       "      <td>65</td>\n",
       "      <td>16.8</td>\n",
       "      <td>15</td>\n",
       "      <td>0.15</td>\n",
       "      <td>1</td>\n",
       "      <td>0</td>\n",
       "      <td>0</td>\n",
       "      <td>0</td>\n",
       "      <td>0</td>\n",
       "      <td>0</td>\n",
       "      <td>0</td>\n",
       "      <td>0</td>\n",
       "      <td>1</td>\n",
       "      <td>0</td>\n",
       "      <td>0</td>\n",
       "    </tr>\n",
       "    <tr>\n",
       "      <th>8</th>\n",
       "      <td>10251/22</td>\n",
       "      <td>10251</td>\n",
       "      <td>22</td>\n",
       "      <td>16.8</td>\n",
       "      <td>6</td>\n",
       "      <td>0.05</td>\n",
       "      <td>1</td>\n",
       "      <td>0</td>\n",
       "      <td>0</td>\n",
       "      <td>0</td>\n",
       "      <td>0</td>\n",
       "      <td>1</td>\n",
       "      <td>0</td>\n",
       "      <td>0</td>\n",
       "      <td>0</td>\n",
       "      <td>0</td>\n",
       "      <td>0</td>\n",
       "    </tr>\n",
       "    <tr>\n",
       "      <th>9</th>\n",
       "      <td>10251/57</td>\n",
       "      <td>10251</td>\n",
       "      <td>57</td>\n",
       "      <td>15.6</td>\n",
       "      <td>15</td>\n",
       "      <td>0.05</td>\n",
       "      <td>1</td>\n",
       "      <td>0</td>\n",
       "      <td>0</td>\n",
       "      <td>0</td>\n",
       "      <td>0</td>\n",
       "      <td>1</td>\n",
       "      <td>0</td>\n",
       "      <td>0</td>\n",
       "      <td>0</td>\n",
       "      <td>0</td>\n",
       "      <td>0</td>\n",
       "    </tr>\n",
       "    <tr>\n",
       "      <th>11</th>\n",
       "      <td>10252/20</td>\n",
       "      <td>10252</td>\n",
       "      <td>20</td>\n",
       "      <td>64.8</td>\n",
       "      <td>40</td>\n",
       "      <td>0.05</td>\n",
       "      <td>1</td>\n",
       "      <td>0</td>\n",
       "      <td>0</td>\n",
       "      <td>0</td>\n",
       "      <td>0</td>\n",
       "      <td>1</td>\n",
       "      <td>0</td>\n",
       "      <td>0</td>\n",
       "      <td>0</td>\n",
       "      <td>0</td>\n",
       "      <td>0</td>\n",
       "    </tr>\n",
       "  </tbody>\n",
       "</table>\n",
       "</div>"
      ],
      "text/plain": [
       "          Id  OrderId  ProductId  UnitPrice  Quantity  Discount  is_discount  \\\n",
       "6   10250/51    10250         51       42.4        35      0.15            1   \n",
       "7   10250/65    10250         65       16.8        15      0.15            1   \n",
       "8   10251/22    10251         22       16.8         6      0.05            1   \n",
       "9   10251/57    10251         57       15.6        15      0.05            1   \n",
       "11  10252/20    10252         20       64.8        40      0.05            1   \n",
       "\n",
       "    Dis_0.01  Dis_0.02  Dis_0.03  Dis_0.04  Dis_0.05  Dis_0.06  Dis_0.1  \\\n",
       "6          0         0         0         0         0         0        0   \n",
       "7          0         0         0         0         0         0        0   \n",
       "8          0         0         0         0         1         0        0   \n",
       "9          0         0         0         0         1         0        0   \n",
       "11         0         0         0         0         1         0        0   \n",
       "\n",
       "    Dis_0.15  Dis_0.2  Dis_0.25  \n",
       "6          1        0         0  \n",
       "7          1        0         0  \n",
       "8          0        0         0  \n",
       "9          0        0         0  \n",
       "11         0        0         0  "
      ]
     },
     "execution_count": 34,
     "metadata": {},
     "output_type": "execute_result"
    }
   ],
   "source": [
    "discountdf_discount = pd.concat([discountdf_discount, discount_dummies], axis=1)\n",
    "discountdf_discount.head()"
   ]
  },
  {
   "cell_type": "code",
   "execution_count": 35,
   "metadata": {},
   "outputs": [],
   "source": [
    "discountdf_discount.rename(columns={'Dis_0.01': 'Dis_01', 'Dis_0.02': 'Dis_02', 'Dis_0.03': 'Dis_03', 'Dis_0.04': 'Dis_04', 'Dis_0.05': 'Dis_05', 'Dis_0.06': 'Dis_06', 'Dis_0.1': 'Dis_1', 'Dis_0.15': 'Dis_15', 'Dis_0.2': 'Dis_2', 'Dis_0.25': 'Dis_25'}, inplace=True)"
   ]
  },
  {
   "cell_type": "code",
   "execution_count": 36,
   "metadata": {
    "scrolled": false
   },
   "outputs": [
    {
     "data": {
      "text/plain": [
       "Index(['Id', 'OrderId', 'ProductId', 'UnitPrice', 'Quantity', 'Discount',\n",
       "       'is_discount', 'Dis_01', 'Dis_02', 'Dis_03', 'Dis_04', 'Dis_05',\n",
       "       'Dis_06', 'Dis_1', 'Dis_15', 'Dis_2', 'Dis_25'],\n",
       "      dtype='object')"
      ]
     },
     "execution_count": 36,
     "metadata": {},
     "output_type": "execute_result"
    }
   ],
   "source": [
    "discountdf_discount.columns"
   ]
  },
  {
   "cell_type": "markdown",
   "metadata": {},
   "source": [
    "See how many of each category we have"
   ]
  },
  {
   "cell_type": "code",
   "execution_count": 37,
   "metadata": {},
   "outputs": [
    {
     "data": {
      "text/plain": [
       "Id             10250/5110250/6510251/2210251/5710252/2010252/...\n",
       "OrderId                                                  8618230\n",
       "ProductId                                                  32066\n",
       "UnitPrice                                                21389.1\n",
       "Quantity                                                   19996\n",
       "Discount                                                  117.19\n",
       "is_discount                                                  809\n",
       "Dis_01                                                         1\n",
       "Dis_02                                                         2\n",
       "Dis_03                                                         3\n",
       "Dis_04                                                         1\n",
       "Dis_05                                                       177\n",
       "Dis_06                                                         1\n",
       "Dis_1                                                        167\n",
       "Dis_15                                                       150\n",
       "Dis_2                                                        157\n",
       "Dis_25                                                       150\n",
       "dtype: object"
      ]
     },
     "execution_count": 37,
     "metadata": {},
     "output_type": "execute_result"
    }
   ],
   "source": [
    "discountdf_discount.sum()"
   ]
  },
  {
   "cell_type": "code",
   "execution_count": 38,
   "metadata": {},
   "outputs": [],
   "source": [
    "discountdf_discount['Dis_1_to_6'] = 0\n",
    "discountdf_discount.loc[(discountdf_discount.Dis_01 == 1) | (discountdf_discount.Dis_02 == 1) | (discountdf_discount.Dis_03 == 1) | (discountdf_discount.Dis_04 == 1) | (discountdf_discount.Dis_05 == 1) | (discountdf_discount.Dis_06 == 1), 'Dis_1_to_6'] = 1 "
   ]
  },
  {
   "cell_type": "code",
   "execution_count": 39,
   "metadata": {},
   "outputs": [
    {
     "data": {
      "text/html": [
       "<div>\n",
       "<style scoped>\n",
       "    .dataframe tbody tr th:only-of-type {\n",
       "        vertical-align: middle;\n",
       "    }\n",
       "\n",
       "    .dataframe tbody tr th {\n",
       "        vertical-align: top;\n",
       "    }\n",
       "\n",
       "    .dataframe thead th {\n",
       "        text-align: right;\n",
       "    }\n",
       "</style>\n",
       "<table border=\"1\" class=\"dataframe\">\n",
       "  <thead>\n",
       "    <tr style=\"text-align: right;\">\n",
       "      <th></th>\n",
       "      <th>Id</th>\n",
       "      <th>OrderId</th>\n",
       "      <th>ProductId</th>\n",
       "      <th>UnitPrice</th>\n",
       "      <th>Quantity</th>\n",
       "      <th>Discount</th>\n",
       "      <th>is_discount</th>\n",
       "      <th>Dis_01</th>\n",
       "      <th>Dis_02</th>\n",
       "      <th>Dis_03</th>\n",
       "      <th>Dis_04</th>\n",
       "      <th>Dis_05</th>\n",
       "      <th>Dis_06</th>\n",
       "      <th>Dis_1</th>\n",
       "      <th>Dis_15</th>\n",
       "      <th>Dis_2</th>\n",
       "      <th>Dis_25</th>\n",
       "      <th>Dis_1_to_6</th>\n",
       "    </tr>\n",
       "  </thead>\n",
       "  <tbody>\n",
       "    <tr>\n",
       "      <th>2144</th>\n",
       "      <td>11077/39</td>\n",
       "      <td>11077</td>\n",
       "      <td>39</td>\n",
       "      <td>18.00</td>\n",
       "      <td>2</td>\n",
       "      <td>0.05</td>\n",
       "      <td>1</td>\n",
       "      <td>0</td>\n",
       "      <td>0</td>\n",
       "      <td>0</td>\n",
       "      <td>0</td>\n",
       "      <td>1</td>\n",
       "      <td>0</td>\n",
       "      <td>0</td>\n",
       "      <td>0</td>\n",
       "      <td>0</td>\n",
       "      <td>0</td>\n",
       "      <td>1</td>\n",
       "    </tr>\n",
       "    <tr>\n",
       "      <th>2146</th>\n",
       "      <td>11077/46</td>\n",
       "      <td>11077</td>\n",
       "      <td>46</td>\n",
       "      <td>12.00</td>\n",
       "      <td>3</td>\n",
       "      <td>0.02</td>\n",
       "      <td>1</td>\n",
       "      <td>0</td>\n",
       "      <td>1</td>\n",
       "      <td>0</td>\n",
       "      <td>0</td>\n",
       "      <td>0</td>\n",
       "      <td>0</td>\n",
       "      <td>0</td>\n",
       "      <td>0</td>\n",
       "      <td>0</td>\n",
       "      <td>0</td>\n",
       "      <td>1</td>\n",
       "    </tr>\n",
       "    <tr>\n",
       "      <th>2149</th>\n",
       "      <td>11077/60</td>\n",
       "      <td>11077</td>\n",
       "      <td>60</td>\n",
       "      <td>34.00</td>\n",
       "      <td>2</td>\n",
       "      <td>0.06</td>\n",
       "      <td>1</td>\n",
       "      <td>0</td>\n",
       "      <td>0</td>\n",
       "      <td>0</td>\n",
       "      <td>0</td>\n",
       "      <td>0</td>\n",
       "      <td>1</td>\n",
       "      <td>0</td>\n",
       "      <td>0</td>\n",
       "      <td>0</td>\n",
       "      <td>0</td>\n",
       "      <td>1</td>\n",
       "    </tr>\n",
       "    <tr>\n",
       "      <th>2150</th>\n",
       "      <td>11077/64</td>\n",
       "      <td>11077</td>\n",
       "      <td>64</td>\n",
       "      <td>33.25</td>\n",
       "      <td>2</td>\n",
       "      <td>0.03</td>\n",
       "      <td>1</td>\n",
       "      <td>0</td>\n",
       "      <td>0</td>\n",
       "      <td>1</td>\n",
       "      <td>0</td>\n",
       "      <td>0</td>\n",
       "      <td>0</td>\n",
       "      <td>0</td>\n",
       "      <td>0</td>\n",
       "      <td>0</td>\n",
       "      <td>0</td>\n",
       "      <td>1</td>\n",
       "    </tr>\n",
       "    <tr>\n",
       "      <th>2152</th>\n",
       "      <td>11077/73</td>\n",
       "      <td>11077</td>\n",
       "      <td>73</td>\n",
       "      <td>15.00</td>\n",
       "      <td>2</td>\n",
       "      <td>0.01</td>\n",
       "      <td>1</td>\n",
       "      <td>1</td>\n",
       "      <td>0</td>\n",
       "      <td>0</td>\n",
       "      <td>0</td>\n",
       "      <td>0</td>\n",
       "      <td>0</td>\n",
       "      <td>0</td>\n",
       "      <td>0</td>\n",
       "      <td>0</td>\n",
       "      <td>0</td>\n",
       "      <td>1</td>\n",
       "    </tr>\n",
       "  </tbody>\n",
       "</table>\n",
       "</div>"
      ],
      "text/plain": [
       "            Id  OrderId  ProductId  UnitPrice  Quantity  Discount  \\\n",
       "2144  11077/39    11077         39      18.00         2      0.05   \n",
       "2146  11077/46    11077         46      12.00         3      0.02   \n",
       "2149  11077/60    11077         60      34.00         2      0.06   \n",
       "2150  11077/64    11077         64      33.25         2      0.03   \n",
       "2152  11077/73    11077         73      15.00         2      0.01   \n",
       "\n",
       "      is_discount  Dis_01  Dis_02  Dis_03  Dis_04  Dis_05  Dis_06  Dis_1  \\\n",
       "2144            1       0       0       0       0       1       0      0   \n",
       "2146            1       0       1       0       0       0       0      0   \n",
       "2149            1       0       0       0       0       0       1      0   \n",
       "2150            1       0       0       1       0       0       0      0   \n",
       "2152            1       1       0       0       0       0       0      0   \n",
       "\n",
       "      Dis_15  Dis_2  Dis_25  Dis_1_to_6  \n",
       "2144       0      0       0           1  \n",
       "2146       0      0       0           1  \n",
       "2149       0      0       0           1  \n",
       "2150       0      0       0           1  \n",
       "2152       0      0       0           1  "
      ]
     },
     "execution_count": 39,
     "metadata": {},
     "output_type": "execute_result"
    }
   ],
   "source": [
    "discountdf_discount.tail()"
   ]
  },
  {
   "cell_type": "markdown",
   "metadata": {},
   "source": [
    "As all the lower discounts only have 1-3 of each I grouped them into one category"
   ]
  },
  {
   "cell_type": "code",
   "execution_count": 40,
   "metadata": {},
   "outputs": [
    {
     "name": "stdout",
     "output_type": "stream",
     "text": [
      "                      sum_sq     df          F    PR(>F)\n",
      "C(Dis_1_to_6)    2571.647211    1.0   9.479863  0.002148\n",
      "C(Dis_1)          704.681547    1.0   2.597668  0.107414\n",
      "C(Dis_15)        4574.067310    1.0  16.861384  0.000044\n",
      "C(Dis_2)         4555.651958    1.0  16.793500  0.000046\n",
      "C(Dis_25)        6051.074474    1.0  22.306076  0.000003\n",
      "Residual       218104.875547  804.0        NaN       NaN\n"
     ]
    }
   ],
   "source": [
    "formula1a = 'Quantity ~ C(Dis_1_to_6) + C(Dis_1) + C(Dis_15) + C(Dis_2) + C(Dis_25)'\n",
    "lm = ols(formula1a, discountdf_discount).fit()\n",
    "table = sm.stats.anova_lm(lm, typ=2)\n",
    "print(table)"
   ]
  },
  {
   "cell_type": "markdown",
   "metadata": {},
   "source": [
    "We can reject the null hypothosis only with discounts of .01-.06, .15, .2 and .25 while with a 10% discount we can not reject the null hypothosis that it is not better then not having a discount"
   ]
  },
  {
   "cell_type": "markdown",
   "metadata": {},
   "source": [
    "[Return to contents](#Table-of-contents)"
   ]
  },
  {
   "cell_type": "markdown",
   "metadata": {},
   "source": [
    "## Effect sizes of each Discount amount"
   ]
  },
  {
   "cell_type": "code",
   "execution_count": 41,
   "metadata": {},
   "outputs": [],
   "source": [
    "Dis_1_to_6df = discountdf_discount.loc[discountdf_discount.Dis_1_to_6 == 1]"
   ]
  },
  {
   "cell_type": "code",
   "execution_count": 42,
   "metadata": {},
   "outputs": [
    {
     "data": {
      "text/plain": [
       "5.017498488904238"
      ]
     },
     "execution_count": 42,
     "metadata": {},
     "output_type": "execute_result"
    }
   ],
   "source": [
    "Dis_1_to_6df.Quantity.mean() - discountdf_no_discount.Quantity.mean()"
   ]
  },
  {
   "cell_type": "code",
   "execution_count": 43,
   "metadata": {},
   "outputs": [
    {
     "data": {
      "text/plain": [
       "0.37719965122765065"
      ]
     },
     "execution_count": 43,
     "metadata": {},
     "output_type": "execute_result"
    }
   ],
   "source": [
    "Dis_1_to_6_effect = Cohen_d(Dis_1_to_6df.Quantity, discountdf_no_discount.Quantity)\n",
    "Dis_1_to_6_effect"
   ]
  },
  {
   "cell_type": "code",
   "execution_count": 44,
   "metadata": {},
   "outputs": [
    {
     "data": {
      "text/plain": [
       "0.9513758248551824"
      ]
     },
     "execution_count": 44,
     "metadata": {},
     "output_type": "execute_result"
    }
   ],
   "source": [
    "power_analysis.solve_power(effect_size=Dis_1_to_6_effect, alpha=.05, nobs1=len(Dis_1_to_6df))"
   ]
  },
  {
   "cell_type": "code",
   "execution_count": 45,
   "metadata": {},
   "outputs": [
    {
     "data": {
      "text/plain": [
       "<matplotlib.legend.Legend at 0x24b0485be80>"
      ]
     },
     "execution_count": 45,
     "metadata": {},
     "output_type": "execute_result"
    },
    {
     "data": {
      "image/png": "[encoded data removed]",
      "text/plain": [
       "<Figure size 432x288 with 1 Axes>"
      ]
     },
     "metadata": {
      "needs_background": "light"
     },
     "output_type": "display_data"
    }
   ],
   "source": [
    "sns.distplot(Dis_1_to_6df.Quantity, label='.01-.06 Discount')\n",
    "sns.distplot(discountdf_no_discount.Quantity, label='No Discount')\n",
    "plt.legend()"
   ]
  },
  {
   "cell_type": "markdown",
   "metadata": {},
   "source": [
    "We seem to have a medium effect size and a high power, which would mean a low possibility of a type 2 error"
   ]
  },
  {
   "cell_type": "code",
   "execution_count": 46,
   "metadata": {},
   "outputs": [],
   "source": [
    "Dis_1df = discountdf_discount.loc[discountdf_discount.Dis_1 == 1]"
   ]
  },
  {
   "cell_type": "code",
   "execution_count": 47,
   "metadata": {},
   "outputs": [
    {
     "data": {
      "text/plain": [
       "3.4778318761837355"
      ]
     },
     "execution_count": 47,
     "metadata": {},
     "output_type": "execute_result"
    }
   ],
   "source": [
    "Dis_1df.Quantity.mean() - discountdf_no_discount.Quantity.mean()"
   ]
  },
  {
   "cell_type": "code",
   "execution_count": 48,
   "metadata": {},
   "outputs": [
    {
     "data": {
      "text/plain": [
       "0.26979236928886313"
      ]
     },
     "execution_count": 48,
     "metadata": {},
     "output_type": "execute_result"
    }
   ],
   "source": [
    "Dis_1_effect = Cohen_d(Dis_1df.Quantity, discountdf_no_discount.Quantity)\n",
    "Dis_1_effect"
   ]
  },
  {
   "cell_type": "code",
   "execution_count": 49,
   "metadata": {},
   "outputs": [
    {
     "data": {
      "text/plain": [
       "0.6908394252830017"
      ]
     },
     "execution_count": 49,
     "metadata": {},
     "output_type": "execute_result"
    }
   ],
   "source": [
    "power_analysis.solve_power(effect_size=Dis_1_effect, alpha=.05, nobs1=len(Dis_1df))"
   ]
  },
  {
   "cell_type": "code",
   "execution_count": 50,
   "metadata": {},
   "outputs": [
    {
     "data": {
      "text/plain": [
       "<matplotlib.legend.Legend at 0x24b046c0cf8>"
      ]
     },
     "execution_count": 50,
     "metadata": {},
     "output_type": "execute_result"
    },
    {
     "data": {
      "image/png": "[encoded data removed]",
      "text/plain": [
       "<Figure size 432x288 with 1 Axes>"
      ]
     },
     "metadata": {
      "needs_background": "light"
     },
     "output_type": "display_data"
    }
   ],
   "source": [
    "sns.distplot(Dis_1df.Quantity, label='.1 Discount')\n",
    "sns.distplot(discountdf_no_discount.Quantity, label='No Discount')\n",
    "plt.legend()"
   ]
  },
  {
   "cell_type": "markdown",
   "metadata": {},
   "source": [
    "As we see from the effect size and Cohen's D, the effect of a %10 discount is low, so this confirms our P-value above that told us the same thing.  \n",
    "We also have a power under .8 so our type 2 errors would be higher as well"
   ]
  },
  {
   "cell_type": "code",
   "execution_count": 56,
   "metadata": {},
   "outputs": [],
   "source": [
    "Dis_15df = discountdf_discount.loc[discountdf_discount.Dis_15 == 1]"
   ]
  },
  {
   "cell_type": "code",
   "execution_count": 57,
   "metadata": {},
   "outputs": [
    {
     "data": {
      "text/plain": [
       "6.555516506922256"
      ]
     },
     "execution_count": 57,
     "metadata": {},
     "output_type": "execute_result"
    }
   ],
   "source": [
    "Dis_15df.Quantity.mean() - discountdf_no_discount.Quantity.mean()"
   ]
  },
  {
   "cell_type": "code",
   "execution_count": 59,
   "metadata": {},
   "outputs": [
    {
     "data": {
      "text/plain": [
       "0.5025004528958542"
      ]
     },
     "execution_count": 59,
     "metadata": {},
     "output_type": "execute_result"
    }
   ],
   "source": [
    "Dis_15_effect = Cohen_d_list(Dis_15df.Quantity, discountdf_no_discount.Quantity)\n",
    "Dis_15_effect"
   ]
  },
  {
   "cell_type": "code",
   "execution_count": 62,
   "metadata": {},
   "outputs": [
    {
     "data": {
      "text/plain": [
       "1.0"
      ]
     },
     "execution_count": 62,
     "metadata": {},
     "output_type": "execute_result"
    }
   ],
   "source": [
    "power_analysis.solve_power(effect_size=Dis_15_effect, alpha=.05, nobs1=len(Dis_15df))"
   ]
  },
  {
   "cell_type": "code",
   "execution_count": 63,
   "metadata": {},
   "outputs": [
    {
     "data": {
      "text/plain": [
       "<matplotlib.legend.Legend at 0x24b046f5eb8>"
      ]
     },
     "execution_count": 63,
     "metadata": {},
     "output_type": "execute_result"
    },
    {
     "data": {
      "image/png": "[encoded data removed]",
      "text/plain": [
       "<Figure size 432x288 with 1 Axes>"
      ]
     },
     "metadata": {
      "needs_background": "light"
     },
     "output_type": "display_data"
    }
   ],
   "source": [
    "sns.distplot(Dis_15df.Quantity, label='.15 Discount')\n",
    "sns.distplot(discountdf_no_discount.Quantity, label='No Discount')\n",
    "plt.legend()"
   ]
  },
  {
   "cell_type": "markdown",
   "metadata": {},
   "source": [
    "We have a pretty nice size effect and a 1 power which means type 2 errors are also a very low probability "
   ]
  },
  {
   "cell_type": "code",
   "execution_count": 64,
   "metadata": {},
   "outputs": [],
   "source": [
    "Dis_2df = discountdf_discount.loc[discountdf_discount.Dis_2 == 1]"
   ]
  },
  {
   "cell_type": "code",
   "execution_count": 65,
   "metadata": {},
   "outputs": [
    {
     "data": {
      "text/plain": [
       "6.452926273376608"
      ]
     },
     "execution_count": 65,
     "metadata": {},
     "output_type": "execute_result"
    }
   ],
   "source": [
    "Dis_2df.Quantity.mean() - discountdf_no_discount.Quantity.mean()"
   ]
  },
  {
   "cell_type": "code",
   "execution_count": 66,
   "metadata": {},
   "outputs": [
    {
     "data": {
      "text/plain": [
       "0.49551262223158243"
      ]
     },
     "execution_count": 66,
     "metadata": {},
     "output_type": "execute_result"
    }
   ],
   "source": [
    "Dis_2_effect = Cohen_d(Dis_2df.Quantity, discountdf_no_discount.Quantity)\n",
    "Dis_2_effect"
   ]
  },
  {
   "cell_type": "code",
   "execution_count": 67,
   "metadata": {},
   "outputs": [
    {
     "data": {
      "text/plain": [
       "0.9921698362954489"
      ]
     },
     "execution_count": 67,
     "metadata": {},
     "output_type": "execute_result"
    }
   ],
   "source": [
    "power_analysis.solve_power(effect_size=Dis_2_effect, alpha=.05, nobs1=len(Dis_2df))"
   ]
  },
  {
   "cell_type": "code",
   "execution_count": 68,
   "metadata": {},
   "outputs": [
    {
     "data": {
      "text/plain": [
       "<matplotlib.legend.Legend at 0x24b04884da0>"
      ]
     },
     "execution_count": 68,
     "metadata": {},
     "output_type": "execute_result"
    },
    {
     "data": {
      "image/png": "[encoded data removed]",
      "text/plain": [
       "<Figure size 432x288 with 1 Axes>"
      ]
     },
     "metadata": {
      "needs_background": "light"
     },
     "output_type": "display_data"
    }
   ],
   "source": [
    "sns.distplot(Dis_2df.Quantity, label='.2 Discount')\n",
    "sns.distplot(discountdf_no_discount.Quantity, label='No Discount')\n",
    "plt.legend()"
   ]
  },
  {
   "cell_type": "markdown",
   "metadata": {},
   "source": [
    "We have a pretty nice size effect and a very high power which means type 2 errors are also a very low probability"
   ]
  },
  {
   "cell_type": "code",
   "execution_count": 69,
   "metadata": {},
   "outputs": [],
   "source": [
    "Dis_25df = discountdf_discount.loc[discountdf_discount.Dis_25 == 1]"
   ]
  },
  {
   "cell_type": "code",
   "execution_count": 70,
   "metadata": {},
   "outputs": [
    {
     "data": {
      "text/plain": [
       "7.295516506922258"
      ]
     },
     "execution_count": 70,
     "metadata": {},
     "output_type": "execute_result"
    }
   ],
   "source": [
    "Dis_25df.Quantity.mean() - discountdf_no_discount.Quantity.mean()"
   ]
  },
  {
   "cell_type": "code",
   "execution_count": 71,
   "metadata": {},
   "outputs": [
    {
     "data": {
      "text/plain": [
       "0.5605543292057493"
      ]
     },
     "execution_count": 71,
     "metadata": {},
     "output_type": "execute_result"
    }
   ],
   "source": [
    "Dis_25_effect = Cohen_d(Dis_25df.Quantity, discountdf_no_discount.Quantity)\n",
    "Dis_25_effect"
   ]
  },
  {
   "cell_type": "code",
   "execution_count": 72,
   "metadata": {},
   "outputs": [
    {
     "data": {
      "text/plain": [
       "0.9980045233287141"
      ]
     },
     "execution_count": 72,
     "metadata": {},
     "output_type": "execute_result"
    }
   ],
   "source": [
    "power_analysis.solve_power(effect_size=Dis_25_effect, alpha=.05, nobs1=len(Dis_25df))"
   ]
  },
  {
   "cell_type": "code",
   "execution_count": 73,
   "metadata": {},
   "outputs": [
    {
     "data": {
      "text/plain": [
       "<matplotlib.legend.Legend at 0x24b057cb710>"
      ]
     },
     "execution_count": 73,
     "metadata": {},
     "output_type": "execute_result"
    },
    {
     "data": {
      "image/png": "[encoded data removed]",
      "text/plain": [
       "<Figure size 432x288 with 1 Axes>"
      ]
     },
     "metadata": {
      "needs_background": "light"
     },
     "output_type": "display_data"
    }
   ],
   "source": [
    "sns.distplot(Dis_25df.Quantity, label='.25 Discount')\n",
    "sns.distplot(discountdf_no_discount.Quantity, label='No Discount')\n",
    "plt.legend()"
   ]
  },
  {
   "cell_type": "markdown",
   "metadata": {},
   "source": [
    "We have a pretty nice size effect and a very high power which means type 2 errors are also a very low probability"
   ]
  },
  {
   "cell_type": "markdown",
   "metadata": {},
   "source": [
    "The discounts from 15-25% drive much more quantity of sales as seen from the effect sizes and Cohen's D of each one.  \n",
    "We also have very high power for .05, .15, .2 and .25 so our type 2 errors should be very low for them as well."
   ]
  },
  {
   "cell_type": "markdown",
   "metadata": {},
   "source": [
    "[Return to contents](#Table-of-contents)"
   ]
  },
  {
   "cell_type": "markdown",
   "metadata": {},
   "source": [
    "## Conclusion and Recommendation"
   ]
  },
  {
   "cell_type": "markdown",
   "metadata": {},
   "source": [
    "I can recommend using .05%, .15%, .2% and .25% as discount amounts to try and drive sales.  \n",
    ".05% discounts have a smaller but still statistically significant effect, while .15-.25% discounts have a bigger effect.  \n",
    "I would also suggest further work looking into 10% discounts to see if more can be found out about it"
   ]
  },
  {
   "cell_type": "markdown",
   "metadata": {},
   "source": [
    "[Return to contents](#Table-of-contents)"
   ]
  },
  {
   "cell_type": "markdown",
   "metadata": {},
   "source": [
    "# Second Question"
   ]
  },
  {
   "cell_type": "markdown",
   "metadata": {},
   "source": [
    "Which product sells the best per order? Also which are the top 5 products sold per order?  \n",
    "  \n",
    "H0 = all quantity of each product sold per order, means are equal  \n",
    "Ha = all quantity of each product sold per order, means are not equal  \n",
    "alpha = .05"
   ]
  },
  {
   "cell_type": "markdown",
   "metadata": {},
   "source": [
    "[Return to contents](#Table-of-contents)"
   ]
  },
  {
   "cell_type": "code",
   "execution_count": 91,
   "metadata": {},
   "outputs": [
    {
     "data": {
      "text/plain": [
       "Ttest_indResult(statistic=44.65961053410301, pvalue=6.792503732894072e-38)"
      ]
     },
     "execution_count": 91,
     "metadata": {},
     "output_type": "execute_result"
    }
   ],
   "source": [
    "stats.ttest_ind(boot_discount, boot_no_discount, equal_var=False)"
   ]
  },
  {
   "cell_type": "markdown",
   "metadata": {},
   "source": [
    "## Load in information needed for 2nd question"
   ]
  },
  {
   "cell_type": "code",
   "execution_count": 92,
   "metadata": {},
   "outputs": [
    {
     "data": {
      "text/html": [
       "<div>\n",
       "<style scoped>\n",
       "    .dataframe tbody tr th:only-of-type {\n",
       "        vertical-align: middle;\n",
       "    }\n",
       "\n",
       "    .dataframe tbody tr th {\n",
       "        vertical-align: top;\n",
       "    }\n",
       "\n",
       "    .dataframe thead th {\n",
       "        text-align: right;\n",
       "    }\n",
       "</style>\n",
       "<table border=\"1\" class=\"dataframe\">\n",
       "  <thead>\n",
       "    <tr style=\"text-align: right;\">\n",
       "      <th></th>\n",
       "      <th>Id</th>\n",
       "      <th>OrderId</th>\n",
       "      <th>ProductId</th>\n",
       "      <th>UnitPrice</th>\n",
       "      <th>Quantity</th>\n",
       "      <th>Discount</th>\n",
       "    </tr>\n",
       "  </thead>\n",
       "  <tbody>\n",
       "    <tr>\n",
       "      <th>0</th>\n",
       "      <td>10285/1</td>\n",
       "      <td>10285</td>\n",
       "      <td>1</td>\n",
       "      <td>14.4</td>\n",
       "      <td>45</td>\n",
       "      <td>0.20</td>\n",
       "    </tr>\n",
       "    <tr>\n",
       "      <th>1</th>\n",
       "      <td>10294/1</td>\n",
       "      <td>10294</td>\n",
       "      <td>1</td>\n",
       "      <td>14.4</td>\n",
       "      <td>18</td>\n",
       "      <td>0.00</td>\n",
       "    </tr>\n",
       "    <tr>\n",
       "      <th>2</th>\n",
       "      <td>10317/1</td>\n",
       "      <td>10317</td>\n",
       "      <td>1</td>\n",
       "      <td>14.4</td>\n",
       "      <td>20</td>\n",
       "      <td>0.00</td>\n",
       "    </tr>\n",
       "    <tr>\n",
       "      <th>3</th>\n",
       "      <td>10348/1</td>\n",
       "      <td>10348</td>\n",
       "      <td>1</td>\n",
       "      <td>14.4</td>\n",
       "      <td>15</td>\n",
       "      <td>0.15</td>\n",
       "    </tr>\n",
       "    <tr>\n",
       "      <th>4</th>\n",
       "      <td>10354/1</td>\n",
       "      <td>10354</td>\n",
       "      <td>1</td>\n",
       "      <td>14.4</td>\n",
       "      <td>12</td>\n",
       "      <td>0.00</td>\n",
       "    </tr>\n",
       "  </tbody>\n",
       "</table>\n",
       "</div>"
      ],
      "text/plain": [
       "        Id  OrderId  ProductId  UnitPrice  Quantity  Discount\n",
       "0  10285/1    10285          1       14.4        45      0.20\n",
       "1  10294/1    10294          1       14.4        18      0.00\n",
       "2  10317/1    10317          1       14.4        20      0.00\n",
       "3  10348/1    10348          1       14.4        15      0.15\n",
       "4  10354/1    10354          1       14.4        12      0.00"
      ]
     },
     "execution_count": 92,
     "metadata": {},
     "output_type": "execute_result"
    }
   ],
   "source": [
    "c.execute('''Select * from OrderDetail order by ProductId;''')\n",
    "ordersdf = pd.DataFrame(c.fetchall())\n",
    "ordersdf.columns = [x[0] for x in c.description]\n",
    "ordersdf.head()"
   ]
  },
  {
   "cell_type": "code",
   "execution_count": 93,
   "metadata": {},
   "outputs": [
    {
     "data": {
      "text/html": [
       "<div>\n",
       "<style scoped>\n",
       "    .dataframe tbody tr th:only-of-type {\n",
       "        vertical-align: middle;\n",
       "    }\n",
       "\n",
       "    .dataframe tbody tr th {\n",
       "        vertical-align: top;\n",
       "    }\n",
       "\n",
       "    .dataframe thead th {\n",
       "        text-align: right;\n",
       "    }\n",
       "</style>\n",
       "<table border=\"1\" class=\"dataframe\">\n",
       "  <thead>\n",
       "    <tr style=\"text-align: right;\">\n",
       "      <th></th>\n",
       "      <th>Id</th>\n",
       "      <th>OrderId</th>\n",
       "      <th>ProductId</th>\n",
       "      <th>UnitPrice</th>\n",
       "      <th>Quantity</th>\n",
       "      <th>Discount</th>\n",
       "    </tr>\n",
       "  </thead>\n",
       "  <tbody>\n",
       "    <tr>\n",
       "      <th>2150</th>\n",
       "      <td>11000/77</td>\n",
       "      <td>11000</td>\n",
       "      <td>77</td>\n",
       "      <td>13.0</td>\n",
       "      <td>30</td>\n",
       "      <td>0.00</td>\n",
       "    </tr>\n",
       "    <tr>\n",
       "      <th>2151</th>\n",
       "      <td>11015/77</td>\n",
       "      <td>11015</td>\n",
       "      <td>77</td>\n",
       "      <td>13.0</td>\n",
       "      <td>18</td>\n",
       "      <td>0.00</td>\n",
       "    </tr>\n",
       "    <tr>\n",
       "      <th>2152</th>\n",
       "      <td>11060/77</td>\n",
       "      <td>11060</td>\n",
       "      <td>77</td>\n",
       "      <td>13.0</td>\n",
       "      <td>10</td>\n",
       "      <td>0.00</td>\n",
       "    </tr>\n",
       "    <tr>\n",
       "      <th>2153</th>\n",
       "      <td>11068/77</td>\n",
       "      <td>11068</td>\n",
       "      <td>77</td>\n",
       "      <td>13.0</td>\n",
       "      <td>28</td>\n",
       "      <td>0.15</td>\n",
       "    </tr>\n",
       "    <tr>\n",
       "      <th>2154</th>\n",
       "      <td>11077/77</td>\n",
       "      <td>11077</td>\n",
       "      <td>77</td>\n",
       "      <td>13.0</td>\n",
       "      <td>2</td>\n",
       "      <td>0.00</td>\n",
       "    </tr>\n",
       "  </tbody>\n",
       "</table>\n",
       "</div>"
      ],
      "text/plain": [
       "            Id  OrderId  ProductId  UnitPrice  Quantity  Discount\n",
       "2150  11000/77    11000         77       13.0        30      0.00\n",
       "2151  11015/77    11015         77       13.0        18      0.00\n",
       "2152  11060/77    11060         77       13.0        10      0.00\n",
       "2153  11068/77    11068         77       13.0        28      0.15\n",
       "2154  11077/77    11077         77       13.0         2      0.00"
      ]
     },
     "execution_count": 93,
     "metadata": {},
     "output_type": "execute_result"
    }
   ],
   "source": [
    "ordersdf.tail()"
   ]
  },
  {
   "cell_type": "code",
   "execution_count": 94,
   "metadata": {},
   "outputs": [
    {
     "data": {
      "text/plain": [
       "830"
      ]
     },
     "execution_count": 94,
     "metadata": {},
     "output_type": "execute_result"
    }
   ],
   "source": [
    "len(ordersdf.OrderId.value_counts())"
   ]
  },
  {
   "cell_type": "markdown",
   "metadata": {},
   "source": [
    "[Return to contents](#Table-of-contents)"
   ]
  },
  {
   "cell_type": "markdown",
   "metadata": {},
   "source": [
    "## Checkout the information for the 2nd question"
   ]
  },
  {
   "cell_type": "markdown",
   "metadata": {},
   "source": [
    "Put all the product numbers in a list and them make a dict of dataframes for each one"
   ]
  },
  {
   "cell_type": "code",
   "execution_count": 95,
   "metadata": {},
   "outputs": [
    {
     "name": "stdout",
     "output_type": "stream",
     "text": [
      "[1, 2, 3, 4, 5, 6, 7, 8, 9, 10, 11, 12, 13, 14, 15, 16, 17, 18, 19, 20, 21, 22, 23, 24, 25, 26, 27, 28, 29, 30, 31, 32, 33, 34, 35, 36, 37, 38, 39, 40, 41, 42, 43, 44, 45, 46, 47, 48, 49, 50, 51, 52, 53, 54, 55, 56, 57, 58, 59, 60, 61, 62, 63, 64, 65, 66, 67, 68, 69, 70, 71, 72, 73, 74, 75, 76, 77]\n"
     ]
    }
   ],
   "source": [
    "product_numbers = list(ordersdf.ProductId.unique())\n",
    "print(product_numbers)"
   ]
  },
  {
   "cell_type": "code",
   "execution_count": 96,
   "metadata": {},
   "outputs": [],
   "source": [
    "product_dict = {}\n",
    "for product in product_numbers:\n",
    "    product_dict[product] = ordersdf.loc[ordersdf.ProductId == product]"
   ]
  },
  {
   "cell_type": "code",
   "execution_count": 97,
   "metadata": {},
   "outputs": [
    {
     "data": {
      "text/plain": [
       "21.789473684210527"
      ]
     },
     "execution_count": 97,
     "metadata": {},
     "output_type": "execute_result"
    }
   ],
   "source": [
    "product_dict[1].Quantity.mean()"
   ]
  },
  {
   "cell_type": "markdown",
   "metadata": {},
   "source": [
    "Make a dict of the mean ordered per order for each product"
   ]
  },
  {
   "cell_type": "code",
   "execution_count": 98,
   "metadata": {},
   "outputs": [],
   "source": [
    "product_means_dict = {}\n",
    "for product in product_numbers:\n",
    "    product_means_dict[product] = product_dict[product].Quantity.mean()"
   ]
  },
  {
   "cell_type": "code",
   "execution_count": 99,
   "metadata": {},
   "outputs": [
    {
     "data": {
      "text/plain": [
       "21.789473684210527"
      ]
     },
     "execution_count": 99,
     "metadata": {},
     "output_type": "execute_result"
    }
   ],
   "source": [
    "product_means_dict[1]"
   ]
  },
  {
   "cell_type": "markdown",
   "metadata": {},
   "source": [
    "Make a dict of the amount of orders for each product so we can better assess which products are the best ones on a more regular basis and not due to a few big sales"
   ]
  },
  {
   "cell_type": "code",
   "execution_count": 100,
   "metadata": {},
   "outputs": [],
   "source": [
    "orders_amount_dict = {}\n",
    "for product in product_numbers:\n",
    "    orders_amount_dict[product] = len(product_dict[product].OrderId.unique())    "
   ]
  },
  {
   "cell_type": "code",
   "execution_count": 101,
   "metadata": {},
   "outputs": [
    {
     "data": {
      "text/plain": [
       "38"
      ]
     },
     "execution_count": 101,
     "metadata": {},
     "output_type": "execute_result"
    }
   ],
   "source": [
    "orders_amount_dict[1]"
   ]
  },
  {
   "cell_type": "markdown",
   "metadata": {},
   "source": [
    "I would also like to see total ordered just to have it as a reference"
   ]
  },
  {
   "cell_type": "code",
   "execution_count": 102,
   "metadata": {},
   "outputs": [],
   "source": [
    "Total_ordered_per_product = {}\n",
    "for product in product_numbers:\n",
    "    Total_ordered_per_product[product] = sum(product_dict[product].Quantity)"
   ]
  },
  {
   "cell_type": "markdown",
   "metadata": {},
   "source": [
    "Combine those dicts into a dataframe"
   ]
  },
  {
   "cell_type": "code",
   "execution_count": 103,
   "metadata": {},
   "outputs": [],
   "source": [
    "productsdf = pd.DataFrame()"
   ]
  },
  {
   "cell_type": "code",
   "execution_count": 104,
   "metadata": {},
   "outputs": [],
   "source": [
    "productsdf['ProductId'] = product_means_dict.keys()\n",
    "productsdf['Mean_ordered_per_order'] = product_means_dict.values()\n",
    "productsdf['Number_of_orders'] = orders_amount_dict.values()\n",
    "productsdf['Total_ordered'] = Total_ordered_per_product.values()"
   ]
  },
  {
   "cell_type": "code",
   "execution_count": 105,
   "metadata": {},
   "outputs": [
    {
     "data": {
      "text/html": [
       "<div>\n",
       "<style scoped>\n",
       "    .dataframe tbody tr th:only-of-type {\n",
       "        vertical-align: middle;\n",
       "    }\n",
       "\n",
       "    .dataframe tbody tr th {\n",
       "        vertical-align: top;\n",
       "    }\n",
       "\n",
       "    .dataframe thead th {\n",
       "        text-align: right;\n",
       "    }\n",
       "</style>\n",
       "<table border=\"1\" class=\"dataframe\">\n",
       "  <thead>\n",
       "    <tr style=\"text-align: right;\">\n",
       "      <th></th>\n",
       "      <th>ProductId</th>\n",
       "      <th>Mean_ordered_per_order</th>\n",
       "      <th>Number_of_orders</th>\n",
       "      <th>Total_ordered</th>\n",
       "    </tr>\n",
       "  </thead>\n",
       "  <tbody>\n",
       "    <tr>\n",
       "      <th>0</th>\n",
       "      <td>1</td>\n",
       "      <td>21.789474</td>\n",
       "      <td>38</td>\n",
       "      <td>828</td>\n",
       "    </tr>\n",
       "    <tr>\n",
       "      <th>1</th>\n",
       "      <td>2</td>\n",
       "      <td>24.022727</td>\n",
       "      <td>44</td>\n",
       "      <td>1057</td>\n",
       "    </tr>\n",
       "    <tr>\n",
       "      <th>2</th>\n",
       "      <td>3</td>\n",
       "      <td>27.333333</td>\n",
       "      <td>12</td>\n",
       "      <td>328</td>\n",
       "    </tr>\n",
       "    <tr>\n",
       "      <th>3</th>\n",
       "      <td>4</td>\n",
       "      <td>22.650000</td>\n",
       "      <td>20</td>\n",
       "      <td>453</td>\n",
       "    </tr>\n",
       "    <tr>\n",
       "      <th>4</th>\n",
       "      <td>5</td>\n",
       "      <td>29.800000</td>\n",
       "      <td>10</td>\n",
       "      <td>298</td>\n",
       "    </tr>\n",
       "    <tr>\n",
       "      <th>5</th>\n",
       "      <td>6</td>\n",
       "      <td>25.083333</td>\n",
       "      <td>12</td>\n",
       "      <td>301</td>\n",
       "    </tr>\n",
       "    <tr>\n",
       "      <th>6</th>\n",
       "      <td>7</td>\n",
       "      <td>26.310345</td>\n",
       "      <td>29</td>\n",
       "      <td>763</td>\n",
       "    </tr>\n",
       "    <tr>\n",
       "      <th>7</th>\n",
       "      <td>8</td>\n",
       "      <td>28.615385</td>\n",
       "      <td>13</td>\n",
       "      <td>372</td>\n",
       "    </tr>\n",
       "    <tr>\n",
       "      <th>8</th>\n",
       "      <td>9</td>\n",
       "      <td>19.000000</td>\n",
       "      <td>5</td>\n",
       "      <td>95</td>\n",
       "    </tr>\n",
       "    <tr>\n",
       "      <th>9</th>\n",
       "      <td>10</td>\n",
       "      <td>22.484848</td>\n",
       "      <td>33</td>\n",
       "      <td>742</td>\n",
       "    </tr>\n",
       "    <tr>\n",
       "      <th>10</th>\n",
       "      <td>11</td>\n",
       "      <td>18.578947</td>\n",
       "      <td>38</td>\n",
       "      <td>706</td>\n",
       "    </tr>\n",
       "    <tr>\n",
       "      <th>11</th>\n",
       "      <td>12</td>\n",
       "      <td>24.571429</td>\n",
       "      <td>14</td>\n",
       "      <td>344</td>\n",
       "    </tr>\n",
       "    <tr>\n",
       "      <th>12</th>\n",
       "      <td>13</td>\n",
       "      <td>22.275000</td>\n",
       "      <td>40</td>\n",
       "      <td>891</td>\n",
       "    </tr>\n",
       "    <tr>\n",
       "      <th>13</th>\n",
       "      <td>14</td>\n",
       "      <td>18.363636</td>\n",
       "      <td>22</td>\n",
       "      <td>404</td>\n",
       "    </tr>\n",
       "    <tr>\n",
       "      <th>14</th>\n",
       "      <td>15</td>\n",
       "      <td>20.333333</td>\n",
       "      <td>6</td>\n",
       "      <td>122</td>\n",
       "    </tr>\n",
       "  </tbody>\n",
       "</table>\n",
       "</div>"
      ],
      "text/plain": [
       "    ProductId  Mean_ordered_per_order  Number_of_orders  Total_ordered\n",
       "0           1               21.789474                38            828\n",
       "1           2               24.022727                44           1057\n",
       "2           3               27.333333                12            328\n",
       "3           4               22.650000                20            453\n",
       "4           5               29.800000                10            298\n",
       "5           6               25.083333                12            301\n",
       "6           7               26.310345                29            763\n",
       "7           8               28.615385                13            372\n",
       "8           9               19.000000                 5             95\n",
       "9          10               22.484848                33            742\n",
       "10         11               18.578947                38            706\n",
       "11         12               24.571429                14            344\n",
       "12         13               22.275000                40            891\n",
       "13         14               18.363636                22            404\n",
       "14         15               20.333333                 6            122"
      ]
     },
     "execution_count": 105,
     "metadata": {},
     "output_type": "execute_result"
    }
   ],
   "source": [
    "productsdf.head(15)"
   ]
  },
  {
   "cell_type": "markdown",
   "metadata": {},
   "source": [
    "Check distributions of number of orders and mean ordered"
   ]
  },
  {
   "cell_type": "code",
   "execution_count": 106,
   "metadata": {},
   "outputs": [
    {
     "data": {
      "text/plain": [
       "<matplotlib.axes._subplots.AxesSubplot at 0x24b05ac8240>"
      ]
     },
     "execution_count": 106,
     "metadata": {},
     "output_type": "execute_result"
    },
    {
     "data": {
      "image/png": "[encoded data removed]",
      "text/plain": [
       "<Figure size 432x288 with 1 Axes>"
      ]
     },
     "metadata": {
      "needs_background": "light"
     },
     "output_type": "display_data"
    }
   ],
   "source": [
    "sns.distplot(productsdf.Number_of_orders, bins=20)"
   ]
  },
  {
   "cell_type": "code",
   "execution_count": 107,
   "metadata": {},
   "outputs": [
    {
     "data": {
      "text/plain": [
       "<matplotlib.axes._subplots.AxesSubplot at 0x24b059d56a0>"
      ]
     },
     "execution_count": 107,
     "metadata": {},
     "output_type": "execute_result"
    },
    {
     "data": {
      "image/png": "[encoded data removed]",
      "text/plain": [
       "<Figure size 432x288 with 1 Axes>"
      ]
     },
     "metadata": {
      "needs_background": "light"
     },
     "output_type": "display_data"
    }
   ],
   "source": [
    "sns.distplot(productsdf.Mean_ordered_per_order, bins=30)"
   ]
  },
  {
   "cell_type": "markdown",
   "metadata": {},
   "source": [
    "Making a box plot to spot outliers that have few big orders"
   ]
  },
  {
   "cell_type": "code",
   "execution_count": 364,
   "metadata": {},
   "outputs": [
    {
     "data": {
      "text/plain": [
       "<matplotlib.axes._subplots.AxesSubplot at 0x24b0dd4cf28>"
      ]
     },
     "execution_count": 364,
     "metadata": {},
     "output_type": "execute_result"
    },
    {
     "data": {
      "image/png": "[encoded data removed]",
      "text/plain": [
       "<Figure size 1080x576 with 1 Axes>"
      ]
     },
     "metadata": {
      "needs_background": "light"
     },
     "output_type": "display_data"
    }
   ],
   "source": [
    "plt.figure(figsize=(15,8))\n",
    "sns.boxplot(productsdf.Number_of_orders, productsdf.Mean_ordered_per_order)"
   ]
  },
  {
   "cell_type": "markdown",
   "metadata": {},
   "source": [
    "To find the outliers, I will sort by mean ordered"
   ]
  },
  {
   "cell_type": "code",
   "execution_count": 109,
   "metadata": {
    "scrolled": true
   },
   "outputs": [
    {
     "data": {
      "text/html": [
       "<div>\n",
       "<style scoped>\n",
       "    .dataframe tbody tr th:only-of-type {\n",
       "        vertical-align: middle;\n",
       "    }\n",
       "\n",
       "    .dataframe tbody tr th {\n",
       "        vertical-align: top;\n",
       "    }\n",
       "\n",
       "    .dataframe thead th {\n",
       "        text-align: right;\n",
       "    }\n",
       "</style>\n",
       "<table border=\"1\" class=\"dataframe\">\n",
       "  <thead>\n",
       "    <tr style=\"text-align: right;\">\n",
       "      <th></th>\n",
       "      <th>ProductId</th>\n",
       "      <th>Mean_ordered_per_order</th>\n",
       "      <th>Number_of_orders</th>\n",
       "      <th>Total_ordered</th>\n",
       "    </tr>\n",
       "  </thead>\n",
       "  <tbody>\n",
       "    <tr>\n",
       "      <th>26</th>\n",
       "      <td>27</td>\n",
       "      <td>40.555556</td>\n",
       "      <td>9</td>\n",
       "      <td>365</td>\n",
       "    </tr>\n",
       "    <tr>\n",
       "      <th>44</th>\n",
       "      <td>45</td>\n",
       "      <td>36.285714</td>\n",
       "      <td>14</td>\n",
       "      <td>508</td>\n",
       "    </tr>\n",
       "    <tr>\n",
       "      <th>59</th>\n",
       "      <td>60</td>\n",
       "      <td>30.921569</td>\n",
       "      <td>51</td>\n",
       "      <td>1577</td>\n",
       "    </tr>\n",
       "    <tr>\n",
       "      <th>65</th>\n",
       "      <td>66</td>\n",
       "      <td>29.875000</td>\n",
       "      <td>8</td>\n",
       "      <td>239</td>\n",
       "    </tr>\n",
       "    <tr>\n",
       "      <th>4</th>\n",
       "      <td>5</td>\n",
       "      <td>29.800000</td>\n",
       "      <td>10</td>\n",
       "      <td>298</td>\n",
       "    </tr>\n",
       "    <tr>\n",
       "      <th>57</th>\n",
       "      <td>58</td>\n",
       "      <td>29.666667</td>\n",
       "      <td>18</td>\n",
       "      <td>534</td>\n",
       "    </tr>\n",
       "    <tr>\n",
       "      <th>22</th>\n",
       "      <td>23</td>\n",
       "      <td>29.000000</td>\n",
       "      <td>20</td>\n",
       "      <td>580</td>\n",
       "    </tr>\n",
       "    <tr>\n",
       "      <th>7</th>\n",
       "      <td>8</td>\n",
       "      <td>28.615385</td>\n",
       "      <td>13</td>\n",
       "      <td>372</td>\n",
       "    </tr>\n",
       "    <tr>\n",
       "      <th>58</th>\n",
       "      <td>59</td>\n",
       "      <td>27.703704</td>\n",
       "      <td>54</td>\n",
       "      <td>1496</td>\n",
       "    </tr>\n",
       "    <tr>\n",
       "      <th>30</th>\n",
       "      <td>31</td>\n",
       "      <td>27.392157</td>\n",
       "      <td>51</td>\n",
       "      <td>1397</td>\n",
       "    </tr>\n",
       "  </tbody>\n",
       "</table>\n",
       "</div>"
      ],
      "text/plain": [
       "    ProductId  Mean_ordered_per_order  Number_of_orders  Total_ordered\n",
       "26         27               40.555556                 9            365\n",
       "44         45               36.285714                14            508\n",
       "59         60               30.921569                51           1577\n",
       "65         66               29.875000                 8            239\n",
       "4           5               29.800000                10            298\n",
       "57         58               29.666667                18            534\n",
       "22         23               29.000000                20            580\n",
       "7           8               28.615385                13            372\n",
       "58         59               27.703704                54           1496\n",
       "30         31               27.392157                51           1397"
      ]
     },
     "execution_count": 109,
     "metadata": {},
     "output_type": "execute_result"
    }
   ],
   "source": [
    "productsdf.sort_values(by=['Mean_ordered_per_order'], ascending=False).head(10)"
   ]
  },
  {
   "cell_type": "markdown",
   "metadata": {},
   "source": [
    "As can be seen product 27, 45 are major outliers while there are also more that are at about 20 orders or below with higher order amounts.  \n",
    "You can also see from the total ordered column a good metric for telling if there are a lot of products being sold or it is just a few big sales. For example compare product number 60 on line 3 above and product number 27 on line 1 above.       \n",
    "To narrow down the best selling on a more regular basis, I will sort by number of orders"
   ]
  },
  {
   "cell_type": "code",
   "execution_count": 110,
   "metadata": {},
   "outputs": [
    {
     "data": {
      "text/html": [
       "<div>\n",
       "<style scoped>\n",
       "    .dataframe tbody tr th:only-of-type {\n",
       "        vertical-align: middle;\n",
       "    }\n",
       "\n",
       "    .dataframe tbody tr th {\n",
       "        vertical-align: top;\n",
       "    }\n",
       "\n",
       "    .dataframe thead th {\n",
       "        text-align: right;\n",
       "    }\n",
       "</style>\n",
       "<table border=\"1\" class=\"dataframe\">\n",
       "  <thead>\n",
       "    <tr style=\"text-align: right;\">\n",
       "      <th></th>\n",
       "      <th>ProductId</th>\n",
       "      <th>Mean_ordered_per_order</th>\n",
       "      <th>Number_of_orders</th>\n",
       "      <th>Total_ordered</th>\n",
       "    </tr>\n",
       "  </thead>\n",
       "  <tbody>\n",
       "    <tr>\n",
       "      <th>58</th>\n",
       "      <td>59</td>\n",
       "      <td>27.703704</td>\n",
       "      <td>54</td>\n",
       "      <td>1496</td>\n",
       "    </tr>\n",
       "    <tr>\n",
       "      <th>59</th>\n",
       "      <td>60</td>\n",
       "      <td>30.921569</td>\n",
       "      <td>51</td>\n",
       "      <td>1577</td>\n",
       "    </tr>\n",
       "    <tr>\n",
       "      <th>30</th>\n",
       "      <td>31</td>\n",
       "      <td>27.392157</td>\n",
       "      <td>51</td>\n",
       "      <td>1397</td>\n",
       "    </tr>\n",
       "    <tr>\n",
       "      <th>23</th>\n",
       "      <td>24</td>\n",
       "      <td>22.058824</td>\n",
       "      <td>51</td>\n",
       "      <td>1125</td>\n",
       "    </tr>\n",
       "    <tr>\n",
       "      <th>55</th>\n",
       "      <td>56</td>\n",
       "      <td>25.260000</td>\n",
       "      <td>50</td>\n",
       "      <td>1263</td>\n",
       "    </tr>\n",
       "    <tr>\n",
       "      <th>61</th>\n",
       "      <td>62</td>\n",
       "      <td>22.562500</td>\n",
       "      <td>48</td>\n",
       "      <td>1083</td>\n",
       "    </tr>\n",
       "    <tr>\n",
       "      <th>40</th>\n",
       "      <td>41</td>\n",
       "      <td>20.872340</td>\n",
       "      <td>47</td>\n",
       "      <td>981</td>\n",
       "    </tr>\n",
       "    <tr>\n",
       "      <th>74</th>\n",
       "      <td>75</td>\n",
       "      <td>25.108696</td>\n",
       "      <td>46</td>\n",
       "      <td>1155</td>\n",
       "    </tr>\n",
       "    <tr>\n",
       "      <th>1</th>\n",
       "      <td>2</td>\n",
       "      <td>24.022727</td>\n",
       "      <td>44</td>\n",
       "      <td>1057</td>\n",
       "    </tr>\n",
       "    <tr>\n",
       "      <th>15</th>\n",
       "      <td>16</td>\n",
       "      <td>26.930233</td>\n",
       "      <td>43</td>\n",
       "      <td>1158</td>\n",
       "    </tr>\n",
       "  </tbody>\n",
       "</table>\n",
       "</div>"
      ],
      "text/plain": [
       "    ProductId  Mean_ordered_per_order  Number_of_orders  Total_ordered\n",
       "58         59               27.703704                54           1496\n",
       "59         60               30.921569                51           1577\n",
       "30         31               27.392157                51           1397\n",
       "23         24               22.058824                51           1125\n",
       "55         56               25.260000                50           1263\n",
       "61         62               22.562500                48           1083\n",
       "40         41               20.872340                47            981\n",
       "74         75               25.108696                46           1155\n",
       "1           2               24.022727                44           1057\n",
       "15         16               26.930233                43           1158"
      ]
     },
     "execution_count": 110,
     "metadata": {},
     "output_type": "execute_result"
    }
   ],
   "source": [
    "productsdf.sort_values(by=['Number_of_orders'], ascending=False).head(10)"
   ]
  },
  {
   "cell_type": "markdown",
   "metadata": {},
   "source": [
    "I want to find the best ones, so I will check the mean and quantiles of the df"
   ]
  },
  {
   "cell_type": "code",
   "execution_count": 111,
   "metadata": {},
   "outputs": [
    {
     "data": {
      "text/html": [
       "<div>\n",
       "<style scoped>\n",
       "    .dataframe tbody tr th:only-of-type {\n",
       "        vertical-align: middle;\n",
       "    }\n",
       "\n",
       "    .dataframe tbody tr th {\n",
       "        vertical-align: top;\n",
       "    }\n",
       "\n",
       "    .dataframe thead th {\n",
       "        text-align: right;\n",
       "    }\n",
       "</style>\n",
       "<table border=\"1\" class=\"dataframe\">\n",
       "  <thead>\n",
       "    <tr style=\"text-align: right;\">\n",
       "      <th></th>\n",
       "      <th>ProductId</th>\n",
       "      <th>Mean_ordered_per_order</th>\n",
       "      <th>Number_of_orders</th>\n",
       "      <th>Total_ordered</th>\n",
       "    </tr>\n",
       "  </thead>\n",
       "  <tbody>\n",
       "    <tr>\n",
       "      <th>count</th>\n",
       "      <td>77.000000</td>\n",
       "      <td>77.000000</td>\n",
       "      <td>77.000000</td>\n",
       "      <td>77.000000</td>\n",
       "    </tr>\n",
       "    <tr>\n",
       "      <th>mean</th>\n",
       "      <td>39.000000</td>\n",
       "      <td>23.917082</td>\n",
       "      <td>27.987013</td>\n",
       "      <td>666.454545</td>\n",
       "    </tr>\n",
       "    <tr>\n",
       "      <th>std</th>\n",
       "      <td>22.371857</td>\n",
       "      <td>3.995918</td>\n",
       "      <td>12.944714</td>\n",
       "      <td>329.244492</td>\n",
       "    </tr>\n",
       "    <tr>\n",
       "      <th>min</th>\n",
       "      <td>1.000000</td>\n",
       "      <td>17.241379</td>\n",
       "      <td>5.000000</td>\n",
       "      <td>95.000000</td>\n",
       "    </tr>\n",
       "    <tr>\n",
       "      <th>25%</th>\n",
       "      <td>20.000000</td>\n",
       "      <td>20.928571</td>\n",
       "      <td>17.000000</td>\n",
       "      <td>404.000000</td>\n",
       "    </tr>\n",
       "    <tr>\n",
       "      <th>50%</th>\n",
       "      <td>39.000000</td>\n",
       "      <td>23.500000</td>\n",
       "      <td>30.000000</td>\n",
       "      <td>697.000000</td>\n",
       "    </tr>\n",
       "    <tr>\n",
       "      <th>75%</th>\n",
       "      <td>58.000000</td>\n",
       "      <td>26.051282</td>\n",
       "      <td>38.000000</td>\n",
       "      <td>828.000000</td>\n",
       "    </tr>\n",
       "    <tr>\n",
       "      <th>max</th>\n",
       "      <td>77.000000</td>\n",
       "      <td>40.555556</td>\n",
       "      <td>54.000000</td>\n",
       "      <td>1577.000000</td>\n",
       "    </tr>\n",
       "  </tbody>\n",
       "</table>\n",
       "</div>"
      ],
      "text/plain": [
       "       ProductId  Mean_ordered_per_order  Number_of_orders  Total_ordered\n",
       "count  77.000000               77.000000         77.000000      77.000000\n",
       "mean   39.000000               23.917082         27.987013     666.454545\n",
       "std    22.371857                3.995918         12.944714     329.244492\n",
       "min     1.000000               17.241379          5.000000      95.000000\n",
       "25%    20.000000               20.928571         17.000000     404.000000\n",
       "50%    39.000000               23.500000         30.000000     697.000000\n",
       "75%    58.000000               26.051282         38.000000     828.000000\n",
       "max    77.000000               40.555556         54.000000    1577.000000"
      ]
     },
     "execution_count": 111,
     "metadata": {},
     "output_type": "execute_result"
    }
   ],
   "source": [
    "productsdf.describe()"
   ]
  },
  {
   "cell_type": "markdown",
   "metadata": {},
   "source": [
    "I will slice the df on the 75th percentile of the means and number of orders as these would seem to be the best performing based on both mean ordered and number of orders"
   ]
  },
  {
   "cell_type": "code",
   "execution_count": 112,
   "metadata": {},
   "outputs": [
    {
     "data": {
      "text/html": [
       "<div>\n",
       "<style scoped>\n",
       "    .dataframe tbody tr th:only-of-type {\n",
       "        vertical-align: middle;\n",
       "    }\n",
       "\n",
       "    .dataframe tbody tr th {\n",
       "        vertical-align: top;\n",
       "    }\n",
       "\n",
       "    .dataframe thead th {\n",
       "        text-align: right;\n",
       "    }\n",
       "</style>\n",
       "<table border=\"1\" class=\"dataframe\">\n",
       "  <thead>\n",
       "    <tr style=\"text-align: right;\">\n",
       "      <th></th>\n",
       "      <th>ProductId</th>\n",
       "      <th>Mean_ordered_per_order</th>\n",
       "      <th>Number_of_orders</th>\n",
       "      <th>Total_ordered</th>\n",
       "    </tr>\n",
       "  </thead>\n",
       "  <tbody>\n",
       "    <tr>\n",
       "      <th>15</th>\n",
       "      <td>16</td>\n",
       "      <td>26.930233</td>\n",
       "      <td>43</td>\n",
       "      <td>1158</td>\n",
       "    </tr>\n",
       "    <tr>\n",
       "      <th>20</th>\n",
       "      <td>21</td>\n",
       "      <td>26.051282</td>\n",
       "      <td>39</td>\n",
       "      <td>1016</td>\n",
       "    </tr>\n",
       "    <tr>\n",
       "      <th>30</th>\n",
       "      <td>31</td>\n",
       "      <td>27.392157</td>\n",
       "      <td>51</td>\n",
       "      <td>1397</td>\n",
       "    </tr>\n",
       "    <tr>\n",
       "      <th>39</th>\n",
       "      <td>40</td>\n",
       "      <td>26.902439</td>\n",
       "      <td>41</td>\n",
       "      <td>1103</td>\n",
       "    </tr>\n",
       "    <tr>\n",
       "      <th>58</th>\n",
       "      <td>59</td>\n",
       "      <td>27.703704</td>\n",
       "      <td>54</td>\n",
       "      <td>1496</td>\n",
       "    </tr>\n",
       "    <tr>\n",
       "      <th>59</th>\n",
       "      <td>60</td>\n",
       "      <td>30.921569</td>\n",
       "      <td>51</td>\n",
       "      <td>1577</td>\n",
       "    </tr>\n",
       "  </tbody>\n",
       "</table>\n",
       "</div>"
      ],
      "text/plain": [
       "    ProductId  Mean_ordered_per_order  Number_of_orders  Total_ordered\n",
       "15         16               26.930233                43           1158\n",
       "20         21               26.051282                39           1016\n",
       "30         31               27.392157                51           1397\n",
       "39         40               26.902439                41           1103\n",
       "58         59               27.703704                54           1496\n",
       "59         60               30.921569                51           1577"
      ]
     },
     "execution_count": 112,
     "metadata": {},
     "output_type": "execute_result"
    }
   ],
   "source": [
    "best_mean_and_orders = productsdf.loc[(productsdf.Mean_ordered_per_order >= 26) & (productsdf.Number_of_orders >= 38)]\n",
    "best_mean_and_orders"
   ]
  },
  {
   "cell_type": "markdown",
   "metadata": {},
   "source": [
    "We are left with 6 products that I would say are the best ones for selling a lot of products on a regular schedule.  \n",
    "This can be confirmed by looking at the total ordered column as well."
   ]
  },
  {
   "cell_type": "markdown",
   "metadata": {},
   "source": [
    "I would also suggest looking at anything on this list that sells more then 1016 items overall, even though they are not on the above list, as they would all be good performers as well.  \n",
    "This would conteract any bais of good performers that do not fit the above criteria."
   ]
  },
  {
   "cell_type": "code",
   "execution_count": 113,
   "metadata": {},
   "outputs": [
    {
     "data": {
      "text/html": [
       "<div>\n",
       "<style scoped>\n",
       "    .dataframe tbody tr th:only-of-type {\n",
       "        vertical-align: middle;\n",
       "    }\n",
       "\n",
       "    .dataframe tbody tr th {\n",
       "        vertical-align: top;\n",
       "    }\n",
       "\n",
       "    .dataframe thead th {\n",
       "        text-align: right;\n",
       "    }\n",
       "</style>\n",
       "<table border=\"1\" class=\"dataframe\">\n",
       "  <thead>\n",
       "    <tr style=\"text-align: right;\">\n",
       "      <th></th>\n",
       "      <th>ProductId</th>\n",
       "      <th>Mean_ordered_per_order</th>\n",
       "      <th>Number_of_orders</th>\n",
       "      <th>Total_ordered</th>\n",
       "    </tr>\n",
       "  </thead>\n",
       "  <tbody>\n",
       "    <tr>\n",
       "      <th>55</th>\n",
       "      <td>56</td>\n",
       "      <td>25.260000</td>\n",
       "      <td>50</td>\n",
       "      <td>1263</td>\n",
       "    </tr>\n",
       "    <tr>\n",
       "      <th>74</th>\n",
       "      <td>75</td>\n",
       "      <td>25.108696</td>\n",
       "      <td>46</td>\n",
       "      <td>1155</td>\n",
       "    </tr>\n",
       "    <tr>\n",
       "      <th>23</th>\n",
       "      <td>24</td>\n",
       "      <td>22.058824</td>\n",
       "      <td>51</td>\n",
       "      <td>1125</td>\n",
       "    </tr>\n",
       "    <tr>\n",
       "      <th>61</th>\n",
       "      <td>62</td>\n",
       "      <td>22.562500</td>\n",
       "      <td>48</td>\n",
       "      <td>1083</td>\n",
       "    </tr>\n",
       "    <tr>\n",
       "      <th>1</th>\n",
       "      <td>2</td>\n",
       "      <td>24.022727</td>\n",
       "      <td>44</td>\n",
       "      <td>1057</td>\n",
       "    </tr>\n",
       "    <tr>\n",
       "      <th>70</th>\n",
       "      <td>71</td>\n",
       "      <td>25.166667</td>\n",
       "      <td>42</td>\n",
       "      <td>1057</td>\n",
       "    </tr>\n",
       "  </tbody>\n",
       "</table>\n",
       "</div>"
      ],
      "text/plain": [
       "    ProductId  Mean_ordered_per_order  Number_of_orders  Total_ordered\n",
       "55         56               25.260000                50           1263\n",
       "74         75               25.108696                46           1155\n",
       "23         24               22.058824                51           1125\n",
       "61         62               22.562500                48           1083\n",
       "1           2               24.022727                44           1057\n",
       "70         71               25.166667                42           1057"
      ]
     },
     "execution_count": 113,
     "metadata": {},
     "output_type": "execute_result"
    }
   ],
   "source": [
    "high_quantity = productsdf.loc[productsdf.Total_ordered >= 1016].sort_values(by=['Total_ordered'], ascending=False).drop(best_mean_and_orders.index, axis=0)\n",
    "high_quantity"
   ]
  },
  {
   "cell_type": "markdown",
   "metadata": {},
   "source": [
    "[Return to contents](#Table-of-contents)"
   ]
  },
  {
   "cell_type": "markdown",
   "metadata": {},
   "source": [
    "## Answering the 2nd question"
   ]
  },
  {
   "cell_type": "markdown",
   "metadata": {},
   "source": [
    "I will do a 1 sample T-test to see if the mean of the products are equal to the mean of quantity per order.  \n",
    "If all means are equal then the p-value should be low"
   ]
  },
  {
   "cell_type": "code",
   "execution_count": 114,
   "metadata": {},
   "outputs": [
    {
     "data": {
      "text/plain": [
       "Ttest_1sampResult(statistic=0.22857749391703608, pvalue=0.8198112481362494)"
      ]
     },
     "execution_count": 114,
     "metadata": {},
     "output_type": "execute_result"
    }
   ],
   "source": [
    "stats.ttest_1samp(productsdf.Mean_ordered_per_order, ordersdf.Quantity.mean())"
   ]
  },
  {
   "cell_type": "markdown",
   "metadata": {},
   "source": [
    "As we have a high p-value we reject the null hypthosis that the means are equal"
   ]
  },
  {
   "cell_type": "markdown",
   "metadata": {},
   "source": [
    "I will now split the products into individual lists of the quantity in each order to then do independent t-tests on each compared to the other, only if there are more then 30 samples. This will also automaticlly filter out any low amounts of large orders"
   ]
  },
  {
   "cell_type": "code",
   "execution_count": 118,
   "metadata": {},
   "outputs": [],
   "source": [
    "test_d = {}\n",
    "for product in product_numbers:\n",
    "    test_d[product] = ordersdf.loc[ordersdf.ProductId == product, 'Quantity'].values"
   ]
  },
  {
   "cell_type": "code",
   "execution_count": 175,
   "metadata": {},
   "outputs": [
    {
     "data": {
      "text/plain": [
       "[(0.044746582858116765, 1, 60),\n",
       " (0.016348620116840556, 11, 16),\n",
       " (0.036226126797898085, 11, 21),\n",
       " (0.014567510432400416, 11, 31),\n",
       " (0.031664101932875506, 11, 36),\n",
       " (0.047868471224853826, 11, 40),\n",
       " (0.043196815872542524, 11, 56),\n",
       " (0.030639365236145327, 11, 59),\n",
       " (0.004169693207133209, 11, 60),\n",
       " (0.016348620116840556, 16, 11),\n",
       " (0.04809544309883584, 16, 28),\n",
       " (0.03182642871526744, 16, 30),\n",
       " (0.04270560604153618, 19, 31),\n",
       " (0.012288878839458757, 19, 60),\n",
       " (0.036226126797898085, 21, 11),\n",
       " (0.03997712960279331, 24, 60),\n",
       " (0.04809544309883584, 28, 16),\n",
       " (0.042062029886827494, 28, 31),\n",
       " (0.01355733873756257, 28, 60),\n",
       " (0.03182642871526744, 30, 16),\n",
       " (0.029793093241098835, 30, 31),\n",
       " (0.010051935920439336, 30, 60),\n",
       " (0.014567510432400416, 31, 11),\n",
       " (0.04270560604153618, 31, 19),\n",
       " (0.042062029886827494, 31, 28),\n",
       " (0.029793093241098835, 31, 30),\n",
       " (0.031664101932875506, 36, 11),\n",
       " (0.047868471224853826, 40, 11),\n",
       " (0.02392611169303555, 41, 60),\n",
       " (0.0307882304959382, 54, 60),\n",
       " (0.043196815872542524, 56, 11),\n",
       " (0.030639365236145327, 59, 11),\n",
       " (0.044746582858116765, 60, 1),\n",
       " (0.004169693207133209, 60, 11),\n",
       " (0.012288878839458757, 60, 19),\n",
       " (0.03997712960279331, 60, 24),\n",
       " (0.01355733873756257, 60, 28),\n",
       " (0.010051935920439336, 60, 30),\n",
       " (0.02392611169303555, 60, 41),\n",
       " (0.0307882304959382, 60, 54),\n",
       " (0.04672939954209267, 60, 62),\n",
       " (0.02043094848034653, 60, 70),\n",
       " (0.02454294657177944, 60, 72),\n",
       " (0.023218180930336126, 60, 77),\n",
       " (0.04672939954209267, 62, 60),\n",
       " (0.02043094848034653, 70, 60),\n",
       " (0.02454294657177944, 72, 60),\n",
       " (0.023218180930336126, 77, 60)]"
      ]
     },
     "execution_count": 175,
     "metadata": {},
     "output_type": "execute_result"
    }
   ],
   "source": [
    "results_list = []\n",
    "for k,v in test_d.items():\n",
    "    if len(v) < 30:\n",
    "        continue\n",
    "    for k2,v2 in test_d.items():\n",
    "        if k == k2 or len(v2) < 30:\n",
    "            continue\n",
    "        else:\n",
    "            t, p = stats.ttest_ind(v,v2)\n",
    "            if p < .05:\n",
    "                results_list.append((p, k, k2))\n",
    "len(results_list)\n",
    "results_list"
   ]
  },
  {
   "cell_type": "markdown",
   "metadata": {},
   "source": [
    "Now checking the effect size and power of these combinations"
   ]
  },
  {
   "cell_type": "code",
   "execution_count": 291,
   "metadata": {},
   "outputs": [],
   "source": [
    "power_results = []\n",
    "for result in results_list:\n",
    "    d = Cohen_d_np(test_d[result[1]], test_d[result[2]])\n",
    "    power = power_analysis.solve_power(effect_size=d, alpha=.05, nobs1=np.shape(test_d[result[1]])[0])\n",
    "    power_results.append((result[1], result[2], d, power))\n",
    "    "
   ]
  },
  {
   "cell_type": "code",
   "execution_count": 292,
   "metadata": {},
   "outputs": [
    {
     "data": {
      "text/plain": [
       "[(1, 60, -0.4413932836864479, 0.47574974783852775),\n",
       " (11, 16, -0.5531364716360437, 0.6626611693651017),\n",
       " (11, 21, -0.4925559815611534, 0.5632364065248371),\n",
       " (11, 31, -0.540310697898325, 0.6422841030315846),\n",
       " (11, 36, -0.5390030984059679, 0.6401824970481297),\n",
       " (11, 40, -0.4585902166323485, 0.5052323505535643),\n",
       " (11, 56, -0.44674935852967884, 0.48492511989453774),\n",
       " (11, 59, -0.47018939580118724, 0.5251140130946828),\n",
       " (11, 60, -0.6378295336427395, 0.7834878106296393),\n",
       " (16, 11, 0.5531364716360437, 0.7174950072970712),\n",
       " (16, 28, 0.47137376194599145, 0.5795415903002306),\n",
       " (16, 30, 0.5179101852491841, 0.6605552207375773),\n",
       " (19, 31, -0.4493701140401981, 0.47893891728721655),\n",
       " (19, 60, -0.5587271987540215, 0.6594932767259662),\n",
       " (21, 11, 0.4925559815611534, 0.5744116580622605),\n",
       " (24, 60, -0.416225672247304, 0.5484431115094098),\n",
       " (28, 16, -0.47137376194599145, 0.47056766911730685),\n",
       " (28, 31, -0.46697599972392806, 0.46357765489444036),\n",
       " (28, 60, -0.5705564962086817, 0.6265751306972233),\n",
       " (30, 16, -0.5179101852491841, 0.5317263341533252),\n",
       " (30, 31, -0.5049327796187998, 0.5113815736618831),\n",
       " (30, 60, -0.6017534064894761, 0.6589703920862277),\n",
       " (31, 11, 0.540310697898325, 0.7710130730957601),\n",
       " (31, 19, 0.4493701140401981, 0.6131144266137863),\n",
       " (31, 28, 0.46697599972392806, 0.6463477958413332),\n",
       " (31, 30, 0.5049327796187998, 0.7140578657941822),\n",
       " (36, 11, 0.5390030984059679, 0.5509735435409333),\n",
       " (40, 11, 0.4585902166323485, 0.5364546174548879),\n",
       " (41, 60, -0.4688029489046805, 0.6136735074891644),\n",
       " (54, 60, -0.4837034481728011, 0.5255560828569193),\n",
       " (56, 11, 0.44674935852967884, 0.5994386046752),\n",
       " (59, 11, 0.47018939580118724, 0.6776162700075665),\n",
       " (60, 1, 0.4413932836864479, 0.5977629373673919),\n",
       " (60, 11, 0.6378295336427395, 0.8906204999768002),\n",
       " (60, 19, 0.5587271987540215, 0.7979384620406418),\n",
       " (60, 24, 0.416225672247304, 0.5484431115094098),\n",
       " (60, 28, 0.5705564962086817, 0.8141874404324281),\n",
       " (60, 30, 0.6017534064894761, 0.8530110750280834),\n",
       " (60, 41, 0.4688029489046805, 0.6497383307915517),\n",
       " (60, 54, 0.4837034481728011, 0.6769267629971206),\n",
       " (60, 62, 0.40926357879496805, 0.534633516645327),\n",
       " (60, 70, 0.5079149021025567, 0.7191070024615287),\n",
       " (60, 72, 0.4959855844377055, 0.6986557711054084),\n",
       " (60, 77, 0.5008253586632884, 0.7070336450001264),\n",
       " (62, 60, -0.40926357879496805, 0.5098151564571045),\n",
       " (70, 60, -0.5079149021025567, 0.6004690000231209),\n",
       " (72, 60, -0.4959855844377055, 0.5690395801642453),\n",
       " (77, 60, -0.5008253586632884, 0.5772034180133444)]"
      ]
     },
     "execution_count": 292,
     "metadata": {},
     "output_type": "execute_result"
    }
   ],
   "source": [
    "power_results"
   ]
  },
  {
   "cell_type": "markdown",
   "metadata": {},
   "source": [
    "The only one that seems to be better then the others with a power signifigance over 80 is the product number 60, which as can be seen below has the highest total ordered and the highest mean per order.  \n",
    "16 and 31 may also be good ones, the power on them is in the 70's, the signifigance is all with at least 95% signifigance "
   ]
  },
  {
   "cell_type": "markdown",
   "metadata": {},
   "source": [
    "[Return to contents](#Table-of-contents)"
   ]
  },
  {
   "cell_type": "markdown",
   "metadata": {},
   "source": [
    "## Conclusion and Recommendation for 2nd question"
   ]
  },
  {
   "cell_type": "markdown",
   "metadata": {},
   "source": [
    "I would suggest the company focus on 60,16 and 31 as they seem to be the best preforming"
   ]
  },
  {
   "cell_type": "markdown",
   "metadata": {},
   "source": [
    "I also would suggest further work in looking into the other products on these 2 lists as well"
   ]
  },
  {
   "cell_type": "code",
   "execution_count": 124,
   "metadata": {},
   "outputs": [
    {
     "data": {
      "text/html": [
       "<div>\n",
       "<style scoped>\n",
       "    .dataframe tbody tr th:only-of-type {\n",
       "        vertical-align: middle;\n",
       "    }\n",
       "\n",
       "    .dataframe tbody tr th {\n",
       "        vertical-align: top;\n",
       "    }\n",
       "\n",
       "    .dataframe thead th {\n",
       "        text-align: right;\n",
       "    }\n",
       "</style>\n",
       "<table border=\"1\" class=\"dataframe\">\n",
       "  <thead>\n",
       "    <tr style=\"text-align: right;\">\n",
       "      <th></th>\n",
       "      <th>ProductId</th>\n",
       "      <th>Mean_ordered_per_order</th>\n",
       "      <th>Number_of_orders</th>\n",
       "      <th>Total_ordered</th>\n",
       "    </tr>\n",
       "  </thead>\n",
       "  <tbody>\n",
       "    <tr>\n",
       "      <th>15</th>\n",
       "      <td>16</td>\n",
       "      <td>26.930233</td>\n",
       "      <td>43</td>\n",
       "      <td>1158</td>\n",
       "    </tr>\n",
       "    <tr>\n",
       "      <th>20</th>\n",
       "      <td>21</td>\n",
       "      <td>26.051282</td>\n",
       "      <td>39</td>\n",
       "      <td>1016</td>\n",
       "    </tr>\n",
       "    <tr>\n",
       "      <th>30</th>\n",
       "      <td>31</td>\n",
       "      <td>27.392157</td>\n",
       "      <td>51</td>\n",
       "      <td>1397</td>\n",
       "    </tr>\n",
       "    <tr>\n",
       "      <th>39</th>\n",
       "      <td>40</td>\n",
       "      <td>26.902439</td>\n",
       "      <td>41</td>\n",
       "      <td>1103</td>\n",
       "    </tr>\n",
       "    <tr>\n",
       "      <th>58</th>\n",
       "      <td>59</td>\n",
       "      <td>27.703704</td>\n",
       "      <td>54</td>\n",
       "      <td>1496</td>\n",
       "    </tr>\n",
       "    <tr>\n",
       "      <th>59</th>\n",
       "      <td>60</td>\n",
       "      <td>30.921569</td>\n",
       "      <td>51</td>\n",
       "      <td>1577</td>\n",
       "    </tr>\n",
       "  </tbody>\n",
       "</table>\n",
       "</div>"
      ],
      "text/plain": [
       "    ProductId  Mean_ordered_per_order  Number_of_orders  Total_ordered\n",
       "15         16               26.930233                43           1158\n",
       "20         21               26.051282                39           1016\n",
       "30         31               27.392157                51           1397\n",
       "39         40               26.902439                41           1103\n",
       "58         59               27.703704                54           1496\n",
       "59         60               30.921569                51           1577"
      ]
     },
     "execution_count": 124,
     "metadata": {},
     "output_type": "execute_result"
    }
   ],
   "source": [
    "best_mean_and_orders"
   ]
  },
  {
   "cell_type": "code",
   "execution_count": 125,
   "metadata": {},
   "outputs": [
    {
     "data": {
      "text/html": [
       "<div>\n",
       "<style scoped>\n",
       "    .dataframe tbody tr th:only-of-type {\n",
       "        vertical-align: middle;\n",
       "    }\n",
       "\n",
       "    .dataframe tbody tr th {\n",
       "        vertical-align: top;\n",
       "    }\n",
       "\n",
       "    .dataframe thead th {\n",
       "        text-align: right;\n",
       "    }\n",
       "</style>\n",
       "<table border=\"1\" class=\"dataframe\">\n",
       "  <thead>\n",
       "    <tr style=\"text-align: right;\">\n",
       "      <th></th>\n",
       "      <th>ProductId</th>\n",
       "      <th>Mean_ordered_per_order</th>\n",
       "      <th>Number_of_orders</th>\n",
       "      <th>Total_ordered</th>\n",
       "    </tr>\n",
       "  </thead>\n",
       "  <tbody>\n",
       "    <tr>\n",
       "      <th>55</th>\n",
       "      <td>56</td>\n",
       "      <td>25.260000</td>\n",
       "      <td>50</td>\n",
       "      <td>1263</td>\n",
       "    </tr>\n",
       "    <tr>\n",
       "      <th>74</th>\n",
       "      <td>75</td>\n",
       "      <td>25.108696</td>\n",
       "      <td>46</td>\n",
       "      <td>1155</td>\n",
       "    </tr>\n",
       "    <tr>\n",
       "      <th>23</th>\n",
       "      <td>24</td>\n",
       "      <td>22.058824</td>\n",
       "      <td>51</td>\n",
       "      <td>1125</td>\n",
       "    </tr>\n",
       "    <tr>\n",
       "      <th>61</th>\n",
       "      <td>62</td>\n",
       "      <td>22.562500</td>\n",
       "      <td>48</td>\n",
       "      <td>1083</td>\n",
       "    </tr>\n",
       "    <tr>\n",
       "      <th>1</th>\n",
       "      <td>2</td>\n",
       "      <td>24.022727</td>\n",
       "      <td>44</td>\n",
       "      <td>1057</td>\n",
       "    </tr>\n",
       "    <tr>\n",
       "      <th>70</th>\n",
       "      <td>71</td>\n",
       "      <td>25.166667</td>\n",
       "      <td>42</td>\n",
       "      <td>1057</td>\n",
       "    </tr>\n",
       "  </tbody>\n",
       "</table>\n",
       "</div>"
      ],
      "text/plain": [
       "    ProductId  Mean_ordered_per_order  Number_of_orders  Total_ordered\n",
       "55         56               25.260000                50           1263\n",
       "74         75               25.108696                46           1155\n",
       "23         24               22.058824                51           1125\n",
       "61         62               22.562500                48           1083\n",
       "1           2               24.022727                44           1057\n",
       "70         71               25.166667                42           1057"
      ]
     },
     "execution_count": 125,
     "metadata": {},
     "output_type": "execute_result"
    }
   ],
   "source": [
    "high_quantity"
   ]
  },
  {
   "cell_type": "markdown",
   "metadata": {},
   "source": [
    "[Return to contents](#Table-of-contents)"
   ]
  },
  {
   "cell_type": "markdown",
   "metadata": {},
   "source": [
    "## Third Question"
   ]
  },
  {
   "cell_type": "markdown",
   "metadata": {},
   "source": [
    "Are any categories changing in sales from month to month?  \n",
    "  \n",
    "\n",
    "H0 = each category sold same quantity’s per month  \n",
    "Ha = each category sold different quantity’s per month  \n",
    "alpha = .05"
   ]
  },
  {
   "cell_type": "markdown",
   "metadata": {},
   "source": [
    "[Return to contents](#Table-of-contents)"
   ]
  },
  {
   "cell_type": "markdown",
   "metadata": {},
   "source": [
    "## Load in information needed for 3rd question"
   ]
  },
  {
   "cell_type": "code",
   "execution_count": 126,
   "metadata": {},
   "outputs": [
    {
     "data": {
      "text/html": [
       "<div>\n",
       "<style scoped>\n",
       "    .dataframe tbody tr th:only-of-type {\n",
       "        vertical-align: middle;\n",
       "    }\n",
       "\n",
       "    .dataframe tbody tr th {\n",
       "        vertical-align: top;\n",
       "    }\n",
       "\n",
       "    .dataframe thead th {\n",
       "        text-align: right;\n",
       "    }\n",
       "</style>\n",
       "<table border=\"1\" class=\"dataframe\">\n",
       "  <thead>\n",
       "    <tr style=\"text-align: right;\">\n",
       "      <th></th>\n",
       "      <th>OrderId</th>\n",
       "      <th>ProductId</th>\n",
       "      <th>Quantity</th>\n",
       "      <th>CategoryId</th>\n",
       "      <th>OrderDate</th>\n",
       "    </tr>\n",
       "  </thead>\n",
       "  <tbody>\n",
       "    <tr>\n",
       "      <th>0</th>\n",
       "      <td>10248</td>\n",
       "      <td>11</td>\n",
       "      <td>12</td>\n",
       "      <td>4</td>\n",
       "      <td>2012-07-04</td>\n",
       "    </tr>\n",
       "    <tr>\n",
       "      <th>1</th>\n",
       "      <td>10248</td>\n",
       "      <td>42</td>\n",
       "      <td>10</td>\n",
       "      <td>5</td>\n",
       "      <td>2012-07-04</td>\n",
       "    </tr>\n",
       "    <tr>\n",
       "      <th>2</th>\n",
       "      <td>10248</td>\n",
       "      <td>72</td>\n",
       "      <td>5</td>\n",
       "      <td>4</td>\n",
       "      <td>2012-07-04</td>\n",
       "    </tr>\n",
       "    <tr>\n",
       "      <th>3</th>\n",
       "      <td>10249</td>\n",
       "      <td>14</td>\n",
       "      <td>9</td>\n",
       "      <td>7</td>\n",
       "      <td>2012-07-05</td>\n",
       "    </tr>\n",
       "    <tr>\n",
       "      <th>4</th>\n",
       "      <td>10249</td>\n",
       "      <td>51</td>\n",
       "      <td>40</td>\n",
       "      <td>7</td>\n",
       "      <td>2012-07-05</td>\n",
       "    </tr>\n",
       "  </tbody>\n",
       "</table>\n",
       "</div>"
      ],
      "text/plain": [
       "   OrderId  ProductId  Quantity  CategoryId   OrderDate\n",
       "0    10248         11        12           4  2012-07-04\n",
       "1    10248         42        10           5  2012-07-04\n",
       "2    10248         72         5           4  2012-07-04\n",
       "3    10249         14         9           7  2012-07-05\n",
       "4    10249         51        40           7  2012-07-05"
      ]
     },
     "execution_count": 126,
     "metadata": {},
     "output_type": "execute_result"
    }
   ],
   "source": [
    "c.execute('''Select OrderId, ProductId, Quantity, CategoryId, OrderDate \n",
    "            from Product p \n",
    "            join OrderDetail od\n",
    "            on p.Id = od.ProductID\n",
    "            join 'Order' o\n",
    "            on od.OrderId = o.Id\n",
    "            ;''')\n",
    "catdf = pd.DataFrame(c.fetchall())\n",
    "catdf.columns = [x[0] for x in c.description]\n",
    "catdf.head()"
   ]
  },
  {
   "cell_type": "code",
   "execution_count": 127,
   "metadata": {},
   "outputs": [
    {
     "name": "stdout",
     "output_type": "stream",
     "text": [
      "<class 'pandas.core.frame.DataFrame'>\n",
      "RangeIndex: 2155 entries, 0 to 2154\n",
      "Data columns (total 5 columns):\n",
      "OrderId       2155 non-null int64\n",
      "ProductId     2155 non-null int64\n",
      "Quantity      2155 non-null int64\n",
      "CategoryId    2155 non-null int64\n",
      "OrderDate     2155 non-null object\n",
      "dtypes: int64(4), object(1)\n",
      "memory usage: 84.3+ KB\n"
     ]
    }
   ],
   "source": [
    "catdf.info()"
   ]
  },
  {
   "cell_type": "markdown",
   "metadata": {},
   "source": [
    "[Return to contents](#Table-of-contents)"
   ]
  },
  {
   "cell_type": "markdown",
   "metadata": {},
   "source": [
    "## Checkout the information for the 3rd question"
   ]
  },
  {
   "cell_type": "markdown",
   "metadata": {},
   "source": [
    "Change date to a datetime column so it is easier to pull out the information from it"
   ]
  },
  {
   "cell_type": "code",
   "execution_count": 128,
   "metadata": {},
   "outputs": [],
   "source": [
    "catdf.OrderDate = pd.to_datetime(catdf.OrderDate)"
   ]
  },
  {
   "cell_type": "code",
   "execution_count": 129,
   "metadata": {},
   "outputs": [
    {
     "name": "stdout",
     "output_type": "stream",
     "text": [
      "<class 'pandas.core.frame.DataFrame'>\n",
      "RangeIndex: 2155 entries, 0 to 2154\n",
      "Data columns (total 5 columns):\n",
      "OrderId       2155 non-null int64\n",
      "ProductId     2155 non-null int64\n",
      "Quantity      2155 non-null int64\n",
      "CategoryId    2155 non-null int64\n",
      "OrderDate     2155 non-null datetime64[ns]\n",
      "dtypes: datetime64[ns](1), int64(4)\n",
      "memory usage: 84.3 KB\n"
     ]
    }
   ],
   "source": [
    "catdf.info()"
   ]
  },
  {
   "cell_type": "markdown",
   "metadata": {},
   "source": [
    "See which years we have in this dataframe"
   ]
  },
  {
   "cell_type": "code",
   "execution_count": 130,
   "metadata": {},
   "outputs": [
    {
     "data": {
      "text/plain": [
       "[2012, 2013, 2014]"
      ]
     },
     "execution_count": 130,
     "metadata": {},
     "output_type": "execute_result"
    }
   ],
   "source": [
    "years = list(catdf.OrderDate.dt.year.unique())\n",
    "years"
   ]
  },
  {
   "cell_type": "code",
   "execution_count": 131,
   "metadata": {},
   "outputs": [
    {
     "name": "stdout",
     "output_type": "stream",
     "text": [
      "['07-2012', '08-2012', '09-2012', '10-2012', '11-2012', '12-2012', '01-2013', '02-2013', '03-2013', '04-2013', '05-2013', '06-2013', '07-2013', '08-2013', '09-2013', '10-2013', '11-2013', '12-2013', '01-2014', '02-2014', '03-2014', '04-2014', '05-2014']\n"
     ]
    }
   ],
   "source": [
    "mon_yr = list(catdf['OrderDate'].apply(lambda x: x.strftime('%m-%Y')).unique())\n",
    "print(mon_yr)"
   ]
  },
  {
   "cell_type": "code",
   "execution_count": 132,
   "metadata": {},
   "outputs": [
    {
     "data": {
      "text/html": [
       "<div>\n",
       "<style scoped>\n",
       "    .dataframe tbody tr th:only-of-type {\n",
       "        vertical-align: middle;\n",
       "    }\n",
       "\n",
       "    .dataframe tbody tr th {\n",
       "        vertical-align: top;\n",
       "    }\n",
       "\n",
       "    .dataframe thead th {\n",
       "        text-align: right;\n",
       "    }\n",
       "</style>\n",
       "<table border=\"1\" class=\"dataframe\">\n",
       "  <thead>\n",
       "    <tr style=\"text-align: right;\">\n",
       "      <th></th>\n",
       "      <th>OrderId</th>\n",
       "      <th>ProductId</th>\n",
       "      <th>Quantity</th>\n",
       "      <th>CategoryId</th>\n",
       "      <th>OrderDate</th>\n",
       "      <th>month_year</th>\n",
       "    </tr>\n",
       "  </thead>\n",
       "  <tbody>\n",
       "    <tr>\n",
       "      <th>0</th>\n",
       "      <td>10248</td>\n",
       "      <td>11</td>\n",
       "      <td>12</td>\n",
       "      <td>4</td>\n",
       "      <td>2012-07-04</td>\n",
       "      <td>07-2012</td>\n",
       "    </tr>\n",
       "  </tbody>\n",
       "</table>\n",
       "</div>"
      ],
      "text/plain": [
       "   OrderId  ProductId  Quantity  CategoryId  OrderDate month_year\n",
       "0    10248         11        12           4 2012-07-04    07-2012"
      ]
     },
     "execution_count": 132,
     "metadata": {},
     "output_type": "execute_result"
    }
   ],
   "source": [
    "catdf['month_year'] = catdf['OrderDate'].apply(lambda x: x.strftime('%m-%Y'))\n",
    "catdf.head(1)"
   ]
  },
  {
   "cell_type": "code",
   "execution_count": 133,
   "metadata": {},
   "outputs": [
    {
     "data": {
      "text/plain": [
       "[1, 2, 3, 4, 5, 6, 7, 8]"
      ]
     },
     "execution_count": 133,
     "metadata": {},
     "output_type": "execute_result"
    }
   ],
   "source": [
    "cats = sorted(catdf.CategoryId.unique())\n",
    "cats"
   ]
  },
  {
   "cell_type": "markdown",
   "metadata": {},
   "source": [
    "split each year into a dataframe to be able to evalute each one properly"
   ]
  },
  {
   "cell_type": "code",
   "execution_count": 134,
   "metadata": {},
   "outputs": [
    {
     "data": {
      "text/plain": [
       "['Month_year', 1, 2, 3, 4, 5, 6, 7, 8]"
      ]
     },
     "execution_count": 134,
     "metadata": {},
     "output_type": "execute_result"
    }
   ],
   "source": [
    "catscolumns = sorted(catdf.CategoryId.unique())\n",
    "catscolumns.insert(0, 'Month_year')\n",
    "catscolumns"
   ]
  },
  {
   "cell_type": "code",
   "execution_count": 135,
   "metadata": {},
   "outputs": [
    {
     "data": {
      "text/html": [
       "<div>\n",
       "<style scoped>\n",
       "    .dataframe tbody tr th:only-of-type {\n",
       "        vertical-align: middle;\n",
       "    }\n",
       "\n",
       "    .dataframe tbody tr th {\n",
       "        vertical-align: top;\n",
       "    }\n",
       "\n",
       "    .dataframe thead th {\n",
       "        text-align: right;\n",
       "    }\n",
       "</style>\n",
       "<table border=\"1\" class=\"dataframe\">\n",
       "  <thead>\n",
       "    <tr style=\"text-align: right;\">\n",
       "      <th></th>\n",
       "      <th>Month_year</th>\n",
       "      <th>1</th>\n",
       "      <th>2</th>\n",
       "      <th>3</th>\n",
       "      <th>4</th>\n",
       "      <th>5</th>\n",
       "      <th>6</th>\n",
       "      <th>7</th>\n",
       "      <th>8</th>\n",
       "    </tr>\n",
       "  </thead>\n",
       "  <tbody>\n",
       "    <tr>\n",
       "      <th>0</th>\n",
       "      <td>07-2012</td>\n",
       "      <td>NaN</td>\n",
       "      <td>NaN</td>\n",
       "      <td>NaN</td>\n",
       "      <td>NaN</td>\n",
       "      <td>NaN</td>\n",
       "      <td>NaN</td>\n",
       "      <td>NaN</td>\n",
       "      <td>NaN</td>\n",
       "    </tr>\n",
       "    <tr>\n",
       "      <th>1</th>\n",
       "      <td>08-2012</td>\n",
       "      <td>NaN</td>\n",
       "      <td>NaN</td>\n",
       "      <td>NaN</td>\n",
       "      <td>NaN</td>\n",
       "      <td>NaN</td>\n",
       "      <td>NaN</td>\n",
       "      <td>NaN</td>\n",
       "      <td>NaN</td>\n",
       "    </tr>\n",
       "    <tr>\n",
       "      <th>2</th>\n",
       "      <td>09-2012</td>\n",
       "      <td>NaN</td>\n",
       "      <td>NaN</td>\n",
       "      <td>NaN</td>\n",
       "      <td>NaN</td>\n",
       "      <td>NaN</td>\n",
       "      <td>NaN</td>\n",
       "      <td>NaN</td>\n",
       "      <td>NaN</td>\n",
       "    </tr>\n",
       "    <tr>\n",
       "      <th>3</th>\n",
       "      <td>10-2012</td>\n",
       "      <td>NaN</td>\n",
       "      <td>NaN</td>\n",
       "      <td>NaN</td>\n",
       "      <td>NaN</td>\n",
       "      <td>NaN</td>\n",
       "      <td>NaN</td>\n",
       "      <td>NaN</td>\n",
       "      <td>NaN</td>\n",
       "    </tr>\n",
       "    <tr>\n",
       "      <th>4</th>\n",
       "      <td>11-2012</td>\n",
       "      <td>NaN</td>\n",
       "      <td>NaN</td>\n",
       "      <td>NaN</td>\n",
       "      <td>NaN</td>\n",
       "      <td>NaN</td>\n",
       "      <td>NaN</td>\n",
       "      <td>NaN</td>\n",
       "      <td>NaN</td>\n",
       "    </tr>\n",
       "  </tbody>\n",
       "</table>\n",
       "</div>"
      ],
      "text/plain": [
       "  Month_year    1    2    3    4    5    6    7    8\n",
       "0    07-2012  NaN  NaN  NaN  NaN  NaN  NaN  NaN  NaN\n",
       "1    08-2012  NaN  NaN  NaN  NaN  NaN  NaN  NaN  NaN\n",
       "2    09-2012  NaN  NaN  NaN  NaN  NaN  NaN  NaN  NaN\n",
       "3    10-2012  NaN  NaN  NaN  NaN  NaN  NaN  NaN  NaN\n",
       "4    11-2012  NaN  NaN  NaN  NaN  NaN  NaN  NaN  NaN"
      ]
     },
     "execution_count": 135,
     "metadata": {},
     "output_type": "execute_result"
    }
   ],
   "source": [
    "monyrdf = pd.DataFrame(columns=catscolumns)\n",
    "monyrdf['Month_year'] = mon_yr\n",
    "monyrdf.head()"
   ]
  },
  {
   "cell_type": "code",
   "execution_count": 136,
   "metadata": {},
   "outputs": [],
   "source": [
    "catmonyr = {}\n",
    "for month in mon_yr:\n",
    "    catmonyr[month] = catdf.loc[catdf.month_year == month]        "
   ]
  },
  {
   "cell_type": "code",
   "execution_count": 137,
   "metadata": {},
   "outputs": [],
   "source": [
    "catsdict = {}\n",
    "for cat in cats:\n",
    "    catsdict[cat] = catdf.loc[catdf.CategoryId == cat]\n",
    "    catmonyr = {}\n",
    "    for month in mon_yr:\n",
    "        catmonyr[month] = catsdict[cat].loc[catdf.month_year == month].Quantity.sum()\n",
    "    monyrdf[cat] = catmonyr.values()"
   ]
  },
  {
   "cell_type": "markdown",
   "metadata": {},
   "source": [
    "Check quantity of each category"
   ]
  },
  {
   "cell_type": "code",
   "execution_count": 138,
   "metadata": {},
   "outputs": [
    {
     "data": {
      "text/html": [
       "<div>\n",
       "<style scoped>\n",
       "    .dataframe tbody tr th:only-of-type {\n",
       "        vertical-align: middle;\n",
       "    }\n",
       "\n",
       "    .dataframe tbody tr th {\n",
       "        vertical-align: top;\n",
       "    }\n",
       "\n",
       "    .dataframe thead th {\n",
       "        text-align: right;\n",
       "    }\n",
       "</style>\n",
       "<table border=\"1\" class=\"dataframe\">\n",
       "  <thead>\n",
       "    <tr style=\"text-align: right;\">\n",
       "      <th></th>\n",
       "      <th>Month_year</th>\n",
       "      <th>1</th>\n",
       "      <th>2</th>\n",
       "      <th>3</th>\n",
       "      <th>4</th>\n",
       "      <th>5</th>\n",
       "      <th>6</th>\n",
       "      <th>7</th>\n",
       "      <th>8</th>\n",
       "    </tr>\n",
       "  </thead>\n",
       "  <tbody>\n",
       "    <tr>\n",
       "      <th>0</th>\n",
       "      <td>07-2012</td>\n",
       "      <td>272</td>\n",
       "      <td>139</td>\n",
       "      <td>245</td>\n",
       "      <td>304</td>\n",
       "      <td>83</td>\n",
       "      <td>76</td>\n",
       "      <td>156</td>\n",
       "      <td>187</td>\n",
       "    </tr>\n",
       "    <tr>\n",
       "      <th>1</th>\n",
       "      <td>08-2012</td>\n",
       "      <td>347</td>\n",
       "      <td>154</td>\n",
       "      <td>170</td>\n",
       "      <td>250</td>\n",
       "      <td>11</td>\n",
       "      <td>111</td>\n",
       "      <td>22</td>\n",
       "      <td>257</td>\n",
       "    </tr>\n",
       "    <tr>\n",
       "      <th>2</th>\n",
       "      <td>09-2012</td>\n",
       "      <td>285</td>\n",
       "      <td>110</td>\n",
       "      <td>248</td>\n",
       "      <td>140</td>\n",
       "      <td>32</td>\n",
       "      <td>100</td>\n",
       "      <td>32</td>\n",
       "      <td>177</td>\n",
       "    </tr>\n",
       "    <tr>\n",
       "      <th>3</th>\n",
       "      <td>10-2012</td>\n",
       "      <td>301</td>\n",
       "      <td>183</td>\n",
       "      <td>187</td>\n",
       "      <td>367</td>\n",
       "      <td>156</td>\n",
       "      <td>153</td>\n",
       "      <td>81</td>\n",
       "      <td>310</td>\n",
       "    </tr>\n",
       "    <tr>\n",
       "      <th>4</th>\n",
       "      <td>11-2012</td>\n",
       "      <td>332</td>\n",
       "      <td>294</td>\n",
       "      <td>267</td>\n",
       "      <td>372</td>\n",
       "      <td>139</td>\n",
       "      <td>201</td>\n",
       "      <td>63</td>\n",
       "      <td>67</td>\n",
       "    </tr>\n",
       "    <tr>\n",
       "      <th>5</th>\n",
       "      <td>12-2012</td>\n",
       "      <td>305</td>\n",
       "      <td>82</td>\n",
       "      <td>240</td>\n",
       "      <td>653</td>\n",
       "      <td>128</td>\n",
       "      <td>309</td>\n",
       "      <td>195</td>\n",
       "      <td>288</td>\n",
       "    </tr>\n",
       "    <tr>\n",
       "      <th>6</th>\n",
       "      <td>01-2013</td>\n",
       "      <td>330</td>\n",
       "      <td>271</td>\n",
       "      <td>623</td>\n",
       "      <td>448</td>\n",
       "      <td>232</td>\n",
       "      <td>219</td>\n",
       "      <td>124</td>\n",
       "      <td>154</td>\n",
       "    </tr>\n",
       "    <tr>\n",
       "      <th>7</th>\n",
       "      <td>02-2013</td>\n",
       "      <td>220</td>\n",
       "      <td>393</td>\n",
       "      <td>425</td>\n",
       "      <td>248</td>\n",
       "      <td>216</td>\n",
       "      <td>380</td>\n",
       "      <td>103</td>\n",
       "      <td>147</td>\n",
       "    </tr>\n",
       "    <tr>\n",
       "      <th>8</th>\n",
       "      <td>03-2013</td>\n",
       "      <td>471</td>\n",
       "      <td>150</td>\n",
       "      <td>265</td>\n",
       "      <td>311</td>\n",
       "      <td>174</td>\n",
       "      <td>102</td>\n",
       "      <td>122</td>\n",
       "      <td>175</td>\n",
       "    </tr>\n",
       "    <tr>\n",
       "      <th>9</th>\n",
       "      <td>04-2013</td>\n",
       "      <td>268</td>\n",
       "      <td>259</td>\n",
       "      <td>394</td>\n",
       "      <td>231</td>\n",
       "      <td>240</td>\n",
       "      <td>93</td>\n",
       "      <td>186</td>\n",
       "      <td>241</td>\n",
       "    </tr>\n",
       "    <tr>\n",
       "      <th>10</th>\n",
       "      <td>05-2013</td>\n",
       "      <td>322</td>\n",
       "      <td>300</td>\n",
       "      <td>291</td>\n",
       "      <td>494</td>\n",
       "      <td>149</td>\n",
       "      <td>136</td>\n",
       "      <td>71</td>\n",
       "      <td>401</td>\n",
       "    </tr>\n",
       "    <tr>\n",
       "      <th>11</th>\n",
       "      <td>06-2013</td>\n",
       "      <td>313</td>\n",
       "      <td>95</td>\n",
       "      <td>107</td>\n",
       "      <td>405</td>\n",
       "      <td>292</td>\n",
       "      <td>130</td>\n",
       "      <td>149</td>\n",
       "      <td>144</td>\n",
       "    </tr>\n",
       "    <tr>\n",
       "      <th>12</th>\n",
       "      <td>07-2013</td>\n",
       "      <td>327</td>\n",
       "      <td>300</td>\n",
       "      <td>210</td>\n",
       "      <td>374</td>\n",
       "      <td>243</td>\n",
       "      <td>179</td>\n",
       "      <td>55</td>\n",
       "      <td>366</td>\n",
       "    </tr>\n",
       "    <tr>\n",
       "      <th>13</th>\n",
       "      <td>08-2013</td>\n",
       "      <td>334</td>\n",
       "      <td>206</td>\n",
       "      <td>335</td>\n",
       "      <td>256</td>\n",
       "      <td>204</td>\n",
       "      <td>105</td>\n",
       "      <td>119</td>\n",
       "      <td>302</td>\n",
       "    </tr>\n",
       "    <tr>\n",
       "      <th>14</th>\n",
       "      <td>09-2013</td>\n",
       "      <td>174</td>\n",
       "      <td>222</td>\n",
       "      <td>371</td>\n",
       "      <td>435</td>\n",
       "      <td>262</td>\n",
       "      <td>176</td>\n",
       "      <td>73</td>\n",
       "      <td>630</td>\n",
       "    </tr>\n",
       "    <tr>\n",
       "      <th>15</th>\n",
       "      <td>10-2013</td>\n",
       "      <td>491</td>\n",
       "      <td>270</td>\n",
       "      <td>390</td>\n",
       "      <td>422</td>\n",
       "      <td>112</td>\n",
       "      <td>378</td>\n",
       "      <td>185</td>\n",
       "      <td>431</td>\n",
       "    </tr>\n",
       "    <tr>\n",
       "      <th>16</th>\n",
       "      <td>11-2013</td>\n",
       "      <td>248</td>\n",
       "      <td>172</td>\n",
       "      <td>255</td>\n",
       "      <td>344</td>\n",
       "      <td>310</td>\n",
       "      <td>32</td>\n",
       "      <td>81</td>\n",
       "      <td>414</td>\n",
       "    </tr>\n",
       "    <tr>\n",
       "      <th>17</th>\n",
       "      <td>12-2013</td>\n",
       "      <td>498</td>\n",
       "      <td>257</td>\n",
       "      <td>471</td>\n",
       "      <td>406</td>\n",
       "      <td>202</td>\n",
       "      <td>259</td>\n",
       "      <td>315</td>\n",
       "      <td>274</td>\n",
       "    </tr>\n",
       "    <tr>\n",
       "      <th>18</th>\n",
       "      <td>01-2014</td>\n",
       "      <td>622</td>\n",
       "      <td>269</td>\n",
       "      <td>483</td>\n",
       "      <td>622</td>\n",
       "      <td>544</td>\n",
       "      <td>133</td>\n",
       "      <td>58</td>\n",
       "      <td>735</td>\n",
       "    </tr>\n",
       "    <tr>\n",
       "      <th>19</th>\n",
       "      <td>02-2014</td>\n",
       "      <td>834</td>\n",
       "      <td>289</td>\n",
       "      <td>432</td>\n",
       "      <td>446</td>\n",
       "      <td>211</td>\n",
       "      <td>302</td>\n",
       "      <td>37</td>\n",
       "      <td>564</td>\n",
       "    </tr>\n",
       "    <tr>\n",
       "      <th>20</th>\n",
       "      <td>03-2014</td>\n",
       "      <td>925</td>\n",
       "      <td>378</td>\n",
       "      <td>880</td>\n",
       "      <td>581</td>\n",
       "      <td>189</td>\n",
       "      <td>92</td>\n",
       "      <td>351</td>\n",
       "      <td>669</td>\n",
       "    </tr>\n",
       "    <tr>\n",
       "      <th>21</th>\n",
       "      <td>04-2014</td>\n",
       "      <td>1092</td>\n",
       "      <td>446</td>\n",
       "      <td>438</td>\n",
       "      <td>1005</td>\n",
       "      <td>297</td>\n",
       "      <td>405</td>\n",
       "      <td>367</td>\n",
       "      <td>630</td>\n",
       "    </tr>\n",
       "    <tr>\n",
       "      <th>22</th>\n",
       "      <td>05-2014</td>\n",
       "      <td>221</td>\n",
       "      <td>59</td>\n",
       "      <td>179</td>\n",
       "      <td>35</td>\n",
       "      <td>136</td>\n",
       "      <td>128</td>\n",
       "      <td>45</td>\n",
       "      <td>118</td>\n",
       "    </tr>\n",
       "  </tbody>\n",
       "</table>\n",
       "</div>"
      ],
      "text/plain": [
       "   Month_year     1    2    3     4    5    6    7    8\n",
       "0     07-2012   272  139  245   304   83   76  156  187\n",
       "1     08-2012   347  154  170   250   11  111   22  257\n",
       "2     09-2012   285  110  248   140   32  100   32  177\n",
       "3     10-2012   301  183  187   367  156  153   81  310\n",
       "4     11-2012   332  294  267   372  139  201   63   67\n",
       "5     12-2012   305   82  240   653  128  309  195  288\n",
       "6     01-2013   330  271  623   448  232  219  124  154\n",
       "7     02-2013   220  393  425   248  216  380  103  147\n",
       "8     03-2013   471  150  265   311  174  102  122  175\n",
       "9     04-2013   268  259  394   231  240   93  186  241\n",
       "10    05-2013   322  300  291   494  149  136   71  401\n",
       "11    06-2013   313   95  107   405  292  130  149  144\n",
       "12    07-2013   327  300  210   374  243  179   55  366\n",
       "13    08-2013   334  206  335   256  204  105  119  302\n",
       "14    09-2013   174  222  371   435  262  176   73  630\n",
       "15    10-2013   491  270  390   422  112  378  185  431\n",
       "16    11-2013   248  172  255   344  310   32   81  414\n",
       "17    12-2013   498  257  471   406  202  259  315  274\n",
       "18    01-2014   622  269  483   622  544  133   58  735\n",
       "19    02-2014   834  289  432   446  211  302   37  564\n",
       "20    03-2014   925  378  880   581  189   92  351  669\n",
       "21    04-2014  1092  446  438  1005  297  405  367  630\n",
       "22    05-2014   221   59  179    35  136  128   45  118"
      ]
     },
     "execution_count": 138,
     "metadata": {},
     "output_type": "execute_result"
    }
   ],
   "source": [
    "monyrdf"
   ]
  },
  {
   "cell_type": "markdown",
   "metadata": {},
   "source": [
    "05-2014 seems it may be not a full month, let's check"
   ]
  },
  {
   "cell_type": "code",
   "execution_count": 139,
   "metadata": {},
   "outputs": [
    {
     "data": {
      "text/plain": [
       "array(['2014-05-01T00:00:00.000000000', '2014-05-04T00:00:00.000000000',\n",
       "       '2014-05-05T00:00:00.000000000', '2014-05-06T00:00:00.000000000'],\n",
       "      dtype='datetime64[ns]')"
      ]
     },
     "execution_count": 139,
     "metadata": {},
     "output_type": "execute_result"
    }
   ],
   "source": [
    "catdf.loc[catdf.month_year == '05-2014'].OrderDate.unique()"
   ]
  },
  {
   "cell_type": "markdown",
   "metadata": {},
   "source": [
    "It only has 4 days from between 05-01 and 05-06 so it seems it does not contain the full months data and I will drop that row"
   ]
  },
  {
   "cell_type": "code",
   "execution_count": 140,
   "metadata": {},
   "outputs": [],
   "source": [
    "monyrdf.drop(22, inplace=True)"
   ]
  },
  {
   "cell_type": "code",
   "execution_count": 141,
   "metadata": {},
   "outputs": [
    {
     "data": {
      "text/html": [
       "<div>\n",
       "<style scoped>\n",
       "    .dataframe tbody tr th:only-of-type {\n",
       "        vertical-align: middle;\n",
       "    }\n",
       "\n",
       "    .dataframe tbody tr th {\n",
       "        vertical-align: top;\n",
       "    }\n",
       "\n",
       "    .dataframe thead th {\n",
       "        text-align: right;\n",
       "    }\n",
       "</style>\n",
       "<table border=\"1\" class=\"dataframe\">\n",
       "  <thead>\n",
       "    <tr style=\"text-align: right;\">\n",
       "      <th></th>\n",
       "      <th>Month_year</th>\n",
       "      <th>1</th>\n",
       "      <th>2</th>\n",
       "      <th>3</th>\n",
       "      <th>4</th>\n",
       "      <th>5</th>\n",
       "      <th>6</th>\n",
       "      <th>7</th>\n",
       "      <th>8</th>\n",
       "    </tr>\n",
       "  </thead>\n",
       "  <tbody>\n",
       "    <tr>\n",
       "      <th>17</th>\n",
       "      <td>12-2013</td>\n",
       "      <td>498</td>\n",
       "      <td>257</td>\n",
       "      <td>471</td>\n",
       "      <td>406</td>\n",
       "      <td>202</td>\n",
       "      <td>259</td>\n",
       "      <td>315</td>\n",
       "      <td>274</td>\n",
       "    </tr>\n",
       "    <tr>\n",
       "      <th>18</th>\n",
       "      <td>01-2014</td>\n",
       "      <td>622</td>\n",
       "      <td>269</td>\n",
       "      <td>483</td>\n",
       "      <td>622</td>\n",
       "      <td>544</td>\n",
       "      <td>133</td>\n",
       "      <td>58</td>\n",
       "      <td>735</td>\n",
       "    </tr>\n",
       "    <tr>\n",
       "      <th>19</th>\n",
       "      <td>02-2014</td>\n",
       "      <td>834</td>\n",
       "      <td>289</td>\n",
       "      <td>432</td>\n",
       "      <td>446</td>\n",
       "      <td>211</td>\n",
       "      <td>302</td>\n",
       "      <td>37</td>\n",
       "      <td>564</td>\n",
       "    </tr>\n",
       "    <tr>\n",
       "      <th>20</th>\n",
       "      <td>03-2014</td>\n",
       "      <td>925</td>\n",
       "      <td>378</td>\n",
       "      <td>880</td>\n",
       "      <td>581</td>\n",
       "      <td>189</td>\n",
       "      <td>92</td>\n",
       "      <td>351</td>\n",
       "      <td>669</td>\n",
       "    </tr>\n",
       "    <tr>\n",
       "      <th>21</th>\n",
       "      <td>04-2014</td>\n",
       "      <td>1092</td>\n",
       "      <td>446</td>\n",
       "      <td>438</td>\n",
       "      <td>1005</td>\n",
       "      <td>297</td>\n",
       "      <td>405</td>\n",
       "      <td>367</td>\n",
       "      <td>630</td>\n",
       "    </tr>\n",
       "  </tbody>\n",
       "</table>\n",
       "</div>"
      ],
      "text/plain": [
       "   Month_year     1    2    3     4    5    6    7    8\n",
       "17    12-2013   498  257  471   406  202  259  315  274\n",
       "18    01-2014   622  269  483   622  544  133   58  735\n",
       "19    02-2014   834  289  432   446  211  302   37  564\n",
       "20    03-2014   925  378  880   581  189   92  351  669\n",
       "21    04-2014  1092  446  438  1005  297  405  367  630"
      ]
     },
     "execution_count": 141,
     "metadata": {},
     "output_type": "execute_result"
    }
   ],
   "source": [
    "monyrdf.tail()"
   ]
  },
  {
   "cell_type": "markdown",
   "metadata": {},
   "source": [
    "Due to this I want to also check if the first month is missing part of it"
   ]
  },
  {
   "cell_type": "code",
   "execution_count": 142,
   "metadata": {},
   "outputs": [
    {
     "data": {
      "text/plain": [
       "array(['2012-07-04T00:00:00.000000000', '2012-07-05T00:00:00.000000000',\n",
       "       '2012-07-08T00:00:00.000000000', '2012-07-09T00:00:00.000000000',\n",
       "       '2012-07-10T00:00:00.000000000', '2012-07-11T00:00:00.000000000',\n",
       "       '2012-07-12T00:00:00.000000000', '2012-07-15T00:00:00.000000000',\n",
       "       '2012-07-16T00:00:00.000000000', '2012-07-17T00:00:00.000000000',\n",
       "       '2012-07-18T00:00:00.000000000', '2012-07-19T00:00:00.000000000',\n",
       "       '2012-07-22T00:00:00.000000000', '2012-07-23T00:00:00.000000000',\n",
       "       '2012-07-24T00:00:00.000000000', '2012-07-25T00:00:00.000000000',\n",
       "       '2012-07-26T00:00:00.000000000', '2012-07-29T00:00:00.000000000',\n",
       "       '2012-07-30T00:00:00.000000000', '2012-07-31T00:00:00.000000000'],\n",
       "      dtype='datetime64[ns]')"
      ]
     },
     "execution_count": 142,
     "metadata": {},
     "output_type": "execute_result"
    }
   ],
   "source": [
    "catdf.loc[catdf.month_year == '07-2012'].OrderDate.unique()"
   ]
  },
  {
   "cell_type": "markdown",
   "metadata": {},
   "source": [
    "It seems to have the full months data as the dates range from 07-04 until 07-31"
   ]
  },
  {
   "cell_type": "markdown",
   "metadata": {},
   "source": [
    "Plot the quantity sold per month by category"
   ]
  },
  {
   "cell_type": "code",
   "execution_count": 368,
   "metadata": {},
   "outputs": [
    {
     "data": {
      "text/plain": [
       "Text(0, 0.5, 'Sales per month')"
      ]
     },
     "execution_count": 368,
     "metadata": {},
     "output_type": "execute_result"
    },
    {
     "data": {
      "image/png": "[encoded data removed]",
      "text/plain": [
       "<Figure size 864x576 with 1 Axes>"
      ]
     },
     "metadata": {
      "needs_background": "light"
     },
     "output_type": "display_data"
    }
   ],
   "source": [
    "monyrdf.plot(figsize=(12,8))\n",
    "plt.xlabel('Categories')\n",
    "plt.ylabel('Sales per month')"
   ]
  },
  {
   "cell_type": "markdown",
   "metadata": {},
   "source": [
    "I will now test each category against the other with an independent t-test and then check effect sizes to see which ones seem to have the most positive change"
   ]
  },
  {
   "cell_type": "code",
   "execution_count": 201,
   "metadata": {},
   "outputs": [
    {
     "data": {
      "text/plain": [
       "['Month_year', 1, 2, 3, 4, 5, 6, 7, 8]"
      ]
     },
     "execution_count": 201,
     "metadata": {},
     "output_type": "execute_result"
    }
   ],
   "source": [
    "moncol = list(monyrdf.columns)\n",
    "moncol"
   ]
  },
  {
   "cell_type": "code",
   "execution_count": 217,
   "metadata": {},
   "outputs": [],
   "source": [
    "new_col = [moncol[0]]\n",
    "for col in moncol[1:]:\n",
    "    new_col.append(f'p{col}')"
   ]
  },
  {
   "cell_type": "code",
   "execution_count": 218,
   "metadata": {},
   "outputs": [
    {
     "data": {
      "text/plain": [
       "['Month_year', 'p1', 'p2', 'p3', 'p4', 'p5', 'p6', 'p7', 'p8']"
      ]
     },
     "execution_count": 218,
     "metadata": {},
     "output_type": "execute_result"
    }
   ],
   "source": [
    "new_col"
   ]
  },
  {
   "cell_type": "code",
   "execution_count": 219,
   "metadata": {},
   "outputs": [
    {
     "data": {
      "text/plain": [
       "Index(['Month_year', 'p1', 'p2', 'p3', 'p4', 'p5', 'p6', 'p7', 'p8'], dtype='object')"
      ]
     },
     "execution_count": 219,
     "metadata": {},
     "output_type": "execute_result"
    }
   ],
   "source": [
    "monyrdf.columns = new_col\n",
    "monyrdf.columns"
   ]
  },
  {
   "cell_type": "code",
   "execution_count": 230,
   "metadata": {},
   "outputs": [
    {
     "data": {
      "text/plain": [
       "[(0.0023409932409309666, 'p1', 'p2'),\n",
       " (0.0004608328402908738, 'p1', 'p5'),\n",
       " (0.00020566586615566507, 'p1', 'p6'),\n",
       " (1.5164107317488784e-05, 'p1', 'p7'),\n",
       " (0.0023409932409309666, 'p2', 'p1'),\n",
       " (0.010711761510602142, 'p2', 'p3'),\n",
       " (0.00037558036109924304, 'p2', 'p4'),\n",
       " (0.0010698479661499273, 'p2', 'p7'),\n",
       " (0.02930741848749066, 'p2', 'p8'),\n",
       " (0.010711761510602142, 'p3', 'p2'),\n",
       " (0.0013880008825335466, 'p3', 'p5'),\n",
       " (0.0004602156569827135, 'p3', 'p6'),\n",
       " (1.058473698567915e-05, 'p3', 'p7'),\n",
       " (0.00037558036109924304, 'p4', 'p2'),\n",
       " (4.5490892656093256e-05, 'p4', 'p5'),\n",
       " (1.5109945949634565e-05, 'p4', 'p6'),\n",
       " (4.382637296223849e-07, 'p4', 'p7'),\n",
       " (0.0004608328402908738, 'p5', 'p1'),\n",
       " (0.0013880008825335466, 'p5', 'p3'),\n",
       " (4.5490892656093256e-05, 'p5', 'p4'),\n",
       " (0.03977904458770918, 'p5', 'p7'),\n",
       " (0.005104661087633856, 'p5', 'p8'),\n",
       " (0.00020566586615566507, 'p6', 'p1'),\n",
       " (0.0004602156569827135, 'p6', 'p3'),\n",
       " (1.5109945949634565e-05, 'p6', 'p4'),\n",
       " (0.0020230858963994542, 'p6', 'p8'),\n",
       " (1.5164107317488784e-05, 'p7', 'p1'),\n",
       " (0.0010698479661499273, 'p7', 'p2'),\n",
       " (1.058473698567915e-05, 'p7', 'p3'),\n",
       " (4.382637296223849e-07, 'p7', 'p4'),\n",
       " (0.03977904458770918, 'p7', 'p5'),\n",
       " (8.28833495472523e-05, 'p7', 'p8'),\n",
       " (0.02930741848749066, 'p8', 'p2'),\n",
       " (0.005104661087633856, 'p8', 'p5'),\n",
       " (0.0020230858963994542, 'p8', 'p6'),\n",
       " (8.28833495472523e-05, 'p8', 'p7')]"
      ]
     },
     "execution_count": 230,
     "metadata": {},
     "output_type": "execute_result"
    }
   ],
   "source": [
    "col_results = []\n",
    "for col1 in new_col[1:]:\n",
    "    for col2 in new_col[1:]:\n",
    "        if col1 == col2:\n",
    "            continue\n",
    "        else:\n",
    "            t, p = stats.ttest_ind(monyrdf[col1],monyrdf[col2], equal_var=False)\n",
    "            if p < .05:\n",
    "                col_results.append((p, col1, col2))\n",
    "col_results"
   ]
  },
  {
   "cell_type": "code",
   "execution_count": 297,
   "metadata": {},
   "outputs": [],
   "source": [
    "power_results2 = []\n",
    "for result in col_results:\n",
    "    d = Cohen_d(monyrdf[result[1]], monyrdf[result[2]])\n",
    "    power = power_analysis.solve_power(effect_size=d, alpha=.05, nobs1=np.shape(monyrdf[result[1]])[0])\n",
    "    power_results2.append((result[1], result[2], d, power))"
   ]
  },
  {
   "cell_type": "code",
   "execution_count": 298,
   "metadata": {},
   "outputs": [
    {
     "data": {
      "text/plain": [
       "[('p1', 'p2', 1.0102132121994278, 0.9054071804108909),\n",
       " ('p1', 'p5', 1.18772948374851, 0.9704680937909933),\n",
       " ('p1', 'p6', 1.2781066932373761, 0.985381525829783),\n",
       " ('p1', 'p7', 1.574084570331971, 0.9991499490832454),\n",
       " ('p2', 'p1', -1.0102132121994278, 0.9054071804108909),\n",
       " ('p2', 'p3', -0.8151488439762697, 0.752165268145111),\n",
       " ('p2', 'p4', -1.1988745168880914, 0.9728099896158005),\n",
       " ('p2', 'p7', 1.059708687041054, 0.9296582281836987),\n",
       " ('p2', 'p8', -0.6890291799681616, 0.6075182717071183),\n",
       " ('p3', 'p2', 0.8151488439762697, 0.752165268145111),\n",
       " ('p3', 'p5', 1.0446937214240024, 0.9228686763235174),\n",
       " ('p3', 'p6', 1.163316184994358, 0.9647499937198901),\n",
       " ('p3', 'p7', 1.5577011661187936, 0.9989827435181909),\n",
       " ('p4', 'p2', 1.1988745168880914, 0.9728099896158005),\n",
       " ('p4', 'p5', 1.4061314625677952, 0.995265650783258),\n",
       " ('p4', 'p6', 1.5199709657679277, 0.9984770022437527),\n",
       " ('p4', 'p7', 1.8987833257429576, 1.0),\n",
       " ('p5', 'p1', -1.18772948374851, 0.9704680937909933),\n",
       " ('p5', 'p3', -1.0446937214240024, 0.9228686763235174),\n",
       " ('p5', 'p4', -1.4061314625677952, 0.995265650783258),\n",
       " ('p5', 'p7', 0.6400304828116938, 0.5454486393148444),\n",
       " ('p5', 'p8', -0.9039015209288077, 0.8336628750104015),\n",
       " ('p6', 'p1', -1.2781066932373761, 0.985381525829783),\n",
       " ('p6', 'p3', -1.163316184994358, 0.9647499937198901),\n",
       " ('p6', 'p4', -1.5199709657679277, 0.9984770022437527),\n",
       " ('p6', 'p8', -1.0107075185730585, 0.9056765611736967),\n",
       " ('p7', 'p1', -1.574084570331971, 0.9991499490832454),\n",
       " ('p7', 'p2', -1.059708687041054, 0.9296582281836987),\n",
       " ('p7', 'p3', -1.5577011661187936, 0.9989827435181909),\n",
       " ('p7', 'p4', -1.8987833257429576, 1.0),\n",
       " ('p7', 'p5', -0.6400304828116938, 0.5454486393148444),\n",
       " ('p7', 'p8', -1.3626873491440028, 0.9929370152779807),\n",
       " ('p8', 'p2', 0.6890291799681616, 0.6075182717071183),\n",
       " ('p8', 'p5', 0.9039015209288077, 0.8336628750104015),\n",
       " ('p8', 'p6', 1.0107075185730585, 0.9056765611736967),\n",
       " ('p8', 'p7', 1.3626873491440028, 0.9929370152779807)]"
      ]
     },
     "execution_count": 298,
     "metadata": {},
     "output_type": "execute_result"
    }
   ],
   "source": [
    "power_results2"
   ]
  },
  {
   "cell_type": "markdown",
   "metadata": {},
   "source": [
    "It appears p1, p3, p4 and p8 are the ones that have the most positive change, this also shows on the graph above as the 4 that have a more positive rate of change"
   ]
  },
  {
   "cell_type": "markdown",
   "metadata": {},
   "source": [
    "[Return to contents](#Table-of-contents)"
   ]
  },
  {
   "cell_type": "markdown",
   "metadata": {},
   "source": [
    "### Conclusion and Recommendation for 3rd question"
   ]
  },
  {
   "cell_type": "markdown",
   "metadata": {},
   "source": [
    "I would suggest focusing on seeing what other products we can sell in categories 1,3,4,8 and at the same time try to get better at selling in the other categories 2,5,6,7"
   ]
  },
  {
   "cell_type": "markdown",
   "metadata": {},
   "source": [
    "[Return to contents](#Table-of-contents)"
   ]
  },
  {
   "cell_type": "markdown",
   "metadata": {},
   "source": [
    "### Fourth Question"
   ]
  },
  {
   "cell_type": "markdown",
   "metadata": {},
   "source": [
    "Which employees sell the most, by dollar amount?\n",
    "\n",
    "HO = All employees mean per sale is the same  \n",
    "Ha = Employees mean per sale is different   \n",
    "Alpha = .05"
   ]
  },
  {
   "cell_type": "markdown",
   "metadata": {},
   "source": [
    "[Return to contents](#Table-of-contents)"
   ]
  },
  {
   "cell_type": "markdown",
   "metadata": {},
   "source": [
    "## Load in information needed for 4th question"
   ]
  },
  {
   "cell_type": "code",
   "execution_count": 340,
   "metadata": {},
   "outputs": [
    {
     "data": {
      "text/html": [
       "<div>\n",
       "<style scoped>\n",
       "    .dataframe tbody tr th:only-of-type {\n",
       "        vertical-align: middle;\n",
       "    }\n",
       "\n",
       "    .dataframe tbody tr th {\n",
       "        vertical-align: top;\n",
       "    }\n",
       "\n",
       "    .dataframe thead th {\n",
       "        text-align: right;\n",
       "    }\n",
       "</style>\n",
       "<table border=\"1\" class=\"dataframe\">\n",
       "  <thead>\n",
       "    <tr style=\"text-align: right;\">\n",
       "      <th></th>\n",
       "      <th>OrderId</th>\n",
       "      <th>ProductId</th>\n",
       "      <th>Quantity</th>\n",
       "      <th>UnitPrice</th>\n",
       "      <th>Discount</th>\n",
       "      <th>EmployeeId</th>\n",
       "    </tr>\n",
       "  </thead>\n",
       "  <tbody>\n",
       "    <tr>\n",
       "      <th>0</th>\n",
       "      <td>10248</td>\n",
       "      <td>11</td>\n",
       "      <td>12</td>\n",
       "      <td>14.0</td>\n",
       "      <td>0.0</td>\n",
       "      <td>5</td>\n",
       "    </tr>\n",
       "    <tr>\n",
       "      <th>1</th>\n",
       "      <td>10248</td>\n",
       "      <td>42</td>\n",
       "      <td>10</td>\n",
       "      <td>9.8</td>\n",
       "      <td>0.0</td>\n",
       "      <td>5</td>\n",
       "    </tr>\n",
       "    <tr>\n",
       "      <th>2</th>\n",
       "      <td>10248</td>\n",
       "      <td>72</td>\n",
       "      <td>5</td>\n",
       "      <td>34.8</td>\n",
       "      <td>0.0</td>\n",
       "      <td>5</td>\n",
       "    </tr>\n",
       "    <tr>\n",
       "      <th>3</th>\n",
       "      <td>10249</td>\n",
       "      <td>14</td>\n",
       "      <td>9</td>\n",
       "      <td>18.6</td>\n",
       "      <td>0.0</td>\n",
       "      <td>6</td>\n",
       "    </tr>\n",
       "    <tr>\n",
       "      <th>4</th>\n",
       "      <td>10249</td>\n",
       "      <td>51</td>\n",
       "      <td>40</td>\n",
       "      <td>42.4</td>\n",
       "      <td>0.0</td>\n",
       "      <td>6</td>\n",
       "    </tr>\n",
       "  </tbody>\n",
       "</table>\n",
       "</div>"
      ],
      "text/plain": [
       "   OrderId  ProductId  Quantity  UnitPrice  Discount  EmployeeId\n",
       "0    10248         11        12       14.0       0.0           5\n",
       "1    10248         42        10        9.8       0.0           5\n",
       "2    10248         72         5       34.8       0.0           5\n",
       "3    10249         14         9       18.6       0.0           6\n",
       "4    10249         51        40       42.4       0.0           6"
      ]
     },
     "execution_count": 340,
     "metadata": {},
     "output_type": "execute_result"
    }
   ],
   "source": [
    "c.execute('''Select OrderId, ProductId, Quantity, UnitPrice, Discount, EmployeeId \n",
    "            from OrderDetail od \n",
    "            join 'Order' o\n",
    "            on o.Id = od.OrderId\n",
    "            ;''')\n",
    "empdf = pd.DataFrame(c.fetchall())\n",
    "empdf.columns = [x[0] for x in c.description]\n",
    "empdf.head()"
   ]
  },
  {
   "cell_type": "code",
   "execution_count": 341,
   "metadata": {},
   "outputs": [],
   "source": [
    "empdf['Total'] = (empdf.Quantity * empdf.UnitPrice) - (empdf.Discount * (empdf.Quantity * empdf.UnitPrice))"
   ]
  },
  {
   "cell_type": "code",
   "execution_count": 342,
   "metadata": {},
   "outputs": [
    {
     "data": {
      "text/html": [
       "<div>\n",
       "<style scoped>\n",
       "    .dataframe tbody tr th:only-of-type {\n",
       "        vertical-align: middle;\n",
       "    }\n",
       "\n",
       "    .dataframe tbody tr th {\n",
       "        vertical-align: top;\n",
       "    }\n",
       "\n",
       "    .dataframe thead th {\n",
       "        text-align: right;\n",
       "    }\n",
       "</style>\n",
       "<table border=\"1\" class=\"dataframe\">\n",
       "  <thead>\n",
       "    <tr style=\"text-align: right;\">\n",
       "      <th></th>\n",
       "      <th>OrderId</th>\n",
       "      <th>ProductId</th>\n",
       "      <th>Quantity</th>\n",
       "      <th>UnitPrice</th>\n",
       "      <th>Discount</th>\n",
       "      <th>EmployeeId</th>\n",
       "      <th>Total</th>\n",
       "    </tr>\n",
       "  </thead>\n",
       "  <tbody>\n",
       "    <tr>\n",
       "      <th>2145</th>\n",
       "      <td>11077</td>\n",
       "      <td>41</td>\n",
       "      <td>3</td>\n",
       "      <td>9.65</td>\n",
       "      <td>0.00</td>\n",
       "      <td>1</td>\n",
       "      <td>28.950</td>\n",
       "    </tr>\n",
       "    <tr>\n",
       "      <th>2146</th>\n",
       "      <td>11077</td>\n",
       "      <td>46</td>\n",
       "      <td>3</td>\n",
       "      <td>12.00</td>\n",
       "      <td>0.02</td>\n",
       "      <td>1</td>\n",
       "      <td>35.280</td>\n",
       "    </tr>\n",
       "    <tr>\n",
       "      <th>2147</th>\n",
       "      <td>11077</td>\n",
       "      <td>52</td>\n",
       "      <td>2</td>\n",
       "      <td>7.00</td>\n",
       "      <td>0.00</td>\n",
       "      <td>1</td>\n",
       "      <td>14.000</td>\n",
       "    </tr>\n",
       "    <tr>\n",
       "      <th>2148</th>\n",
       "      <td>11077</td>\n",
       "      <td>55</td>\n",
       "      <td>2</td>\n",
       "      <td>24.00</td>\n",
       "      <td>0.00</td>\n",
       "      <td>1</td>\n",
       "      <td>48.000</td>\n",
       "    </tr>\n",
       "    <tr>\n",
       "      <th>2149</th>\n",
       "      <td>11077</td>\n",
       "      <td>60</td>\n",
       "      <td>2</td>\n",
       "      <td>34.00</td>\n",
       "      <td>0.06</td>\n",
       "      <td>1</td>\n",
       "      <td>63.920</td>\n",
       "    </tr>\n",
       "    <tr>\n",
       "      <th>2150</th>\n",
       "      <td>11077</td>\n",
       "      <td>64</td>\n",
       "      <td>2</td>\n",
       "      <td>33.25</td>\n",
       "      <td>0.03</td>\n",
       "      <td>1</td>\n",
       "      <td>64.505</td>\n",
       "    </tr>\n",
       "    <tr>\n",
       "      <th>2151</th>\n",
       "      <td>11077</td>\n",
       "      <td>66</td>\n",
       "      <td>1</td>\n",
       "      <td>17.00</td>\n",
       "      <td>0.00</td>\n",
       "      <td>1</td>\n",
       "      <td>17.000</td>\n",
       "    </tr>\n",
       "    <tr>\n",
       "      <th>2152</th>\n",
       "      <td>11077</td>\n",
       "      <td>73</td>\n",
       "      <td>2</td>\n",
       "      <td>15.00</td>\n",
       "      <td>0.01</td>\n",
       "      <td>1</td>\n",
       "      <td>29.700</td>\n",
       "    </tr>\n",
       "    <tr>\n",
       "      <th>2153</th>\n",
       "      <td>11077</td>\n",
       "      <td>75</td>\n",
       "      <td>4</td>\n",
       "      <td>7.75</td>\n",
       "      <td>0.00</td>\n",
       "      <td>1</td>\n",
       "      <td>31.000</td>\n",
       "    </tr>\n",
       "    <tr>\n",
       "      <th>2154</th>\n",
       "      <td>11077</td>\n",
       "      <td>77</td>\n",
       "      <td>2</td>\n",
       "      <td>13.00</td>\n",
       "      <td>0.00</td>\n",
       "      <td>1</td>\n",
       "      <td>26.000</td>\n",
       "    </tr>\n",
       "  </tbody>\n",
       "</table>\n",
       "</div>"
      ],
      "text/plain": [
       "      OrderId  ProductId  Quantity  UnitPrice  Discount  EmployeeId   Total\n",
       "2145    11077         41         3       9.65      0.00           1  28.950\n",
       "2146    11077         46         3      12.00      0.02           1  35.280\n",
       "2147    11077         52         2       7.00      0.00           1  14.000\n",
       "2148    11077         55         2      24.00      0.00           1  48.000\n",
       "2149    11077         60         2      34.00      0.06           1  63.920\n",
       "2150    11077         64         2      33.25      0.03           1  64.505\n",
       "2151    11077         66         1      17.00      0.00           1  17.000\n",
       "2152    11077         73         2      15.00      0.01           1  29.700\n",
       "2153    11077         75         4       7.75      0.00           1  31.000\n",
       "2154    11077         77         2      13.00      0.00           1  26.000"
      ]
     },
     "execution_count": 342,
     "metadata": {},
     "output_type": "execute_result"
    }
   ],
   "source": [
    "empdf.tail(10)"
   ]
  },
  {
   "cell_type": "markdown",
   "metadata": {},
   "source": [
    "[Return to contents](#Table-of-contents)"
   ]
  },
  {
   "cell_type": "markdown",
   "metadata": {},
   "source": [
    "### Checkout the information for the 4th question"
   ]
  },
  {
   "cell_type": "markdown",
   "metadata": {},
   "source": [
    "Make a dictionary of each employee information in a df."
   ]
  },
  {
   "cell_type": "code",
   "execution_count": 250,
   "metadata": {},
   "outputs": [],
   "source": [
    "emp_numbers = list(empdf.EmployeeId.unique())"
   ]
  },
  {
   "cell_type": "code",
   "execution_count": 252,
   "metadata": {},
   "outputs": [],
   "source": [
    "emp_dict = {}\n",
    "for emp in emp_numbers:\n",
    "    emp_dict[emp] = empdf.loc[empdf.EmployeeId == emp]"
   ]
  },
  {
   "cell_type": "code",
   "execution_count": 255,
   "metadata": {},
   "outputs": [
    {
     "data": {
      "text/plain": [
       "123"
      ]
     },
     "execution_count": 255,
     "metadata": {},
     "output_type": "execute_result"
    }
   ],
   "source": [
    "len(emp_dict[1].OrderId.unique())"
   ]
  },
  {
   "cell_type": "markdown",
   "metadata": {},
   "source": [
    "Make a general df to better see all the information"
   ]
  },
  {
   "cell_type": "code",
   "execution_count": 256,
   "metadata": {},
   "outputs": [],
   "source": [
    "emp_total_dict = {}\n",
    "emp_orders_dict = {}\n",
    "emp_prod_dict = {}\n",
    "for emp in emp_numbers:\n",
    "    emp_total_dict[emp] = sum(emp_dict[emp].Total)\n",
    "    emp_orders_dict[emp] = len(emp_dict[emp].OrderId.unique())\n",
    "    emp_prod_dict[emp] = sum(emp_dict[emp].Quantity)"
   ]
  },
  {
   "cell_type": "code",
   "execution_count": 261,
   "metadata": {},
   "outputs": [
    {
     "data": {
      "text/html": [
       "<div>\n",
       "<style scoped>\n",
       "    .dataframe tbody tr th:only-of-type {\n",
       "        vertical-align: middle;\n",
       "    }\n",
       "\n",
       "    .dataframe tbody tr th {\n",
       "        vertical-align: top;\n",
       "    }\n",
       "\n",
       "    .dataframe thead th {\n",
       "        text-align: right;\n",
       "    }\n",
       "</style>\n",
       "<table border=\"1\" class=\"dataframe\">\n",
       "  <thead>\n",
       "    <tr style=\"text-align: right;\">\n",
       "      <th></th>\n",
       "      <th>EmployeeId</th>\n",
       "      <th>Total_sold</th>\n",
       "      <th>Total_orders</th>\n",
       "      <th>Total_prod</th>\n",
       "    </tr>\n",
       "  </thead>\n",
       "  <tbody>\n",
       "    <tr>\n",
       "      <th>0</th>\n",
       "      <td>5</td>\n",
       "      <td>68792.2825</td>\n",
       "      <td>42</td>\n",
       "      <td>3036</td>\n",
       "    </tr>\n",
       "    <tr>\n",
       "      <th>1</th>\n",
       "      <td>6</td>\n",
       "      <td>73913.1295</td>\n",
       "      <td>67</td>\n",
       "      <td>3527</td>\n",
       "    </tr>\n",
       "    <tr>\n",
       "      <th>2</th>\n",
       "      <td>4</td>\n",
       "      <td>232890.8460</td>\n",
       "      <td>156</td>\n",
       "      <td>9798</td>\n",
       "    </tr>\n",
       "    <tr>\n",
       "      <th>3</th>\n",
       "      <td>3</td>\n",
       "      <td>202812.8430</td>\n",
       "      <td>127</td>\n",
       "      <td>7852</td>\n",
       "    </tr>\n",
       "    <tr>\n",
       "      <th>4</th>\n",
       "      <td>9</td>\n",
       "      <td>77308.0665</td>\n",
       "      <td>43</td>\n",
       "      <td>2670</td>\n",
       "    </tr>\n",
       "    <tr>\n",
       "      <th>5</th>\n",
       "      <td>1</td>\n",
       "      <td>192107.6045</td>\n",
       "      <td>123</td>\n",
       "      <td>7812</td>\n",
       "    </tr>\n",
       "    <tr>\n",
       "      <th>6</th>\n",
       "      <td>8</td>\n",
       "      <td>126862.2775</td>\n",
       "      <td>104</td>\n",
       "      <td>5913</td>\n",
       "    </tr>\n",
       "    <tr>\n",
       "      <th>7</th>\n",
       "      <td>2</td>\n",
       "      <td>166537.7550</td>\n",
       "      <td>96</td>\n",
       "      <td>6055</td>\n",
       "    </tr>\n",
       "    <tr>\n",
       "      <th>8</th>\n",
       "      <td>7</td>\n",
       "      <td>124568.2350</td>\n",
       "      <td>72</td>\n",
       "      <td>4654</td>\n",
       "    </tr>\n",
       "  </tbody>\n",
       "</table>\n",
       "</div>"
      ],
      "text/plain": [
       "   EmployeeId   Total_sold  Total_orders  Total_prod\n",
       "0           5   68792.2825            42        3036\n",
       "1           6   73913.1295            67        3527\n",
       "2           4  232890.8460           156        9798\n",
       "3           3  202812.8430           127        7852\n",
       "4           9   77308.0665            43        2670\n",
       "5           1  192107.6045           123        7812\n",
       "6           8  126862.2775           104        5913\n",
       "7           2  166537.7550            96        6055\n",
       "8           7  124568.2350            72        4654"
      ]
     },
     "execution_count": 261,
     "metadata": {},
     "output_type": "execute_result"
    }
   ],
   "source": [
    "empdf2 = pd.DataFrame()\n",
    "empdf2['EmployeeId'] = emp_total_dict.keys()\n",
    "empdf2['Total_sold'] = emp_total_dict.values()\n",
    "empdf2['Total_orders'] = emp_orders_dict.values()\n",
    "empdf2['Total_prod'] = emp_prod_dict.values()\n",
    "empdf2"
   ]
  },
  {
   "cell_type": "code",
   "execution_count": 262,
   "metadata": {},
   "outputs": [],
   "source": [
    "empdf2['Mean_amount_per_order'] = empdf2.Total_sold / empdf2.Total_orders\n",
    "empdf2['Mean_prod_per_order'] = empdf2.Total_prod / empdf2.Total_orders"
   ]
  },
  {
   "cell_type": "code",
   "execution_count": 379,
   "metadata": {},
   "outputs": [],
   "source": [
    "empdf2.sort_values(by='EmployeeId', inplace=True)"
   ]
  },
  {
   "cell_type": "code",
   "execution_count": 380,
   "metadata": {},
   "outputs": [
    {
     "data": {
      "text/html": [
       "<div>\n",
       "<style scoped>\n",
       "    .dataframe tbody tr th:only-of-type {\n",
       "        vertical-align: middle;\n",
       "    }\n",
       "\n",
       "    .dataframe tbody tr th {\n",
       "        vertical-align: top;\n",
       "    }\n",
       "\n",
       "    .dataframe thead th {\n",
       "        text-align: right;\n",
       "    }\n",
       "</style>\n",
       "<table border=\"1\" class=\"dataframe\">\n",
       "  <thead>\n",
       "    <tr style=\"text-align: right;\">\n",
       "      <th></th>\n",
       "      <th>EmployeeId</th>\n",
       "      <th>Total_sold</th>\n",
       "      <th>Total_orders</th>\n",
       "      <th>Total_prod</th>\n",
       "      <th>Mean_amount_per_order</th>\n",
       "      <th>Mean_prod_per_order</th>\n",
       "    </tr>\n",
       "  </thead>\n",
       "  <tbody>\n",
       "    <tr>\n",
       "      <th>5</th>\n",
       "      <td>1</td>\n",
       "      <td>192107.6045</td>\n",
       "      <td>123</td>\n",
       "      <td>7812</td>\n",
       "      <td>1561.850443</td>\n",
       "      <td>63.512195</td>\n",
       "    </tr>\n",
       "    <tr>\n",
       "      <th>7</th>\n",
       "      <td>2</td>\n",
       "      <td>166537.7550</td>\n",
       "      <td>96</td>\n",
       "      <td>6055</td>\n",
       "      <td>1734.768281</td>\n",
       "      <td>63.072917</td>\n",
       "    </tr>\n",
       "    <tr>\n",
       "      <th>3</th>\n",
       "      <td>3</td>\n",
       "      <td>202812.8430</td>\n",
       "      <td>127</td>\n",
       "      <td>7852</td>\n",
       "      <td>1596.951520</td>\n",
       "      <td>61.826772</td>\n",
       "    </tr>\n",
       "    <tr>\n",
       "      <th>2</th>\n",
       "      <td>4</td>\n",
       "      <td>232890.8460</td>\n",
       "      <td>156</td>\n",
       "      <td>9798</td>\n",
       "      <td>1492.890038</td>\n",
       "      <td>62.807692</td>\n",
       "    </tr>\n",
       "    <tr>\n",
       "      <th>0</th>\n",
       "      <td>5</td>\n",
       "      <td>68792.2825</td>\n",
       "      <td>42</td>\n",
       "      <td>3036</td>\n",
       "      <td>1637.911488</td>\n",
       "      <td>72.285714</td>\n",
       "    </tr>\n",
       "    <tr>\n",
       "      <th>1</th>\n",
       "      <td>6</td>\n",
       "      <td>73913.1295</td>\n",
       "      <td>67</td>\n",
       "      <td>3527</td>\n",
       "      <td>1103.181037</td>\n",
       "      <td>52.641791</td>\n",
       "    </tr>\n",
       "    <tr>\n",
       "      <th>8</th>\n",
       "      <td>7</td>\n",
       "      <td>124568.2350</td>\n",
       "      <td>72</td>\n",
       "      <td>4654</td>\n",
       "      <td>1730.114375</td>\n",
       "      <td>64.638889</td>\n",
       "    </tr>\n",
       "    <tr>\n",
       "      <th>6</th>\n",
       "      <td>8</td>\n",
       "      <td>126862.2775</td>\n",
       "      <td>104</td>\n",
       "      <td>5913</td>\n",
       "      <td>1219.829591</td>\n",
       "      <td>56.855769</td>\n",
       "    </tr>\n",
       "    <tr>\n",
       "      <th>4</th>\n",
       "      <td>9</td>\n",
       "      <td>77308.0665</td>\n",
       "      <td>43</td>\n",
       "      <td>2670</td>\n",
       "      <td>1797.862012</td>\n",
       "      <td>62.093023</td>\n",
       "    </tr>\n",
       "  </tbody>\n",
       "</table>\n",
       "</div>"
      ],
      "text/plain": [
       "   EmployeeId   Total_sold  Total_orders  Total_prod  Mean_amount_per_order  \\\n",
       "5           1  192107.6045           123        7812            1561.850443   \n",
       "7           2  166537.7550            96        6055            1734.768281   \n",
       "3           3  202812.8430           127        7852            1596.951520   \n",
       "2           4  232890.8460           156        9798            1492.890038   \n",
       "0           5   68792.2825            42        3036            1637.911488   \n",
       "1           6   73913.1295            67        3527            1103.181037   \n",
       "8           7  124568.2350            72        4654            1730.114375   \n",
       "6           8  126862.2775           104        5913            1219.829591   \n",
       "4           9   77308.0665            43        2670            1797.862012   \n",
       "\n",
       "   Mean_prod_per_order  \n",
       "5            63.512195  \n",
       "7            63.072917  \n",
       "3            61.826772  \n",
       "2            62.807692  \n",
       "0            72.285714  \n",
       "1            52.641791  \n",
       "8            64.638889  \n",
       "6            56.855769  \n",
       "4            62.093023  "
      ]
     },
     "execution_count": 380,
     "metadata": {},
     "output_type": "execute_result"
    }
   ],
   "source": [
    "empdf2"
   ]
  },
  {
   "cell_type": "code",
   "execution_count": 383,
   "metadata": {},
   "outputs": [],
   "source": [
    "mpo = list(empdf2.Mean_amount_per_order.values)\n",
    "eid = list(empdf2.EmployeeId)"
   ]
  },
  {
   "cell_type": "code",
   "execution_count": 385,
   "metadata": {},
   "outputs": [
    {
     "data": {
      "text/plain": [
       "Text(0, 0.5, 'Mean amount per order')"
      ]
     },
     "execution_count": 385,
     "metadata": {},
     "output_type": "execute_result"
    },
    {
     "data": {
      "image/png": "[encoded data removed]",
      "text/plain": [
       "<Figure size 576x576 with 1 Axes>"
      ]
     },
     "metadata": {
      "needs_background": "light"
     },
     "output_type": "display_data"
    }
   ],
   "source": [
    "empdf2.Mean_amount_per_order\n",
    "plt.figure(figsize=(8,8))\n",
    "plt.bar(x=np.arange(len(mpo)), height=mpo, tick_label=list(eid))\n",
    "plt.xlabel('Employee ID')\n",
    "plt.ylabel('Mean amount per order')"
   ]
  },
  {
   "cell_type": "markdown",
   "metadata": {},
   "source": [
    "Do an ANOVA test to see the relation between employee and total "
   ]
  },
  {
   "cell_type": "code",
   "execution_count": 303,
   "metadata": {},
   "outputs": [
    {
     "name": "stdout",
     "output_type": "stream",
     "text": [
      "                     sum_sq      df         F    PR(>F)\n",
      "C(EmployeeId)  1.472611e+07     8.0  1.966553  0.046929\n",
      "Residual       2.008732e+09  2146.0       NaN       NaN\n"
     ]
    }
   ],
   "source": [
    "formula1 = 'Total ~ C(EmployeeId)'\n",
    "lm = ols(formula1, empdf).fit()\n",
    "table = sm.stats.anova_lm(lm, typ=2)\n",
    "print(table)"
   ]
  },
  {
   "cell_type": "markdown",
   "metadata": {},
   "source": [
    "We can reject the null hypothosis that the means of each employee are the same.  \n",
    "I will now try to see if I can figure out the best employee by testing them against each other"
   ]
  },
  {
   "cell_type": "code",
   "execution_count": 323,
   "metadata": {},
   "outputs": [
    {
     "data": {
      "text/html": [
       "<div>\n",
       "<style scoped>\n",
       "    .dataframe tbody tr th:only-of-type {\n",
       "        vertical-align: middle;\n",
       "    }\n",
       "\n",
       "    .dataframe tbody tr th {\n",
       "        vertical-align: top;\n",
       "    }\n",
       "\n",
       "    .dataframe thead th {\n",
       "        text-align: right;\n",
       "    }\n",
       "</style>\n",
       "<table border=\"1\" class=\"dataframe\">\n",
       "  <thead>\n",
       "    <tr style=\"text-align: right;\">\n",
       "      <th></th>\n",
       "      <th>Total</th>\n",
       "    </tr>\n",
       "    <tr>\n",
       "      <th>OrderId</th>\n",
       "      <th></th>\n",
       "    </tr>\n",
       "  </thead>\n",
       "  <tbody>\n",
       "    <tr>\n",
       "      <th>10248</th>\n",
       "      <td>146.666667</td>\n",
       "    </tr>\n",
       "    <tr>\n",
       "      <th>10254</th>\n",
       "      <td>185.540000</td>\n",
       "    </tr>\n",
       "    <tr>\n",
       "      <th>10269</th>\n",
       "      <td>321.100000</td>\n",
       "    </tr>\n",
       "    <tr>\n",
       "      <th>10297</th>\n",
       "      <td>710.000000</td>\n",
       "    </tr>\n",
       "    <tr>\n",
       "      <th>10320</th>\n",
       "      <td>516.000000</td>\n",
       "    </tr>\n",
       "  </tbody>\n",
       "</table>\n",
       "</div>"
      ],
      "text/plain": [
       "              Total\n",
       "OrderId            \n",
       "10248    146.666667\n",
       "10254    185.540000\n",
       "10269    321.100000\n",
       "10297    710.000000\n",
       "10320    516.000000"
      ]
     },
     "execution_count": 323,
     "metadata": {},
     "output_type": "execute_result"
    }
   ],
   "source": [
    "emp_dict[5].groupby(['OrderId']).agg({'Total': np.mean}).head()"
   ]
  },
  {
   "cell_type": "code",
   "execution_count": 343,
   "metadata": {},
   "outputs": [
    {
     "data": {
      "text/plain": [
       "[(array([0.04772012]), 6, 2),\n",
       " (array([0.03697735]), 8, 2),\n",
       " (array([0.04772012]), 2, 6),\n",
       " (array([0.03697735]), 2, 8)]"
      ]
     },
     "execution_count": 343,
     "metadata": {},
     "output_type": "execute_result"
    }
   ],
   "source": [
    "emp_results = []\n",
    "for emp1 in emp_numbers:\n",
    "    for emp2 in emp_numbers:\n",
    "        if emp1 == emp2:\n",
    "            continue\n",
    "        else:\n",
    "            a = emp_dict[emp1].groupby(['OrderId']).agg({'Total': np.mean})\n",
    "            b = emp_dict[emp2].groupby(['OrderId']).agg({'Total': np.mean})\n",
    "            t, p = stats.ttest_ind(a,b)\n",
    "            if p < .05:\n",
    "                emp_results.append((p, emp1, emp2))\n",
    "emp_results"
   ]
  },
  {
   "cell_type": "code",
   "execution_count": 338,
   "metadata": {},
   "outputs": [],
   "source": [
    "power_results3 = []\n",
    "for result in emp_results:\n",
    "    a = emp_dict[result[1]].groupby(['OrderId']).agg({'Total': np.mean})\n",
    "    b = emp_dict[result[2]].groupby(['OrderId']).agg({'Total': np.mean})\n",
    "    d = Cohen_d(a, b)\n",
    "    power = power_analysis.solve_power(effect_size=d, alpha=.05, nobs1=np.shape(a)[0])\n",
    "    power_results3.append((result[1], result[2], d, power))"
   ]
  },
  {
   "cell_type": "code",
   "execution_count": 339,
   "metadata": {},
   "outputs": [
    {
     "name": "stdout",
     "output_type": "stream",
     "text": [
      "[(6, 2, Total   -0.317835\n",
      "dtype: float64, Total    0.446876\n",
      "dtype: float64), (8, 2, Total   -0.297204\n",
      "dtype: float64, Total    0.568778\n",
      "dtype: float64), (2, 6, Total    0.317835\n",
      "dtype: float64, Total    0.591328\n",
      "dtype: float64), (2, 8, Total    0.297204\n",
      "dtype: float64, Total    0.535376\n",
      "dtype: float64)]\n"
     ]
    }
   ],
   "source": [
    "print(power_results3)"
   ]
  },
  {
   "cell_type": "markdown",
   "metadata": {},
   "source": [
    "There does not seem to be a best employee based on the p-values and the power levels as well as the small effect sizes."
   ]
  },
  {
   "cell_type": "markdown",
   "metadata": {},
   "source": [
    "[Return to contents](#Table-of-contents)"
   ]
  },
  {
   "cell_type": "markdown",
   "metadata": {},
   "source": [
    "### Conclusion and Recommendation for 4th question"
   ]
  },
  {
   "cell_type": "markdown",
   "metadata": {},
   "source": [
    "There does not seem to be a best employee based on the p-values and the power levels as well as the small effect sizes.  \n",
    "This is even though the prior ANOVA test showed that they do have differeneces in means.  \n",
    "I can not make any recommendations based on this information except to try and do further work into this with a different testing method as there seems to be differences that I may not have been able to figure out with hypothosis testing."
   ]
  },
  {
   "cell_type": "markdown",
   "metadata": {},
   "source": [
    "[Return to contents](#Table-of-contents)"
   ]
  }
 ],
 "metadata": {
  "kernelspec": {
   "display_name": "Python [conda env:learn-env] *",
   "language": "python",
   "name": "conda-env-learn-env-py"
  },
  "language_info": {
   "codemirror_mode": {
    "name": "ipython",
    "version": 3
   },
   "file_extension": ".py",
   "mimetype": "text/x-python",
   "name": "python",
   "nbconvert_exporter": "python",
   "pygments_lexer": "ipython3",
   "version": "3.6.6"
  }
 },
 "nbformat": 4,
 "nbformat_minor": 2
}
