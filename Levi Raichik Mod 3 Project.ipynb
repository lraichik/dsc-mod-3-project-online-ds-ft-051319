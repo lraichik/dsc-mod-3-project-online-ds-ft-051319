{
 "cells": [
  {
   "cell_type": "markdown",
   "metadata": {},
   "source": [
    "# Table of contents\n",
    "\n",
    "* [Import Libraries](#Import-Libraries)\n",
    "* [First Question](#First-Question)\n",
    "    * [Load in information needed](#Load-in-information-needed)\n",
    "    * [Checkout the information](#Checkout-the-information)\n",
    "    * [Answering the first Hypothosis](#Answering-the-first-Hypothosis)\n",
    "    * [Effect size of discount](#Effect-size-of-discount)\n",
    "    * [What amount of discount makes the most difference with regards to quantity ordered?](#What-amount-of-discount-makes-the-most-difference-with-regards-to-quantity-ordered?)"
   ]
  },
  {
   "cell_type": "markdown",
   "metadata": {},
   "source": [
    "## Import Libraries "
   ]
  },
  {
   "cell_type": "code",
   "execution_count": 96,
   "metadata": {},
   "outputs": [],
   "source": [
    "import pandas as pd\n",
    "import numpy as np\n",
    "import matplotlib.pyplot as plt\n",
    "%matplotlib inline\n",
    "import seaborn as sns\n",
    "import sqlite3\n",
    "import statsmodels.api as sm\n",
    "from statsmodels.formula.api import ols\n",
    "import scipy.stats as stats\n",
    "from statsmodels.stats.power import TTestIndPower, TTestPower"
   ]
  },
  {
   "cell_type": "code",
   "execution_count": 97,
   "metadata": {},
   "outputs": [],
   "source": [
    "power_analysis = TTestIndPower()"
   ]
  },
  {
   "cell_type": "code",
   "execution_count": 3,
   "metadata": {},
   "outputs": [],
   "source": [
    "conn = sqlite3.Connection('Northwind_small.sqlite')\n",
    "c = conn.cursor()"
   ]
  },
  {
   "cell_type": "markdown",
   "metadata": {},
   "source": [
    "[Return to contents](#Table-of-contents)"
   ]
  },
  {
   "cell_type": "markdown",
   "metadata": {},
   "source": [
    "## Northwind Database Map"
   ]
  },
  {
   "cell_type": "markdown",
   "metadata": {},
   "source": [
    "<img src='Northwind_ERD_updated.png'>"
   ]
  },
  {
   "cell_type": "markdown",
   "metadata": {},
   "source": [
    "## First Question"
   ]
  },
  {
   "cell_type": "markdown",
   "metadata": {},
   "source": [
    "Does discount amount have a statistically significant effect on the quantity of a product in an order? If so, at what level(s) of discount?  \n",
    "\n",
    "Null Hypothosis: Discount does not affect quantity of product ordered  \n",
    "Alternative Hypthosis: Discount does effect the quantity of product ordered  \n",
    "Alpha: .05  "
   ]
  },
  {
   "cell_type": "markdown",
   "metadata": {},
   "source": [
    "[Return to contents](#Table-of-contents)"
   ]
  },
  {
   "cell_type": "markdown",
   "metadata": {},
   "source": [
    "## Load in information needed"
   ]
  },
  {
   "cell_type": "code",
   "execution_count": 39,
   "metadata": {},
   "outputs": [
    {
     "data": {
      "text/html": [
       "<div>\n",
       "<style scoped>\n",
       "    .dataframe tbody tr th:only-of-type {\n",
       "        vertical-align: middle;\n",
       "    }\n",
       "\n",
       "    .dataframe tbody tr th {\n",
       "        vertical-align: top;\n",
       "    }\n",
       "\n",
       "    .dataframe thead th {\n",
       "        text-align: right;\n",
       "    }\n",
       "</style>\n",
       "<table border=\"1\" class=\"dataframe\">\n",
       "  <thead>\n",
       "    <tr style=\"text-align: right;\">\n",
       "      <th></th>\n",
       "      <th>Id</th>\n",
       "      <th>OrderId</th>\n",
       "      <th>ProductId</th>\n",
       "      <th>UnitPrice</th>\n",
       "      <th>Quantity</th>\n",
       "      <th>Discount</th>\n",
       "    </tr>\n",
       "  </thead>\n",
       "  <tbody>\n",
       "    <tr>\n",
       "      <th>0</th>\n",
       "      <td>10248/11</td>\n",
       "      <td>10248</td>\n",
       "      <td>11</td>\n",
       "      <td>14.0</td>\n",
       "      <td>12</td>\n",
       "      <td>0.0</td>\n",
       "    </tr>\n",
       "    <tr>\n",
       "      <th>1</th>\n",
       "      <td>10248/42</td>\n",
       "      <td>10248</td>\n",
       "      <td>42</td>\n",
       "      <td>9.8</td>\n",
       "      <td>10</td>\n",
       "      <td>0.0</td>\n",
       "    </tr>\n",
       "    <tr>\n",
       "      <th>2</th>\n",
       "      <td>10248/72</td>\n",
       "      <td>10248</td>\n",
       "      <td>72</td>\n",
       "      <td>34.8</td>\n",
       "      <td>5</td>\n",
       "      <td>0.0</td>\n",
       "    </tr>\n",
       "    <tr>\n",
       "      <th>3</th>\n",
       "      <td>10249/14</td>\n",
       "      <td>10249</td>\n",
       "      <td>14</td>\n",
       "      <td>18.6</td>\n",
       "      <td>9</td>\n",
       "      <td>0.0</td>\n",
       "    </tr>\n",
       "    <tr>\n",
       "      <th>4</th>\n",
       "      <td>10249/51</td>\n",
       "      <td>10249</td>\n",
       "      <td>51</td>\n",
       "      <td>42.4</td>\n",
       "      <td>40</td>\n",
       "      <td>0.0</td>\n",
       "    </tr>\n",
       "  </tbody>\n",
       "</table>\n",
       "</div>"
      ],
      "text/plain": [
       "         Id  OrderId  ProductId  UnitPrice  Quantity  Discount\n",
       "0  10248/11    10248         11       14.0        12       0.0\n",
       "1  10248/42    10248         42        9.8        10       0.0\n",
       "2  10248/72    10248         72       34.8         5       0.0\n",
       "3  10249/14    10249         14       18.6         9       0.0\n",
       "4  10249/51    10249         51       42.4        40       0.0"
      ]
     },
     "execution_count": 39,
     "metadata": {},
     "output_type": "execute_result"
    }
   ],
   "source": [
    "c.execute('''Select * from OrderDetail;''')\n",
    "discountdf = pd.DataFrame(c.fetchall())\n",
    "discountdf.columns = [x[0] for x in c.description]\n",
    "discountdf.head()"
   ]
  },
  {
   "cell_type": "markdown",
   "metadata": {},
   "source": [
    "[Return to contents](#Table-of-contents)"
   ]
  },
  {
   "cell_type": "markdown",
   "metadata": {},
   "source": [
    "## Checkout the information"
   ]
  },
  {
   "cell_type": "markdown",
   "metadata": {},
   "source": [
    "I want to first see how many items have discounts and how the discount is represented, by dollars or percentage"
   ]
  },
  {
   "cell_type": "code",
   "execution_count": 40,
   "metadata": {},
   "outputs": [
    {
     "data": {
      "text/plain": [
       "0.00    1317\n",
       "0.05     185\n",
       "0.10     173\n",
       "0.20     161\n",
       "0.15     157\n",
       "0.25     154\n",
       "0.03       3\n",
       "0.02       2\n",
       "0.01       1\n",
       "0.04       1\n",
       "0.06       1\n",
       "Name: Discount, dtype: int64"
      ]
     },
     "execution_count": 40,
     "metadata": {},
     "output_type": "execute_result"
    }
   ],
   "source": [
    "discountdf.Discount.value_counts()"
   ]
  },
  {
   "cell_type": "markdown",
   "metadata": {},
   "source": [
    "It seems to be in percentages and we have 838 items that had a discount on them when ordered"
   ]
  },
  {
   "cell_type": "code",
   "execution_count": 41,
   "metadata": {},
   "outputs": [
    {
     "data": {
      "text/html": [
       "<div>\n",
       "<style scoped>\n",
       "    .dataframe tbody tr th:only-of-type {\n",
       "        vertical-align: middle;\n",
       "    }\n",
       "\n",
       "    .dataframe tbody tr th {\n",
       "        vertical-align: top;\n",
       "    }\n",
       "\n",
       "    .dataframe thead th {\n",
       "        text-align: right;\n",
       "    }\n",
       "</style>\n",
       "<table border=\"1\" class=\"dataframe\">\n",
       "  <thead>\n",
       "    <tr style=\"text-align: right;\">\n",
       "      <th></th>\n",
       "      <th>OrderId</th>\n",
       "      <th>ProductId</th>\n",
       "      <th>UnitPrice</th>\n",
       "      <th>Quantity</th>\n",
       "      <th>Discount</th>\n",
       "    </tr>\n",
       "  </thead>\n",
       "  <tbody>\n",
       "    <tr>\n",
       "      <th>count</th>\n",
       "      <td>2155.000000</td>\n",
       "      <td>2155.000000</td>\n",
       "      <td>2155.000000</td>\n",
       "      <td>2155.000000</td>\n",
       "      <td>2155.000000</td>\n",
       "    </tr>\n",
       "    <tr>\n",
       "      <th>mean</th>\n",
       "      <td>10659.375870</td>\n",
       "      <td>40.793039</td>\n",
       "      <td>26.218520</td>\n",
       "      <td>23.812993</td>\n",
       "      <td>0.056167</td>\n",
       "    </tr>\n",
       "    <tr>\n",
       "      <th>std</th>\n",
       "      <td>241.378032</td>\n",
       "      <td>22.159019</td>\n",
       "      <td>29.827418</td>\n",
       "      <td>19.022047</td>\n",
       "      <td>0.083450</td>\n",
       "    </tr>\n",
       "    <tr>\n",
       "      <th>min</th>\n",
       "      <td>10248.000000</td>\n",
       "      <td>1.000000</td>\n",
       "      <td>2.000000</td>\n",
       "      <td>1.000000</td>\n",
       "      <td>0.000000</td>\n",
       "    </tr>\n",
       "    <tr>\n",
       "      <th>25%</th>\n",
       "      <td>10451.000000</td>\n",
       "      <td>22.000000</td>\n",
       "      <td>12.000000</td>\n",
       "      <td>10.000000</td>\n",
       "      <td>0.000000</td>\n",
       "    </tr>\n",
       "    <tr>\n",
       "      <th>50%</th>\n",
       "      <td>10657.000000</td>\n",
       "      <td>41.000000</td>\n",
       "      <td>18.400000</td>\n",
       "      <td>20.000000</td>\n",
       "      <td>0.000000</td>\n",
       "    </tr>\n",
       "    <tr>\n",
       "      <th>75%</th>\n",
       "      <td>10862.500000</td>\n",
       "      <td>60.000000</td>\n",
       "      <td>32.000000</td>\n",
       "      <td>30.000000</td>\n",
       "      <td>0.100000</td>\n",
       "    </tr>\n",
       "    <tr>\n",
       "      <th>max</th>\n",
       "      <td>11077.000000</td>\n",
       "      <td>77.000000</td>\n",
       "      <td>263.500000</td>\n",
       "      <td>130.000000</td>\n",
       "      <td>0.250000</td>\n",
       "    </tr>\n",
       "  </tbody>\n",
       "</table>\n",
       "</div>"
      ],
      "text/plain": [
       "            OrderId    ProductId    UnitPrice     Quantity     Discount\n",
       "count   2155.000000  2155.000000  2155.000000  2155.000000  2155.000000\n",
       "mean   10659.375870    40.793039    26.218520    23.812993     0.056167\n",
       "std      241.378032    22.159019    29.827418    19.022047     0.083450\n",
       "min    10248.000000     1.000000     2.000000     1.000000     0.000000\n",
       "25%    10451.000000    22.000000    12.000000    10.000000     0.000000\n",
       "50%    10657.000000    41.000000    18.400000    20.000000     0.000000\n",
       "75%    10862.500000    60.000000    32.000000    30.000000     0.100000\n",
       "max    11077.000000    77.000000   263.500000   130.000000     0.250000"
      ]
     },
     "execution_count": 41,
     "metadata": {},
     "output_type": "execute_result"
    }
   ],
   "source": [
    "discountdf.describe()"
   ]
  },
  {
   "cell_type": "markdown",
   "metadata": {},
   "source": [
    "Checking for Null values"
   ]
  },
  {
   "cell_type": "code",
   "execution_count": 42,
   "metadata": {},
   "outputs": [
    {
     "data": {
      "text/plain": [
       "Id           0\n",
       "OrderId      0\n",
       "ProductId    0\n",
       "UnitPrice    0\n",
       "Quantity     0\n",
       "Discount     0\n",
       "dtype: int64"
      ]
     },
     "execution_count": 42,
     "metadata": {},
     "output_type": "execute_result"
    }
   ],
   "source": [
    "discountdf.isna().sum()"
   ]
  },
  {
   "cell_type": "markdown",
   "metadata": {},
   "source": [
    "No null values"
   ]
  },
  {
   "cell_type": "markdown",
   "metadata": {},
   "source": [
    "Checking for placeholder values"
   ]
  },
  {
   "cell_type": "code",
   "execution_count": 43,
   "metadata": {},
   "outputs": [
    {
     "data": {
      "text/plain": [
       "array([ 12,  10,   5,   9,  40,  35,  15,   6,  20,  25,  42,  21,  30,\n",
       "        50,  65,   1,  16,   2,  60,  28,  36,  70,   4,  24,  33,   7,\n",
       "         8,  18,   3,  45, 100,  14,  80,  48,  56,  13,  77,  54,  55,\n",
       "        32, 120,  49,  90,  39,  84,  11, 110,  27,  44, 130,  52,  91,\n",
       "        66,  63,  22], dtype=int64)"
      ]
     },
     "execution_count": 43,
     "metadata": {},
     "output_type": "execute_result"
    }
   ],
   "source": [
    "discountdf.Quantity.unique()"
   ]
  },
  {
   "cell_type": "code",
   "execution_count": 44,
   "metadata": {},
   "outputs": [
    {
     "data": {
      "text/plain": [
       "array([0.  , 0.15, 0.05, 0.2 , 0.25, 0.1 , 0.02, 0.03, 0.04, 0.06, 0.01])"
      ]
     },
     "execution_count": 44,
     "metadata": {},
     "output_type": "execute_result"
    }
   ],
   "source": [
    "discountdf.Discount.unique()"
   ]
  },
  {
   "cell_type": "markdown",
   "metadata": {},
   "source": [
    "[Return to contents](#Table-of-contents)"
   ]
  },
  {
   "cell_type": "markdown",
   "metadata": {},
   "source": [
    "## Answering the Hypothosis"
   ]
  },
  {
   "cell_type": "markdown",
   "metadata": {},
   "source": [
    "Make a column that has a 1 if there is a discount and a 0 if there is not a discount"
   ]
  },
  {
   "cell_type": "code",
   "execution_count": 45,
   "metadata": {},
   "outputs": [],
   "source": [
    "discountdf['is_discount'] = 1\n",
    "discountdf.loc[discountdf.Discount == 0, 'is_discount'] = 0"
   ]
  },
  {
   "cell_type": "code",
   "execution_count": 46,
   "metadata": {},
   "outputs": [
    {
     "data": {
      "text/html": [
       "<div>\n",
       "<style scoped>\n",
       "    .dataframe tbody tr th:only-of-type {\n",
       "        vertical-align: middle;\n",
       "    }\n",
       "\n",
       "    .dataframe tbody tr th {\n",
       "        vertical-align: top;\n",
       "    }\n",
       "\n",
       "    .dataframe thead th {\n",
       "        text-align: right;\n",
       "    }\n",
       "</style>\n",
       "<table border=\"1\" class=\"dataframe\">\n",
       "  <thead>\n",
       "    <tr style=\"text-align: right;\">\n",
       "      <th></th>\n",
       "      <th>Id</th>\n",
       "      <th>OrderId</th>\n",
       "      <th>ProductId</th>\n",
       "      <th>UnitPrice</th>\n",
       "      <th>Quantity</th>\n",
       "      <th>Discount</th>\n",
       "      <th>is_discount</th>\n",
       "    </tr>\n",
       "  </thead>\n",
       "  <tbody>\n",
       "    <tr>\n",
       "      <th>2150</th>\n",
       "      <td>11077/64</td>\n",
       "      <td>11077</td>\n",
       "      <td>64</td>\n",
       "      <td>33.25</td>\n",
       "      <td>2</td>\n",
       "      <td>0.03</td>\n",
       "      <td>1</td>\n",
       "    </tr>\n",
       "    <tr>\n",
       "      <th>2151</th>\n",
       "      <td>11077/66</td>\n",
       "      <td>11077</td>\n",
       "      <td>66</td>\n",
       "      <td>17.00</td>\n",
       "      <td>1</td>\n",
       "      <td>0.00</td>\n",
       "      <td>0</td>\n",
       "    </tr>\n",
       "    <tr>\n",
       "      <th>2152</th>\n",
       "      <td>11077/73</td>\n",
       "      <td>11077</td>\n",
       "      <td>73</td>\n",
       "      <td>15.00</td>\n",
       "      <td>2</td>\n",
       "      <td>0.01</td>\n",
       "      <td>1</td>\n",
       "    </tr>\n",
       "    <tr>\n",
       "      <th>2153</th>\n",
       "      <td>11077/75</td>\n",
       "      <td>11077</td>\n",
       "      <td>75</td>\n",
       "      <td>7.75</td>\n",
       "      <td>4</td>\n",
       "      <td>0.00</td>\n",
       "      <td>0</td>\n",
       "    </tr>\n",
       "    <tr>\n",
       "      <th>2154</th>\n",
       "      <td>11077/77</td>\n",
       "      <td>11077</td>\n",
       "      <td>77</td>\n",
       "      <td>13.00</td>\n",
       "      <td>2</td>\n",
       "      <td>0.00</td>\n",
       "      <td>0</td>\n",
       "    </tr>\n",
       "  </tbody>\n",
       "</table>\n",
       "</div>"
      ],
      "text/plain": [
       "            Id  OrderId  ProductId  UnitPrice  Quantity  Discount  is_discount\n",
       "2150  11077/64    11077         64      33.25         2      0.03            1\n",
       "2151  11077/66    11077         66      17.00         1      0.00            0\n",
       "2152  11077/73    11077         73      15.00         2      0.01            1\n",
       "2153  11077/75    11077         75       7.75         4      0.00            0\n",
       "2154  11077/77    11077         77      13.00         2      0.00            0"
      ]
     },
     "execution_count": 46,
     "metadata": {},
     "output_type": "execute_result"
    }
   ],
   "source": [
    "discountdf.tail()"
   ]
  },
  {
   "cell_type": "markdown",
   "metadata": {},
   "source": [
    "Test Hypothosis One with an Anova table as I am dealing with categorical data"
   ]
  },
  {
   "cell_type": "code",
   "execution_count": 47,
   "metadata": {},
   "outputs": [
    {
     "name": "stdout",
     "output_type": "stream",
     "text": [
      "                       sum_sq      df          F        PR(>F)\n",
      "C(is_discount)   14903.513199     1.0  41.971781  1.144092e-10\n",
      "Residual        764496.122996  2153.0        NaN           NaN\n"
     ]
    }
   ],
   "source": [
    "formula1 = 'Quantity ~ C(is_discount)'\n",
    "lm = ols(formula1, discountdf).fit()\n",
    "table = sm.stats.anova_lm(lm, typ=2)\n",
    "print(table)"
   ]
  },
  {
   "cell_type": "markdown",
   "metadata": {},
   "source": [
    "Very low P-Value so I can reject the Null Hypothosis that discount does not have an affect on quantity ordered"
   ]
  },
  {
   "cell_type": "markdown",
   "metadata": {},
   "source": [
    "[Return to contents](#Table-of-contents)"
   ]
  },
  {
   "cell_type": "markdown",
   "metadata": {},
   "source": [
    "## Effect size of discount"
   ]
  },
  {
   "cell_type": "markdown",
   "metadata": {},
   "source": [
    "To figure out how much of an effect a discount has on the quantity ordered, I will split the information into 2 dataframes, one for discounts and one for no discount"
   ]
  },
  {
   "cell_type": "code",
   "execution_count": 53,
   "metadata": {},
   "outputs": [
    {
     "data": {
      "text/html": [
       "<div>\n",
       "<style scoped>\n",
       "    .dataframe tbody tr th:only-of-type {\n",
       "        vertical-align: middle;\n",
       "    }\n",
       "\n",
       "    .dataframe tbody tr th {\n",
       "        vertical-align: top;\n",
       "    }\n",
       "\n",
       "    .dataframe thead th {\n",
       "        text-align: right;\n",
       "    }\n",
       "</style>\n",
       "<table border=\"1\" class=\"dataframe\">\n",
       "  <thead>\n",
       "    <tr style=\"text-align: right;\">\n",
       "      <th></th>\n",
       "      <th>Id</th>\n",
       "      <th>OrderId</th>\n",
       "      <th>ProductId</th>\n",
       "      <th>UnitPrice</th>\n",
       "      <th>Quantity</th>\n",
       "      <th>Discount</th>\n",
       "      <th>is_discount</th>\n",
       "    </tr>\n",
       "  </thead>\n",
       "  <tbody>\n",
       "    <tr>\n",
       "      <th>6</th>\n",
       "      <td>10250/51</td>\n",
       "      <td>10250</td>\n",
       "      <td>51</td>\n",
       "      <td>42.4</td>\n",
       "      <td>35</td>\n",
       "      <td>0.15</td>\n",
       "      <td>1</td>\n",
       "    </tr>\n",
       "    <tr>\n",
       "      <th>7</th>\n",
       "      <td>10250/65</td>\n",
       "      <td>10250</td>\n",
       "      <td>65</td>\n",
       "      <td>16.8</td>\n",
       "      <td>15</td>\n",
       "      <td>0.15</td>\n",
       "      <td>1</td>\n",
       "    </tr>\n",
       "    <tr>\n",
       "      <th>8</th>\n",
       "      <td>10251/22</td>\n",
       "      <td>10251</td>\n",
       "      <td>22</td>\n",
       "      <td>16.8</td>\n",
       "      <td>6</td>\n",
       "      <td>0.05</td>\n",
       "      <td>1</td>\n",
       "    </tr>\n",
       "    <tr>\n",
       "      <th>9</th>\n",
       "      <td>10251/57</td>\n",
       "      <td>10251</td>\n",
       "      <td>57</td>\n",
       "      <td>15.6</td>\n",
       "      <td>15</td>\n",
       "      <td>0.05</td>\n",
       "      <td>1</td>\n",
       "    </tr>\n",
       "    <tr>\n",
       "      <th>11</th>\n",
       "      <td>10252/20</td>\n",
       "      <td>10252</td>\n",
       "      <td>20</td>\n",
       "      <td>64.8</td>\n",
       "      <td>40</td>\n",
       "      <td>0.05</td>\n",
       "      <td>1</td>\n",
       "    </tr>\n",
       "  </tbody>\n",
       "</table>\n",
       "</div>"
      ],
      "text/plain": [
       "          Id  OrderId  ProductId  UnitPrice  Quantity  Discount  is_discount\n",
       "6   10250/51    10250         51       42.4        35      0.15            1\n",
       "7   10250/65    10250         65       16.8        15      0.15            1\n",
       "8   10251/22    10251         22       16.8         6      0.05            1\n",
       "9   10251/57    10251         57       15.6        15      0.05            1\n",
       "11  10252/20    10252         20       64.8        40      0.05            1"
      ]
     },
     "execution_count": 53,
     "metadata": {},
     "output_type": "execute_result"
    }
   ],
   "source": [
    "discountdf_discount = discountdf.loc[discountdf.is_discount == 1]\n",
    "discountdf_discount.head()"
   ]
  },
  {
   "cell_type": "code",
   "execution_count": 54,
   "metadata": {},
   "outputs": [
    {
     "data": {
      "text/html": [
       "<div>\n",
       "<style scoped>\n",
       "    .dataframe tbody tr th:only-of-type {\n",
       "        vertical-align: middle;\n",
       "    }\n",
       "\n",
       "    .dataframe tbody tr th {\n",
       "        vertical-align: top;\n",
       "    }\n",
       "\n",
       "    .dataframe thead th {\n",
       "        text-align: right;\n",
       "    }\n",
       "</style>\n",
       "<table border=\"1\" class=\"dataframe\">\n",
       "  <thead>\n",
       "    <tr style=\"text-align: right;\">\n",
       "      <th></th>\n",
       "      <th>Id</th>\n",
       "      <th>OrderId</th>\n",
       "      <th>ProductId</th>\n",
       "      <th>UnitPrice</th>\n",
       "      <th>Quantity</th>\n",
       "      <th>Discount</th>\n",
       "      <th>is_discount</th>\n",
       "    </tr>\n",
       "  </thead>\n",
       "  <tbody>\n",
       "    <tr>\n",
       "      <th>0</th>\n",
       "      <td>10248/11</td>\n",
       "      <td>10248</td>\n",
       "      <td>11</td>\n",
       "      <td>14.0</td>\n",
       "      <td>12</td>\n",
       "      <td>0.0</td>\n",
       "      <td>0</td>\n",
       "    </tr>\n",
       "    <tr>\n",
       "      <th>1</th>\n",
       "      <td>10248/42</td>\n",
       "      <td>10248</td>\n",
       "      <td>42</td>\n",
       "      <td>9.8</td>\n",
       "      <td>10</td>\n",
       "      <td>0.0</td>\n",
       "      <td>0</td>\n",
       "    </tr>\n",
       "    <tr>\n",
       "      <th>2</th>\n",
       "      <td>10248/72</td>\n",
       "      <td>10248</td>\n",
       "      <td>72</td>\n",
       "      <td>34.8</td>\n",
       "      <td>5</td>\n",
       "      <td>0.0</td>\n",
       "      <td>0</td>\n",
       "    </tr>\n",
       "    <tr>\n",
       "      <th>3</th>\n",
       "      <td>10249/14</td>\n",
       "      <td>10249</td>\n",
       "      <td>14</td>\n",
       "      <td>18.6</td>\n",
       "      <td>9</td>\n",
       "      <td>0.0</td>\n",
       "      <td>0</td>\n",
       "    </tr>\n",
       "    <tr>\n",
       "      <th>4</th>\n",
       "      <td>10249/51</td>\n",
       "      <td>10249</td>\n",
       "      <td>51</td>\n",
       "      <td>42.4</td>\n",
       "      <td>40</td>\n",
       "      <td>0.0</td>\n",
       "      <td>0</td>\n",
       "    </tr>\n",
       "  </tbody>\n",
       "</table>\n",
       "</div>"
      ],
      "text/plain": [
       "         Id  OrderId  ProductId  UnitPrice  Quantity  Discount  is_discount\n",
       "0  10248/11    10248         11       14.0        12       0.0            0\n",
       "1  10248/42    10248         42        9.8        10       0.0            0\n",
       "2  10248/72    10248         72       34.8         5       0.0            0\n",
       "3  10249/14    10249         14       18.6         9       0.0            0\n",
       "4  10249/51    10249         51       42.4        40       0.0            0"
      ]
     },
     "execution_count": 54,
     "metadata": {},
     "output_type": "execute_result"
    }
   ],
   "source": [
    "discountdf_no_discount = discountdf.loc[discountdf.is_discount == 0]\n",
    "discountdf_no_discount.head()"
   ]
  },
  {
   "cell_type": "markdown",
   "metadata": {},
   "source": [
    "Let's see what the average quantity ordered is for discount and no discount"
   ]
  },
  {
   "cell_type": "code",
   "execution_count": 57,
   "metadata": {},
   "outputs": [
    {
     "data": {
      "text/plain": [
       "count    838.000000\n",
       "mean      27.109785\n",
       "std       20.771439\n",
       "min        1.000000\n",
       "25%       12.000000\n",
       "50%       20.000000\n",
       "75%       36.000000\n",
       "max      130.000000\n",
       "Name: Quantity, dtype: float64"
      ]
     },
     "execution_count": 57,
     "metadata": {},
     "output_type": "execute_result"
    }
   ],
   "source": [
    "discountdf_discount.Quantity.describe()"
   ]
  },
  {
   "cell_type": "code",
   "execution_count": 58,
   "metadata": {},
   "outputs": [
    {
     "data": {
      "text/plain": [
       "count    1317.000000\n",
       "mean       21.715262\n",
       "std        17.507493\n",
       "min         1.000000\n",
       "25%        10.000000\n",
       "50%        18.000000\n",
       "75%        30.000000\n",
       "max       130.000000\n",
       "Name: Quantity, dtype: float64"
      ]
     },
     "execution_count": 58,
     "metadata": {},
     "output_type": "execute_result"
    }
   ],
   "source": [
    "discountdf_no_discount.Quantity.describe()"
   ]
  },
  {
   "cell_type": "code",
   "execution_count": 64,
   "metadata": {},
   "outputs": [
    {
     "data": {
      "image/png": "[encoded data removed]",
      "text/plain": [
       "<Figure size 432x288 with 1 Axes>"
      ]
     },
     "metadata": {
      "needs_background": "light"
     },
     "output_type": "display_data"
    }
   ],
   "source": [
    "sns.distplot(discountdf_discount.Quantity);"
   ]
  },
  {
   "cell_type": "code",
   "execution_count": 65,
   "metadata": {},
   "outputs": [
    {
     "data": {
      "image/png": "[encoded data removed]",
      "text/plain": [
       "<Figure size 432x288 with 1 Axes>"
      ]
     },
     "metadata": {
      "needs_background": "light"
     },
     "output_type": "display_data"
    }
   ],
   "source": [
    "sns.distplot(discountdf_no_discount.Quantity);"
   ]
  },
  {
   "cell_type": "markdown",
   "metadata": {},
   "source": [
    "It seems we need to cut down on outliers so I will do that now.  \n",
    "First to see where I should cut them.  \n",
    "My guess is around 70 for the discount one and probably around the same for no discount"
   ]
  },
  {
   "cell_type": "code",
   "execution_count": 81,
   "metadata": {},
   "outputs": [
    {
     "data": {
      "text/plain": [
       "70.0"
      ]
     },
     "execution_count": 81,
     "metadata": {},
     "output_type": "execute_result"
    }
   ],
   "source": [
    "discountdf_discount.Quantity.quantile(.95)"
   ]
  },
  {
   "cell_type": "code",
   "execution_count": 84,
   "metadata": {},
   "outputs": [
    {
     "data": {
      "text/plain": [
       "55.0"
      ]
     },
     "execution_count": 84,
     "metadata": {},
     "output_type": "execute_result"
    }
   ],
   "source": [
    "discountdf_no_discount.Quantity.quantile(.95)"
   ]
  },
  {
   "cell_type": "code",
   "execution_count": 106,
   "metadata": {},
   "outputs": [],
   "source": [
    "discountdf_discount = discountdf.loc[(discountdf.is_discount == 1) & (discountdf.Quantity <= 70)]\n",
    "discountdf_no_discount = discountdf.loc[(discountdf.is_discount == 0) & (discountdf.Quantity <= 55)]"
   ]
  },
  {
   "cell_type": "code",
   "execution_count": 86,
   "metadata": {},
   "outputs": [
    {
     "data": {
      "image/png": "[encoded data removed]",
      "text/plain": [
       "<Figure size 432x288 with 1 Axes>"
      ]
     },
     "metadata": {
      "needs_background": "light"
     },
     "output_type": "display_data"
    }
   ],
   "source": [
    "sns.distplot(discountdf_discount.Quantity);"
   ]
  },
  {
   "cell_type": "code",
   "execution_count": 87,
   "metadata": {},
   "outputs": [
    {
     "data": {
      "image/png": "[encoded data removed]",
      "text/plain": [
       "<Figure size 432x288 with 1 Axes>"
      ]
     },
     "metadata": {
      "needs_background": "light"
     },
     "output_type": "display_data"
    }
   ],
   "source": [
    "sns.distplot(discountdf_no_discount.Quantity);"
   ]
  },
  {
   "cell_type": "code",
   "execution_count": 90,
   "metadata": {},
   "outputs": [
    {
     "data": {
      "text/plain": [
       "count    809.000000\n",
       "mean      24.716934\n",
       "std       16.485674\n",
       "min        1.000000\n",
       "25%       12.000000\n",
       "50%       20.000000\n",
       "75%       35.000000\n",
       "max       70.000000\n",
       "Name: Quantity, dtype: float64"
      ]
     },
     "execution_count": 90,
     "metadata": {},
     "output_type": "execute_result"
    }
   ],
   "source": [
    "discountdf_discount.Quantity.describe()"
   ]
  },
  {
   "cell_type": "code",
   "execution_count": 94,
   "metadata": {},
   "outputs": [
    {
     "data": {
      "text/plain": [
       "count    1252.000000\n",
       "mean       19.031150\n",
       "std        12.550769\n",
       "min         1.000000\n",
       "25%        10.000000\n",
       "50%        16.000000\n",
       "75%        28.000000\n",
       "max        55.000000\n",
       "Name: Quantity, dtype: float64"
      ]
     },
     "execution_count": 94,
     "metadata": {},
     "output_type": "execute_result"
    }
   ],
   "source": [
    "discountdf_no_discount.Quantity.describe()"
   ]
  },
  {
   "cell_type": "code",
   "execution_count": 95,
   "metadata": {},
   "outputs": [
    {
     "data": {
      "text/plain": [
       "5.685784327276604"
      ]
     },
     "execution_count": 95,
     "metadata": {},
     "output_type": "execute_result"
    }
   ],
   "source": [
    "effect_size = discountdf_discount.Quantity.mean() - discountdf_no_discount.Quantity.mean()\n",
    "effect_size"
   ]
  },
  {
   "cell_type": "markdown",
   "metadata": {},
   "source": [
    "[Return to contents](#Table-of-contents)"
   ]
  },
  {
   "cell_type": "markdown",
   "metadata": {},
   "source": [
    "### What amount of discount makes the most difference with regards to quantity ordered?"
   ]
  },
  {
   "cell_type": "code",
   "execution_count": 113,
   "metadata": {
    "scrolled": true
   },
   "outputs": [],
   "source": [
    "discount_dummies = pd.get_dummies(discountdf_discount.Discount, prefix='Dis')"
   ]
  },
  {
   "cell_type": "code",
   "execution_count": 116,
   "metadata": {},
   "outputs": [
    {
     "data": {
      "text/html": [
       "<div>\n",
       "<style scoped>\n",
       "    .dataframe tbody tr th:only-of-type {\n",
       "        vertical-align: middle;\n",
       "    }\n",
       "\n",
       "    .dataframe tbody tr th {\n",
       "        vertical-align: top;\n",
       "    }\n",
       "\n",
       "    .dataframe thead th {\n",
       "        text-align: right;\n",
       "    }\n",
       "</style>\n",
       "<table border=\"1\" class=\"dataframe\">\n",
       "  <thead>\n",
       "    <tr style=\"text-align: right;\">\n",
       "      <th></th>\n",
       "      <th>Id</th>\n",
       "      <th>OrderId</th>\n",
       "      <th>ProductId</th>\n",
       "      <th>UnitPrice</th>\n",
       "      <th>Quantity</th>\n",
       "      <th>Discount</th>\n",
       "      <th>is_discount</th>\n",
       "      <th>Dis_0.01</th>\n",
       "      <th>Dis_0.02</th>\n",
       "      <th>Dis_0.03</th>\n",
       "      <th>Dis_0.04</th>\n",
       "      <th>Dis_0.05</th>\n",
       "      <th>Dis_0.06</th>\n",
       "      <th>Dis_0.1</th>\n",
       "      <th>Dis_0.15</th>\n",
       "      <th>Dis_0.2</th>\n",
       "      <th>Dis_0.25</th>\n",
       "    </tr>\n",
       "  </thead>\n",
       "  <tbody>\n",
       "    <tr>\n",
       "      <th>6</th>\n",
       "      <td>10250/51</td>\n",
       "      <td>10250</td>\n",
       "      <td>51</td>\n",
       "      <td>42.4</td>\n",
       "      <td>35</td>\n",
       "      <td>0.15</td>\n",
       "      <td>1</td>\n",
       "      <td>0</td>\n",
       "      <td>0</td>\n",
       "      <td>0</td>\n",
       "      <td>0</td>\n",
       "      <td>0</td>\n",
       "      <td>0</td>\n",
       "      <td>0</td>\n",
       "      <td>1</td>\n",
       "      <td>0</td>\n",
       "      <td>0</td>\n",
       "    </tr>\n",
       "    <tr>\n",
       "      <th>7</th>\n",
       "      <td>10250/65</td>\n",
       "      <td>10250</td>\n",
       "      <td>65</td>\n",
       "      <td>16.8</td>\n",
       "      <td>15</td>\n",
       "      <td>0.15</td>\n",
       "      <td>1</td>\n",
       "      <td>0</td>\n",
       "      <td>0</td>\n",
       "      <td>0</td>\n",
       "      <td>0</td>\n",
       "      <td>0</td>\n",
       "      <td>0</td>\n",
       "      <td>0</td>\n",
       "      <td>1</td>\n",
       "      <td>0</td>\n",
       "      <td>0</td>\n",
       "    </tr>\n",
       "    <tr>\n",
       "      <th>8</th>\n",
       "      <td>10251/22</td>\n",
       "      <td>10251</td>\n",
       "      <td>22</td>\n",
       "      <td>16.8</td>\n",
       "      <td>6</td>\n",
       "      <td>0.05</td>\n",
       "      <td>1</td>\n",
       "      <td>0</td>\n",
       "      <td>0</td>\n",
       "      <td>0</td>\n",
       "      <td>0</td>\n",
       "      <td>1</td>\n",
       "      <td>0</td>\n",
       "      <td>0</td>\n",
       "      <td>0</td>\n",
       "      <td>0</td>\n",
       "      <td>0</td>\n",
       "    </tr>\n",
       "    <tr>\n",
       "      <th>9</th>\n",
       "      <td>10251/57</td>\n",
       "      <td>10251</td>\n",
       "      <td>57</td>\n",
       "      <td>15.6</td>\n",
       "      <td>15</td>\n",
       "      <td>0.05</td>\n",
       "      <td>1</td>\n",
       "      <td>0</td>\n",
       "      <td>0</td>\n",
       "      <td>0</td>\n",
       "      <td>0</td>\n",
       "      <td>1</td>\n",
       "      <td>0</td>\n",
       "      <td>0</td>\n",
       "      <td>0</td>\n",
       "      <td>0</td>\n",
       "      <td>0</td>\n",
       "    </tr>\n",
       "    <tr>\n",
       "      <th>11</th>\n",
       "      <td>10252/20</td>\n",
       "      <td>10252</td>\n",
       "      <td>20</td>\n",
       "      <td>64.8</td>\n",
       "      <td>40</td>\n",
       "      <td>0.05</td>\n",
       "      <td>1</td>\n",
       "      <td>0</td>\n",
       "      <td>0</td>\n",
       "      <td>0</td>\n",
       "      <td>0</td>\n",
       "      <td>1</td>\n",
       "      <td>0</td>\n",
       "      <td>0</td>\n",
       "      <td>0</td>\n",
       "      <td>0</td>\n",
       "      <td>0</td>\n",
       "    </tr>\n",
       "  </tbody>\n",
       "</table>\n",
       "</div>"
      ],
      "text/plain": [
       "          Id  OrderId  ProductId  UnitPrice  Quantity  Discount  is_discount  \\\n",
       "6   10250/51    10250         51       42.4        35      0.15            1   \n",
       "7   10250/65    10250         65       16.8        15      0.15            1   \n",
       "8   10251/22    10251         22       16.8         6      0.05            1   \n",
       "9   10251/57    10251         57       15.6        15      0.05            1   \n",
       "11  10252/20    10252         20       64.8        40      0.05            1   \n",
       "\n",
       "    Dis_0.01  Dis_0.02  Dis_0.03  Dis_0.04  Dis_0.05  Dis_0.06  Dis_0.1  \\\n",
       "6          0         0         0         0         0         0        0   \n",
       "7          0         0         0         0         0         0        0   \n",
       "8          0         0         0         0         1         0        0   \n",
       "9          0         0         0         0         1         0        0   \n",
       "11         0         0         0         0         1         0        0   \n",
       "\n",
       "    Dis_0.15  Dis_0.2  Dis_0.25  \n",
       "6          1        0         0  \n",
       "7          1        0         0  \n",
       "8          0        0         0  \n",
       "9          0        0         0  \n",
       "11         0        0         0  "
      ]
     },
     "execution_count": 116,
     "metadata": {},
     "output_type": "execute_result"
    }
   ],
   "source": [
    "discountdf_discount = pd.concat([discountdf_discount, discount_dummies], axis=1)\n",
    "discountdf_discount.head()"
   ]
  },
  {
   "cell_type": "code",
   "execution_count": 130,
   "metadata": {},
   "outputs": [],
   "source": [
    "discountdf_discount.rename(columns={'Dis_0.01': 'Dis_01', 'Dis_0.02': 'Dis_02', 'Dis_0.03': 'Dis_03', 'Dis_0.04': 'Dis_04', 'Dis_0.05': 'Dis_05', 'Dis_0.06': 'Dis_06', 'Dis_0.1': 'Dis_1', 'Dis_0.15': 'Dis_15', 'Dis_0.2': 'Dis_2', 'Dis_0.25': 'Dis_25'}, inplace=True)"
   ]
  },
  {
   "cell_type": "code",
   "execution_count": 131,
   "metadata": {},
   "outputs": [
    {
     "data": {
      "text/plain": [
       "Index(['Id', 'OrderId', 'ProductId', 'UnitPrice', 'Quantity', 'Discount',\n",
       "       'is_discount', 'Dis_01', 'Dis_02', 'Dis_03', 'Dis_04', 'Dis_05',\n",
       "       'Dis_06', 'Dis_1', 'Dis_15', 'Dis_2', 'Dis_25'],\n",
       "      dtype='object')"
      ]
     },
     "execution_count": 131,
     "metadata": {},
     "output_type": "execute_result"
    }
   ],
   "source": [
    "discountdf_discount.columns"
   ]
  },
  {
   "cell_type": "markdown",
   "metadata": {},
   "source": [
    "See how many of each category we have"
   ]
  },
  {
   "cell_type": "code",
   "execution_count": 134,
   "metadata": {},
   "outputs": [
    {
     "data": {
      "text/plain": [
       "Id             10250/5110250/6510251/2210251/5710252/2010252/...\n",
       "OrderId                                                  8618230\n",
       "ProductId                                                  32066\n",
       "UnitPrice                                                21389.1\n",
       "Quantity                                                   19996\n",
       "Discount                                                  117.19\n",
       "is_discount                                                  809\n",
       "Dis_01                                                         1\n",
       "Dis_02                                                         2\n",
       "Dis_03                                                         3\n",
       "Dis_04                                                         1\n",
       "Dis_05                                                       177\n",
       "Dis_06                                                         1\n",
       "Dis_1                                                        167\n",
       "Dis_15                                                       150\n",
       "Dis_2                                                        157\n",
       "Dis_25                                                       150\n",
       "dtype: object"
      ]
     },
     "execution_count": 134,
     "metadata": {},
     "output_type": "execute_result"
    }
   ],
   "source": [
    "discountdf_discount.sum()"
   ]
  },
  {
   "cell_type": "code",
   "execution_count": 136,
   "metadata": {},
   "outputs": [],
   "source": [
    "discountdf_discount['Dis_1_to_6'] = 0\n",
    "discountdf_discount.loc[(discountdf_discount.Dis_01 == 1) | (discountdf_discount.Dis_02 == 1) | (discountdf_discount.Dis_03 == 1) | (discountdf_discount.Dis_04 == 1) | (discountdf_discount.Dis_05 == 1) | (discountdf_discount.Dis_06 == 1), 'Dis_1_to_6'] = 1 "
   ]
  },
  {
   "cell_type": "code",
   "execution_count": 138,
   "metadata": {},
   "outputs": [
    {
     "data": {
      "text/html": [
       "<div>\n",
       "<style scoped>\n",
       "    .dataframe tbody tr th:only-of-type {\n",
       "        vertical-align: middle;\n",
       "    }\n",
       "\n",
       "    .dataframe tbody tr th {\n",
       "        vertical-align: top;\n",
       "    }\n",
       "\n",
       "    .dataframe thead th {\n",
       "        text-align: right;\n",
       "    }\n",
       "</style>\n",
       "<table border=\"1\" class=\"dataframe\">\n",
       "  <thead>\n",
       "    <tr style=\"text-align: right;\">\n",
       "      <th></th>\n",
       "      <th>Id</th>\n",
       "      <th>OrderId</th>\n",
       "      <th>ProductId</th>\n",
       "      <th>UnitPrice</th>\n",
       "      <th>Quantity</th>\n",
       "      <th>Discount</th>\n",
       "      <th>is_discount</th>\n",
       "      <th>Dis_01</th>\n",
       "      <th>Dis_02</th>\n",
       "      <th>Dis_03</th>\n",
       "      <th>Dis_04</th>\n",
       "      <th>Dis_05</th>\n",
       "      <th>Dis_06</th>\n",
       "      <th>Dis_1</th>\n",
       "      <th>Dis_15</th>\n",
       "      <th>Dis_2</th>\n",
       "      <th>Dis_25</th>\n",
       "      <th>Dis_1_to_6</th>\n",
       "    </tr>\n",
       "  </thead>\n",
       "  <tbody>\n",
       "    <tr>\n",
       "      <th>2144</th>\n",
       "      <td>11077/39</td>\n",
       "      <td>11077</td>\n",
       "      <td>39</td>\n",
       "      <td>18.00</td>\n",
       "      <td>2</td>\n",
       "      <td>0.05</td>\n",
       "      <td>1</td>\n",
       "      <td>0</td>\n",
       "      <td>0</td>\n",
       "      <td>0</td>\n",
       "      <td>0</td>\n",
       "      <td>1</td>\n",
       "      <td>0</td>\n",
       "      <td>0</td>\n",
       "      <td>0</td>\n",
       "      <td>0</td>\n",
       "      <td>0</td>\n",
       "      <td>1</td>\n",
       "    </tr>\n",
       "    <tr>\n",
       "      <th>2146</th>\n",
       "      <td>11077/46</td>\n",
       "      <td>11077</td>\n",
       "      <td>46</td>\n",
       "      <td>12.00</td>\n",
       "      <td>3</td>\n",
       "      <td>0.02</td>\n",
       "      <td>1</td>\n",
       "      <td>0</td>\n",
       "      <td>1</td>\n",
       "      <td>0</td>\n",
       "      <td>0</td>\n",
       "      <td>0</td>\n",
       "      <td>0</td>\n",
       "      <td>0</td>\n",
       "      <td>0</td>\n",
       "      <td>0</td>\n",
       "      <td>0</td>\n",
       "      <td>1</td>\n",
       "    </tr>\n",
       "    <tr>\n",
       "      <th>2149</th>\n",
       "      <td>11077/60</td>\n",
       "      <td>11077</td>\n",
       "      <td>60</td>\n",
       "      <td>34.00</td>\n",
       "      <td>2</td>\n",
       "      <td>0.06</td>\n",
       "      <td>1</td>\n",
       "      <td>0</td>\n",
       "      <td>0</td>\n",
       "      <td>0</td>\n",
       "      <td>0</td>\n",
       "      <td>0</td>\n",
       "      <td>1</td>\n",
       "      <td>0</td>\n",
       "      <td>0</td>\n",
       "      <td>0</td>\n",
       "      <td>0</td>\n",
       "      <td>1</td>\n",
       "    </tr>\n",
       "    <tr>\n",
       "      <th>2150</th>\n",
       "      <td>11077/64</td>\n",
       "      <td>11077</td>\n",
       "      <td>64</td>\n",
       "      <td>33.25</td>\n",
       "      <td>2</td>\n",
       "      <td>0.03</td>\n",
       "      <td>1</td>\n",
       "      <td>0</td>\n",
       "      <td>0</td>\n",
       "      <td>1</td>\n",
       "      <td>0</td>\n",
       "      <td>0</td>\n",
       "      <td>0</td>\n",
       "      <td>0</td>\n",
       "      <td>0</td>\n",
       "      <td>0</td>\n",
       "      <td>0</td>\n",
       "      <td>1</td>\n",
       "    </tr>\n",
       "    <tr>\n",
       "      <th>2152</th>\n",
       "      <td>11077/73</td>\n",
       "      <td>11077</td>\n",
       "      <td>73</td>\n",
       "      <td>15.00</td>\n",
       "      <td>2</td>\n",
       "      <td>0.01</td>\n",
       "      <td>1</td>\n",
       "      <td>1</td>\n",
       "      <td>0</td>\n",
       "      <td>0</td>\n",
       "      <td>0</td>\n",
       "      <td>0</td>\n",
       "      <td>0</td>\n",
       "      <td>0</td>\n",
       "      <td>0</td>\n",
       "      <td>0</td>\n",
       "      <td>0</td>\n",
       "      <td>1</td>\n",
       "    </tr>\n",
       "  </tbody>\n",
       "</table>\n",
       "</div>"
      ],
      "text/plain": [
       "            Id  OrderId  ProductId  UnitPrice  Quantity  Discount  \\\n",
       "2144  11077/39    11077         39      18.00         2      0.05   \n",
       "2146  11077/46    11077         46      12.00         3      0.02   \n",
       "2149  11077/60    11077         60      34.00         2      0.06   \n",
       "2150  11077/64    11077         64      33.25         2      0.03   \n",
       "2152  11077/73    11077         73      15.00         2      0.01   \n",
       "\n",
       "      is_discount  Dis_01  Dis_02  Dis_03  Dis_04  Dis_05  Dis_06  Dis_1  \\\n",
       "2144            1       0       0       0       0       1       0      0   \n",
       "2146            1       0       1       0       0       0       0      0   \n",
       "2149            1       0       0       0       0       0       1      0   \n",
       "2150            1       0       0       1       0       0       0      0   \n",
       "2152            1       1       0       0       0       0       0      0   \n",
       "\n",
       "      Dis_15  Dis_2  Dis_25  Dis_1_to_6  \n",
       "2144       0      0       0           1  \n",
       "2146       0      0       0           1  \n",
       "2149       0      0       0           1  \n",
       "2150       0      0       0           1  \n",
       "2152       0      0       0           1  "
      ]
     },
     "execution_count": 138,
     "metadata": {},
     "output_type": "execute_result"
    }
   ],
   "source": [
    "discountdf_discount.tail()"
   ]
  },
  {
   "cell_type": "markdown",
   "metadata": {},
   "source": [
    "As all the lower discounts only have 1-3 of each I grouped them into one category"
   ]
  },
  {
   "cell_type": "code",
   "execution_count": 139,
   "metadata": {},
   "outputs": [
    {
     "name": "stdout",
     "output_type": "stream",
     "text": [
      "                      sum_sq     df          F    PR(>F)\n",
      "C(Dis_1_to_6)    2571.647211    1.0   9.479863  0.002148\n",
      "C(Dis_1)          704.681547    1.0   2.597668  0.107414\n",
      "C(Dis_15)        4574.067310    1.0  16.861384  0.000044\n",
      "C(Dis_2)         4555.651958    1.0  16.793500  0.000046\n",
      "C(Dis_25)        6051.074474    1.0  22.306076  0.000003\n",
      "Residual       218104.875547  804.0        NaN       NaN\n"
     ]
    }
   ],
   "source": [
    "formula1a = 'Quantity ~ C(Dis_1_to_6) + C(Dis_1) + C(Dis_15) + C(Dis_2) + C(Dis_25)'\n",
    "lm = ols(formula1a, discountdf_discount).fit()\n",
    "table = sm.stats.anova_lm(lm, typ=2)\n",
    "print(table)"
   ]
  },
  {
   "cell_type": "markdown",
   "metadata": {},
   "source": [
    "We can reject the null hypothosis only with discounts of .05, .15, .2 and .25 while with a 10% discount we can not reject the null hypothosis that it is not better then not having a discount"
   ]
  },
  {
   "cell_type": "markdown",
   "metadata": {},
   "source": [
    "[Return to contents](#Table-of-contents)"
   ]
  },
  {
   "cell_type": "markdown",
   "metadata": {},
   "source": [
    "## Conclusion"
   ]
  },
  {
   "cell_type": "code",
   "execution_count": null,
   "metadata": {},
   "outputs": [],
   "source": [
    "We can recommend using "
   ]
  },
  {
   "cell_type": "code",
   "execution_count": null,
   "metadata": {},
   "outputs": [],
   "source": []
  },
  {
   "cell_type": "code",
   "execution_count": null,
   "metadata": {},
   "outputs": [],
   "source": []
  },
  {
   "cell_type": "code",
   "execution_count": 27,
   "metadata": {},
   "outputs": [
    {
     "data": {
      "text/plain": [
       "[('Employee',),\n",
       " ('Category',),\n",
       " ('Customer',),\n",
       " ('Shipper',),\n",
       " ('Supplier',),\n",
       " ('Order',),\n",
       " ('Product',),\n",
       " ('OrderDetail',),\n",
       " ('CustomerCustomerDemo',),\n",
       " ('CustomerDemographic',),\n",
       " ('Region',),\n",
       " ('Territory',),\n",
       " ('EmployeeTerritory',)]"
      ]
     },
     "execution_count": 27,
     "metadata": {},
     "output_type": "execute_result"
    }
   ],
   "source": [
    "c.execute('''select name from sqlite_master where type = 'table';''')\n",
    "c.fetchall()"
   ]
  }
 ],
 "metadata": {
  "kernelspec": {
   "display_name": "Python [conda env:learn-env] *",
   "language": "python",
   "name": "conda-env-learn-env-py"
  },
  "language_info": {
   "codemirror_mode": {
    "name": "ipython",
    "version": 3
   },
   "file_extension": ".py",
   "mimetype": "text/x-python",
   "name": "python",
   "nbconvert_exporter": "python",
   "pygments_lexer": "ipython3",
   "version": "3.6.6"
  }
 },
 "nbformat": 4,
 "nbformat_minor": 2
}
